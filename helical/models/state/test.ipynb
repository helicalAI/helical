{
 "cells": [
  {
   "cell_type": "markdown",
   "id": "d53936df",
   "metadata": {},
   "source": [
    "# Generating Example Data"
   ]
  },
  {
   "cell_type": "markdown",
   "id": "9be814ae",
   "metadata": {},
   "source": [
    "We use data from the Virtual Cell Challenge for model training, inference, and finetuning."
   ]
  },
  {
   "cell_type": "code",
   "execution_count": null,
   "id": "af0c290e",
   "metadata": {},
   "outputs": [],
   "source": [
    "'''\n",
    "Download the dataset\n",
    "\n",
    "(taken from Colab Notebook by Adduri et al.\n",
    "https://colab.research.google.com/drive/1QKOtYP7bMpdgDJEipDxaJqOchv7oQ-_l#scrollTo=h0aSjKX7Rtyw)\n",
    "'''\n",
    "\n",
    "import requests\n",
    "from tqdm.auto import tqdm  # picks the best bar for the environment\n",
    "from zipfile import ZipFile\n",
    "from tqdm.auto import tqdm\n",
    "import os\n",
    "\n",
    "# Download the Replogle-Nadig training dataset.\n",
    "url = \"https://storage.googleapis.com/vcc_data_prod/datasets/state/competition_support_set.zip\"\n",
    "output_path = \"competition_support_set.zip\"\n",
    "\n",
    "# stream the download so we can track progress\n",
    "response = requests.get(url, stream=True)\n",
    "total = int(response.headers.get(\"content-length\", 0))\n",
    "\n",
    "with open(output_path, \"wb\") as f, tqdm(\n",
    "    total=total, unit='B', unit_scale=True, desc=\"Downloading\"\n",
    ") as bar:\n",
    "    for chunk in response.iter_content(chunk_size=8192):\n",
    "        if not chunk:\n",
    "            break\n",
    "        f.write(chunk)\n",
    "        bar.update(len(chunk))\n",
    "\n",
    "out_dir  = \"competition_support_set\"\n",
    "os.makedirs(out_dir, exist_ok=True)\n",
    "with ZipFile(output_path, 'r') as z:\n",
    "    for member in tqdm(z.infolist(), desc=\"Unzipping\", unit=\"file\"):\n",
    "        z.extract(member, out_dir)"
   ]
  },
  {
   "cell_type": "markdown",
   "id": "932b1523",
   "metadata": {},
   "source": [
    "# State embeddings"
   ]
  },
  {
   "cell_type": "code",
   "execution_count": 1,
   "id": "ff639641",
   "metadata": {},
   "outputs": [
    {
     "name": "stderr",
     "output_type": "stream",
     "text": [
      "INFO:datasets:PyTorch version 2.6.0 available.\n",
      "INFO:datasets:Polars version 1.33.0 available.\n",
      "INFO:helical.models.state.state_embeddings:Using model checkpoint: /home/rasched/.cache/helical/models/state/state_embed/se600m_model_weights.pt\n",
      "INFO:helical.models.state.state_embeddings:number of free parameters: 603245738\n",
      "INFO:helical.models.state.state_embeddings:Missing keys: []\n",
      "INFO:helical.models.state.state_embeddings:Successfully loaded model\n"
     ]
    }
   ],
   "source": [
    "from helical.models.state import stateEmbed\n",
    "from helical.models.state import stateConfig\n",
    "\n",
    "state_config = stateConfig(batch_size=16)\n",
    "state_embed = stateEmbed(configurer=state_config)"
   ]
  },
  {
   "cell_type": "code",
   "execution_count": null,
   "id": "93beeff3",
   "metadata": {},
   "outputs": [],
   "source": [
    "from sys import dont_write_bytecode\n",
    "from helical.utils import downloader\n",
    "import scanpy as sc\n",
    "\n",
    "adata = sc.read_h5ad(\"competition_support_set/competition_val_template.h5ad\")\n",
    "adata = adata[:2].copy()\n",
    "\n",
    "downloader = Downloader()\n",
    "downloader.download_via_name(\"model_dir/embed_utils/esm2_embeddings.pt\")"
   ]
  },
  {
   "cell_type": "code",
   "execution_count": 3,
   "id": "00f6e474",
   "metadata": {},
   "outputs": [
    {
     "name": "stderr",
     "output_type": "stream",
     "text": [
      "INFO:helical.models.state.state_embeddings:Auto-detected gene column: var.index (overlap: 17773/19790 protein embeddings, 98.3% of genes)\n",
      "INFO:/home/rasched/final_helical_with_state/helical/helical/models/state/model_dir/embed_utils/loader.py:17773 genes mapped to embedding file (out of 18080)\n",
      "INFO:/home/rasched/final_helical_with_state/helical/helical/models/state/model_dir/embed_utils/loader.py:17773 genes mapped to embedding file (out of 18080)\n",
      "Encoding: 100%|██████████| 1/1 [00:00<00:00,  1.44it/s]\n"
     ]
    }
   ],
   "source": [
    "processed_data1 = state_embed.process_data(adata=adata.copy())\n",
    "embeddings = state_embed.get_embeddings(processed_data1)"
   ]
  },
  {
   "cell_type": "code",
   "execution_count": null,
   "id": "3afb6ae1",
   "metadata": {},
   "outputs": [],
   "source": [
    "# import torch\n",
    "\n",
    "# def compare_models(model1, model2):\n",
    "#     params1 = list(model1.parameters())\n",
    "#     params2 = list(model2.parameters())\n",
    "    \n",
    "#     print(f\"Model 1 has {len(params1)} parameters\")\n",
    "#     print(f\"Model 2 has {len(params2)} parameters\")\n",
    "    \n",
    "#     for i, (p1, p2) in enumerate(zip(params1, params2)):\n",
    "#         if not torch.allclose(p1, p2, atol=1e-6):\n",
    "#             print(f\"Parameter {i} differs! Max diff: {torch.max(torch.abs(p1 - p2)).item()}\")\n",
    "#             return False\n",
    "#     print(\"All parameters are identical!\")\n",
    "#     return True\n",
    "\n",
    "# compare_models(state_embed.model, state_embed_torch.model)\n",
    "# print(state_embed.model.training, state_embed_torch.model.training)\n",
    "\n",
    "\n",
    "# adata = sc.read_h5ad(\"competition_support_set/competition_val_template.h5ad\")\n",
    "# adata = adata[:2].copy()\n",
    "\n",
    "# processed_data1 = state_embed.process_data(adata=adata.copy())\n",
    "# batch = next(iter(processed_data1))\n",
    "# print(batch)\n",
    "\n",
    "# with torch.no_grad():\n",
    "#     with torch.autocast(device_type=\"cuda\", dtype=torch.bfloat16):\n",
    "#         _, _, _, emb1, _ = state_embed.model._compute_embedding_for_batch(batch)\n",
    "#         _, _, _, emb2, _ = state_embed_torch.model._compute_embedding_for_batch(batch)\n",
    "    \n",
    "#     print(f\"Model 1 embedding: {emb1[0, :5]}\")\n",
    "#     print(f\"Model 2 embedding: {emb2[0, :5]}\")\n",
    "    \n",
    "#     # Compare\n",
    "#     diff = torch.abs(emb1 - emb2).sum()\n",
    "#     print(f\"Difference: {torch.max(diff).item()}\")"
   ]
  },
  {
   "cell_type": "code",
   "execution_count": null,
   "id": "189efeb1",
   "metadata": {},
   "outputs": [],
   "source": [
    "# Extract weights from checkpoint\n",
    "# import torch\n",
    "# checkpoint = state_embed.checkpoint['state_dict']\n",
    "# state_dict = state_embed.checkpoint['state_dict']\n",
    "# torch.save(state_dict, \"embed_model_epoch16_weights.pt\")"
   ]
  },
  {
   "cell_type": "markdown",
   "id": "1baf0eaa",
   "metadata": {},
   "source": [
    "# Training the Model"
   ]
  },
  {
   "cell_type": "markdown",
   "id": "ddc09026",
   "metadata": {},
   "source": [
    "The example data should generate a directory. Before training edit the `competition_support_set/starter.toml` file to point to the correct path on your machine. Here you can also change the train/test split but feel free to leave this at default."
   ]
  },
  {
   "cell_type": "code",
   "execution_count": null,
   "id": "f0896132",
   "metadata": {},
   "outputs": [],
   "source": [
    "# train the model on the training data\n",
    "from helical.models.state import stateTransitionTrainModel\n",
    "from helical.models.state.train_configs import trainingConfig\n",
    "\n",
    "train_config = trainingConfig(\n",
    "    output_dir=\"competition\",\n",
    "    name=\"first_run\",\n",
    "    toml_config_path=\"competition_support_set/starter.toml\",\n",
    "    checkpoint_name=\"final.ckpt\",\n",
    "    max_steps=40000,\n",
    "    max_epochs=1,\n",
    "    ckpt_every_n_steps=20000,\n",
    "    num_workers=4,\n",
    "    batch_col=\"batch_var\",\n",
    "    pert_col=\"target_gene\",\n",
    "    cell_type_key=\"cell_type\",\n",
    "    control_pert=\"non-targeting\",\n",
    "    perturbation_features_file=\"competition_support_set/ESM2_pert_features.pt\"\n",
    "    )\n",
    "\n",
    "state_train = stateTransitionTrainModel(configurer=train_config)\n",
    "state_train.train() \n",
    "state_train.predict() "
   ]
  },
  {
   "cell_type": "markdown",
   "id": "87e308f7",
   "metadata": {},
   "source": [
    "Once the model is trained we can perform inference on a new dataset using:"
   ]
  },
  {
   "cell_type": "code",
   "execution_count": null,
   "id": "80638e64",
   "metadata": {},
   "outputs": [],
   "source": [
    "from helical.models.state import stateTransitionModel\n",
    "\n",
    "state_config = stateConfig(\n",
    "    output = \"competition/prediction.h5ad\",\n",
    "    model_dir = \"competition/first_run\",\n",
    "    model_config = \"model_dir/config.yaml\",\n",
    "    pert_col = \"target_gene\",\n",
    ")\n",
    "\n",
    "adata = sc.read_h5ad(\"competition_support_set/competition_val_template.h5ad\")\n",
    "\n",
    "state_transition = stateTransitionModel(configurer=state_config)\n",
    "adata = state_transition.process_data(adata)\n",
    "embeds = state_transition.get_embeddings(adata)"
   ]
  },
  {
   "cell_type": "markdown",
   "id": "0ed628ad",
   "metadata": {},
   "source": [
    "# Creating a Virtual Cell Challenge Submission"
   ]
  },
  {
   "cell_type": "markdown",
   "id": "dff8d420",
   "metadata": {},
   "source": [
    "To create a submission for the Virtual Cell Challenge we pass our previous prediction file into `helical.models.state.vcc_eval` which uses the `cell-eval` package. This will generate a `.vcc` file that can be uploaded to the public leaderboard."
   ]
  },
  {
   "cell_type": "code",
   "execution_count": null,
   "id": "d274d004",
   "metadata": {},
   "outputs": [],
   "source": [
    "# evaluate the model - underlying function uses cell-eval package \n",
    "# (https://github.com/ArcInstitute/cell-eval)\n",
    "from helical.models.state import vcc_eval\n",
    "\n",
    "# default configs for competition dataset\n",
    "EXPECTED_GENE_DIM = 18080\n",
    "MAX_CELL_DIM = 100000\n",
    "DEFAULT_PERT_COL = \"target_gene\"\n",
    "DEFAULT_CTRL = \"non-targeting\"\n",
    "DEFAULT_COUNTS_COL = \"n_cells\"\n",
    "DEFAULT_CELLTYPE_COL = \"celltype\"\n",
    "DEFAULT_NTC_NAME = \"non-targeting\"\n",
    "\n",
    "configs = {\n",
    "    # path to the prediction file\n",
    "    \"input\": \"competition/prediction.h5ad\",\n",
    "    # path to the gene names file\n",
    "    \"genes\": \"competition_support_set/gene_names.csv\",\n",
    "    # path to the output file - if None will be created with default naming\n",
    "    \"output\": None,\n",
    "    \"pert_col\": DEFAULT_PERT_COL,\n",
    "    \"celltype_col\": None,\n",
    "    \"ntc_name\": DEFAULT_NTC_NAME,\n",
    "    \"output_pert_col\": DEFAULT_PERT_COL,\n",
    "    \"output_celltype_col\": DEFAULT_CELLTYPE_COL,\n",
    "    \"encoding\": 32,\n",
    "    \"allow_discrete\": False,\n",
    "    \"expected_gene_dim\": EXPECTED_GENE_DIM,\n",
    "    \"max_cell_dim\": MAX_CELL_DIM,\n",
    "}\n",
    "\n",
    "# this creates a submission file in the output directory which can be uploaded to the challenge leaderboard\n",
    "vcc_eval(configs)"
   ]
  },
  {
   "cell_type": "markdown",
   "id": "9d230564",
   "metadata": {},
   "source": [
    "# Finetuning Example"
   ]
  },
  {
   "cell_type": "markdown",
   "id": "dbeb5a23",
   "metadata": {},
   "source": [
    "We can further finetune the model. This can start with a model directory containing a `.ckpt` file. If the model directory does not exists, one will be created and so will a new model instance. The finetuning will produce model weights and head weights that will be saved and training will resume from these `.pt` files in the directory (if present)."
   ]
  },
  {
   "cell_type": "code",
   "execution_count": null,
   "id": "611a46bf",
   "metadata": {},
   "outputs": [],
   "source": [
    "from helical.models.state import stateFineTuningModel\n",
    "\n",
    "# Load the desired dataset\n",
    "adata = sc.read_h5ad(\"competition_support_set/competition_val_template.h5ad\")\n",
    "\n",
    "# Get the desired label class\n",
    "cell_types = list(adata.obs.cell_type)\n",
    "label_set = set(cell_types)\n",
    "\n",
    "# Create the fine-tuning model (no need to specify var_dims location)\n",
    "config = stateConfig(\n",
    "    batch_size=8,\n",
    "    model_dir=\"competition/first_run\",\n",
    "    model_config=\"model_dir/config.yaml\",\n",
    "    freeze_backbone=True\n",
    ")\n",
    "\n",
    "model = stateFineTuningModel(\n",
    "    configurer=config, \n",
    "    fine_tuning_head=\"classification\", \n",
    "    output_size=len(label_set),\n",
    ")\n",
    "\n",
    "# Process the data for training\n",
    "data = model.process_data(adata)\n",
    "\n",
    "# Create a dictionary mapping the classes to unique integers for training\n",
    "class_id_dict = dict(zip(label_set, [i for i in range(len(label_set))]))\n",
    "\n",
    "for i in range(len(cell_types)):\n",
    "    cell_types[i] = class_id_dict[cell_types[i]]\n",
    "\n",
    "# Fine-tune\n",
    "model.train(train_input_data=data, train_labels=cell_types)"
   ]
  }
 ],
 "metadata": {
  "kernelspec": {
   "display_name": "helical",
   "language": "python",
   "name": "python3"
  },
  "language_info": {
   "codemirror_mode": {
    "name": "ipython",
    "version": 3
   },
   "file_extension": ".py",
   "mimetype": "text/x-python",
   "name": "python",
   "nbconvert_exporter": "python",
   "pygments_lexer": "ipython3",
   "version": "3.11.13"
  }
 },
 "nbformat": 4,
 "nbformat_minor": 5
}
