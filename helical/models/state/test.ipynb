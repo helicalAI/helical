{
 "cells": [
  {
   "cell_type": "markdown",
   "id": "d53936df",
   "metadata": {},
   "source": [
    "# Generating Example Data"
   ]
  },
  {
   "cell_type": "markdown",
   "id": "9be814ae",
   "metadata": {},
   "source": [
    "We use data from the Virtual Cell Challenge for model training, inference, and finetuning."
   ]
  },
  {
   "cell_type": "code",
   "execution_count": null,
   "id": "af0c290e",
   "metadata": {},
   "outputs": [],
   "source": [
    "'''\n",
    "Download the dataset\n",
    "\n",
    "(taken from Colab Notebook by Adduri et al.\n",
    "https://colab.research.google.com/drive/1QKOtYP7bMpdgDJEipDxaJqOchv7oQ-_l#scrollTo=h0aSjKX7Rtyw)\n",
    "'''\n",
    "\n",
    "import requests\n",
    "from tqdm.auto import tqdm  # picks the best bar for the environment\n",
    "from zipfile import ZipFile\n",
    "from tqdm.auto import tqdm\n",
    "import os\n",
    "\n",
    "# Download the Replogle-Nadig training dataset.\n",
    "url = \"https://storage.googleapis.com/vcc_data_prod/datasets/state/competition_support_set.zip\"\n",
    "output_path = \"competition_support_set.zip\"\n",
    "\n",
    "# stream the download so we can track progress\n",
    "response = requests.get(url, stream=True)\n",
    "total = int(response.headers.get(\"content-length\", 0))\n",
    "\n",
    "with open(output_path, \"wb\") as f, tqdm(\n",
    "    total=total, unit='B', unit_scale=True, desc=\"Downloading\"\n",
    ") as bar:\n",
    "    for chunk in response.iter_content(chunk_size=8192):\n",
    "        if not chunk:\n",
    "            break\n",
    "        f.write(chunk)\n",
    "        bar.update(len(chunk))\n",
    "\n",
    "out_dir  = \"competition_support_set\"\n",
    "os.makedirs(out_dir, exist_ok=True)\n",
    "with ZipFile(output_path, 'r') as z:\n",
    "    for member in tqdm(z.infolist(), desc=\"Unzipping\", unit=\"file\"):\n",
    "        z.extract(member, out_dir)"
   ]
  },
  {
   "cell_type": "markdown",
   "id": "932b1523",
   "metadata": {},
   "source": [
    "# State embeddings"
   ]
  },
  {
   "cell_type": "code",
   "execution_count": null,
   "id": "ff639641",
   "metadata": {},
   "outputs": [],
   "source": [
    "from helical.models.state import stateEmbed\n",
    "from helical.models.state import stateConfig\n",
    "\n",
    "state_config = stateConfig(batch_size=16)\n",
    "state_embed = stateEmbed(configurer=state_config)"
   ]
  },
  {
   "cell_type": "code",
   "execution_count": null,
   "id": "1c4536bb",
   "metadata": {},
   "outputs": [],
   "source": [
    "from helical.utils.downloader import Downloader\n",
    "from pathlib import Path\n",
    "downloader = Downloader()\n",
    "downloader.download_via_link(\n",
    "    Path(\"yolksac_human.h5ad\"),\n",
    "    \"https://huggingface.co/datasets/helical-ai/yolksac_human/resolve/main/data/17_04_24_YolkSacRaw_F158_WE_annots.h5ad?download=true\",)\n",
    "    \n",
    "from helical.models.state import stateEmbed, stateConfig\n",
    "import scanpy as sc\n",
    "\n",
    "# Load your data\n",
    "anndata = sc.read_h5ad(\"yolksac_human.h5ad\")\n",
    "anndata = anndata[:10].copy()\n",
    "# Initialize the model\n",
    "state_config = stateConfig(batch_size=16)\n",
    "state_embed = stateEmbed(configurer=state_config)\n",
    "\n",
    "# Process and get embeddings\n",
    "processed_data = state_embed.process_data(adata=anndata)\n",
    "embeddings = state_embed.get_embeddings(processed_data)"
   ]
  },
  {
   "cell_type": "markdown",
   "id": "98545317",
   "metadata": {},
   "source": []
  },
  {
   "cell_type": "markdown",
   "id": "b5ef3e5a",
   "metadata": {},
   "source": []
  },
  {
   "cell_type": "markdown",
   "id": "c9ce1567",
   "metadata": {},
   "source": []
  },
  {
   "cell_type": "code",
   "execution_count": null,
   "id": "b0db2322",
   "metadata": {},
   "outputs": [],
   "source": [
    "import scanpy as sc\n",
    "\n",
    "# Load your yolksac data\n",
    "adata = sc.read_h5ad(\"yolksac_human.h5ad\")\n",
    "\n",
    "# Print basic info about the AnnData object\n",
    "print(\"=== AnnData Object Info ===\")\n",
    "print(adata)\n",
    "\n",
    "print(\"\\n=== Observation keys (cell metadata) ===\")\n",
    "print(\"adata.obs columns:\")\n",
    "print(adata.obs.columns.tolist())\n",
    "\n",
    "print(\"\\n=== Variable keys (gene metadata) ===\")\n",
    "print(\"adata.var columns:\")\n",
    "print(adata.var.columns.tolist())\n",
    "\n",
    "print(\"\\n=== Unstructured annotations ===\")\n",
    "print(\"adata.uns keys:\")\n",
    "print(list(adata.uns.keys()))\n",
    "\n",
    "print(\"\\n=== Observation matrices (embeddings, etc.) ===\")\n",
    "print(\"adata.obsm keys:\")\n",
    "print(list(adata.obsm.keys()))\n",
    "\n",
    "print(\"\\n=== Variable matrices ===\")\n",
    "print(\"adata.varm keys:\")\n",
    "print(list(adata.varm.keys()))\n",
    "\n",
    "print(\"\\n=== Variable pairs ===\")\n",
    "print(\"adata.varp keys:\")\n",
    "print(list(adata.varp.keys()))\n",
    "\n",
    "print(\"\\n=== Observation pairs ===\")\n",
    "print(\"adata.obsp keys:\")\n",
    "print(list(adata.obsp.keys()))\n",
    "\n",
    "adata.X"
   ]
  },
  {
   "cell_type": "markdown",
   "id": "d542eb46",
   "metadata": {},
   "source": [
    "import pic"
   ]
  },
  {
   "cell_type": "code",
   "execution_count": null,
   "id": "a1e64dde",
   "metadata": {},
   "outputs": [],
   "source": [
    "import pickle\n",
    "\n",
    "# From state_transition.py lines 45-49:\n",
    "with open(\"/home/rasched/.cache/helical/models/state/state_transition/var_dims.pkl\", \"rb\") as f:\n",
    "    var_dims = pickle.load(f)\n",
    "\n",
    "pert_dim = var_dims.get(\"pert_dim\")      # Number of perturbation types\n",
    "batch_dim = var_dims.get(\"batch_dim\", None)  # Number of batch types\n",
    "\n",
    "print(var_dims)"
   ]
  },
  {
   "cell_type": "markdown",
   "id": "7e057ab2",
   "metadata": {},
   "source": []
  },
  {
   "cell_type": "markdown",
   "id": "215bad01",
   "metadata": {},
   "source": []
  },
  {
   "cell_type": "markdown",
   "id": "91baedae",
   "metadata": {},
   "source": []
  },
  {
   "cell_type": "code",
   "execution_count": null,
   "id": "a778144c",
   "metadata": {},
   "outputs": [],
   "source": [
    "import scanpy as sc\n",
    "import numpy as np\n",
    "from helical.models.state import stateTransitionModel, stateConfig\n",
    "\n",
    "# 1. Load your yolksac data\n",
    "adata = sc.read_h5ad(\"yolksac_human.h5ad\")\n",
    "print(f\"Original data shape: {adata.shape}\")\n",
    "\n",
    "# 2. Subset to 10 cells\n",
    "adata = adata[:10].copy()\n",
    "print(f\"Subset data shape: {adata.shape}\")\n",
    "\n",
    "# 3. Check what process_data returns\n",
    "from helical.models.state import stateEmbed, stateConfig as embedConfig\n",
    "\n",
    "print(\"Generating embeddings...\")\n",
    "embed_config = embedConfig(batch_size=16)\n",
    "state_embed = stateEmbed(configurer=embed_config)\n",
    "\n",
    "# Debug: Check what process_data returns\n",
    "processed_data = state_embed.process_data(adata=adata)\n",
    "\n",
    "# Debug: Check what get_embeddings returns\n",
    "embeddings = state_embed.get_embeddings(processed_data)\n",
    "print(f\"Embeddings shape: {embeddings.shape}\")\n",
    "print(f\"Expected shape: ({adata.n_obs}, embedding_dim)\")\n",
    "# 5. Now add embeddings\n",
    "adata.obsm['X_state_emb'] = embeddings\n",
    "print(f\"Successfully added embeddings: {adata.obsm['X_state_emb'].shape}\")"
   ]
  },
  {
   "cell_type": "code",
   "execution_count": null,
   "id": "c724a717",
   "metadata": {},
   "outputs": [],
   "source": [
    "adata.obsm['X_state_emb'].shape "
   ]
  },
  {
   "cell_type": "code",
   "execution_count": null,
   "id": "bbe96519",
   "metadata": {},
   "outputs": [],
   "source": []
  },
  {
   "cell_type": "code",
   "execution_count": null,
   "metadata": {},
   "outputs": [],
   "source": []
  },
  {
   "cell_type": "code",
   "execution_count": null,
   "id": "56cd6331",
   "metadata": {},
   "outputs": [],
   "source": []
  },
  {
   "cell_type": "code",
   "execution_count": null,
   "id": "9676ec17",
   "metadata": {},
   "outputs": [],
   "source": []
  },
  {
   "cell_type": "code",
   "execution_count": null,
   "id": "43f147f3",
   "metadata": {},
   "outputs": [],
   "source": []
  },
  {
   "cell_type": "code",
   "execution_count": null,
   "id": "b4e7f300",
   "metadata": {},
   "outputs": [],
   "source": [
    "import scanpy as sc\n",
    "import numpy as np\n",
    "from helical.models.state import stateTransitionModel, stateConfig\n",
    "\n",
    "# 1. Load your yolksac data\n",
    "adata = sc.read_h5ad(\"yolksac_human.h5ad\")\n",
    "print(f\"Loaded data: {adata.shape}\")\n",
    "\n",
    "# 2. Subset FIRST, then generate embeddings\n",
    "adata = adata[:2000].copy()  # Subset to 10 cells\n",
    "print(f\"Subset data: {adata.shape}\")\n",
    "\n",
    "# 3. Generate embeddings for the subset\n",
    "from helical.models.state import stateEmbed, stateConfig as embedConfig\n",
    "\n",
    "print(\"Generating embeddings...\")\n",
    "embed_config = embedConfig(batch_size=16)\n",
    "state_embed = stateEmbed(configurer=embed_config)\n",
    "\n",
    "processed_data = state_embed.process_data(adata=adata)\n",
    "embeddings = state_embed.get_embeddings(processed_data)\n",
    "\n",
    "# 4. Now the shapes match\n",
    "print(f\"Embeddings shape: {embeddings.shape}\")\n",
    "print(f\"Data shape: {adata.shape}\")\n",
    "\n",
    "# Add embeddings to your data\n",
    "adata.obsm['X_state_emb'] = embeddings\n",
    "print(f\"Successfully added embeddings: {adata.obsm['X_state_emb'].shape}\")"
   ]
  },
  {
   "cell_type": "markdown",
   "id": "7d60f1a2",
   "metadata": {},
   "source": []
  },
  {
   "cell_type": "markdown",
   "id": "f18a5637",
   "metadata": {},
   "source": []
  },
  {
   "cell_type": "markdown",
   "id": "67e8153e",
   "metadata": {},
   "source": []
  },
  {
   "cell_type": "markdown",
   "id": "5ec2d0f1",
   "metadata": {},
   "source": []
  },
  {
   "cell_type": "code",
   "execution_count": null,
   "id": "3a69130d",
   "metadata": {},
   "outputs": [],
   "source": [
    "n_cells = adata.n_obs\n",
    "print(adata.obsm['X_state_emb'].shape)\n",
    "# 3. Set up perturbation labels\n",
    "# Create some virtual perturbations to test\n",
    "n_cells = adata.n_obs\n",
    "perturbations = [\n",
    "    \"[('DMSO_TF', 0.0, 'uM')]\",  # Control\n",
    "    \"[('Aspirin', 0.5, 'uM')]\",\n",
    "    \"[('Dexamethasone', 1.0, 'uM')]\",\n",
    "]\n",
    "\n",
    "# Assign perturbations to cells (you can adjust the distribution)\n",
    "adata.obs['target_gene'] = np.random.choice(perturbations, size=n_cells)\n",
    "adata.obs['cell_type'] = adata.obs['LVL1']  # Use your cell type column\n",
    "\n",
    "batch_labels = np.random.choice(['batch_1', 'batch_2', 'batch_3', 'batch_4'], size=n_cells)\n",
    "adata.obs['batch_var'] = batch_labels\n",
    "\n",
    "print(f\"Perturbation distribution:\")\n",
    "print(adata.obs['target_gene'].value_counts())\n"
   ]
  },
  {
   "cell_type": "code",
   "execution_count": null,
   "id": "100b9401",
   "metadata": {},
   "outputs": [],
   "source": [
    "print(adata.obsm['X_state_emb'].shape)\n",
    "adata_new = adata.copy()\n",
    "adata_new.obsm['X_state_emb'] = adata_new.obsm['X_state_emb'][:, :2000]  # Truncate embeddings to 2000 dims\n",
    "print(adata_new.obsm['X_state_emb'].shape)"
   ]
  },
  {
   "cell_type": "code",
   "execution_count": null,
   "id": "d9bc681d",
   "metadata": {},
   "outputs": [],
   "source": [
    "# 4. Configure the transition model\n",
    "import scanpy as sc\n",
    "from helical.models.state import stateTransitionModel, stateConfig\n",
    "# state transition model trained on 2000 genes\n",
    "# adata = sc.read_h5ad(\"yolksac_human.h5ad\")\n",
    "# adata_new = adata[:, :2000].copy()\n",
    "# adata.obs['batch_var'] = 'batch_1'  # or some other identifier\n",
    "n_cells = adata_new.n_obs\n",
    "# 3. Set up perturbation labels\n",
    "# Create some virtual perturbations to test\n",
    "n_cells = adata_new.n_obs\n",
    "perturbations = [\n",
    "    \"[('DMSO_TF', 0.0, 'uM')]\",  # Control\n",
    "    \"[('Aspirin', 0.5, 'uM')]\",\n",
    "    \"[('Dexamethasone', 1.0, 'uM')]\",\n",
    "]\n",
    "\n",
    "# Assign perturbations to cells (you can adjust the distribution)\n",
    "adata_new.obs['target_gene'] = np.random.choice(perturbations, size=n_cells)\n",
    "adata_new.obs['cell_type'] = adata_new.obs['LVL1']  # Use your cell type column\n",
    "\n",
    "batch_labels = np.random.choice(['batch_1', 'batch_2', 'batch_3', 'batch_4'], size=n_cells)\n",
    "adata_new.obs['batch_var'] = batch_labels\n",
    "\n",
    "config = stateConfig(\n",
    "    embed_key='X_state_emb',\n",
    "    pert_col=\"target_gene\",\n",
    "    celltype_col=\"cell_type\",\n",
    "    control_pert=\"[('DMSO_TF', 0.0, 'uM')]\",\n",
    "    output=\"yolksac_predictions.h5ad\",\n",
    ")\n",
    "\n",
    "# 5. Run inference\n",
    "print(\"Running perturbation predictions...\")\n",
    "state_transition = stateTransitionModel(configurer=config)\n",
    "adata_processed = state_transition.process_data(adata_new)\n",
    "embeddings = state_transition.get_embeddings(adata_processed)"
   ]
  },
  {
   "cell_type": "markdown",
   "id": "2869b8de",
   "metadata": {},
   "source": []
  },
  {
   "cell_type": "markdown",
   "id": "6ef0939c",
   "metadata": {},
   "source": []
  },
  {
   "cell_type": "markdown",
   "id": "45f8228a",
   "metadata": {},
   "source": []
  },
  {
   "cell_type": "code",
   "execution_count": null,
   "id": "3bae96cb",
   "metadata": {},
   "outputs": [],
   "source": [
    "import scanpy as sc\n",
    "from helical.models.state import stateFineTuningModel, stateConfig  # Changed import\n",
    "import pandas as pd\n",
    "import numpy as np\n",
    "\n",
    "# Load the predictions file\n",
    "adata = sc.read_h5ad(\"yolksac_human.h5ad\")\n",
    "adata = adata[:100, :2000].copy()\n",
    "n_cells = adata.n_obs\n",
    "\n",
    "# 3. Set up perturbation labels\n",
    "# Create some virtual perturbations to test\n",
    "n_cells = adata.n_obs\n",
    "perturbations = [\n",
    "    \"[('DMSO_TF', 0.0, 'uM')]\",  # Control\n",
    "    \"[('Aspirin', 0.5, 'uM')]\",\n",
    "    \"[('Dexamethasone', 1.0, 'uM')]\",\n",
    "]\n",
    "\n",
    "# Assign perturbations to cells (you can adjust the distribution)\n",
    "adata.obs['target_gene'] = np.random.choice(perturbations, size=n_cells)\n",
    "adata.obs['cell_type'] = adata.obs['LVL1']  # Use your cell type column\n",
    "\n",
    "batch_labels = np.random.choice(['batch_1', 'batch_2', 'batch_3', 'batch_4'], size=n_cells)\n",
    "adata.obs['batch_var'] = batch_labels\n",
    "\n",
    "# Get the desired label class (using LVL1 as cell types)\n",
    "cell_types = list(adata.obs['LVL1'])\n",
    "label_set = set(cell_types)\n",
    "\n",
    "print(f\"Found {len(label_set)} unique cell types:\")\n",
    "print(label_set)\n",
    "\n",
    "# Create the fine-tuning model\n",
    "config = stateConfig(\n",
    "    embed_key=None,  # Use gene expression instead of embeddings\n",
    "    pert_col=\"target_gene\",\n",
    "    celltype_col=\"cell_type\",\n",
    "    control_pert=\"[('DMSO_TF', 0.0, 'uM')]\",\n",
    "    batch_size=8,  # Add batch size\n",
    ")\n",
    "\n",
    "model = stateFineTuningModel(  # Changed class name\n",
    "    configurer=config, \n",
    "    fine_tuning_head=\"classification\", \n",
    "    output_size=len(label_set),\n",
    "    freeze_backbone=False\n",
    ")\n",
    "\n",
    "# Process the data for training\n",
    "data = model.process_data(adata)\n",
    "\n",
    "# Create a dictionary mapping the classes to unique integers for training\n",
    "class_id_dict = dict(zip(label_set, [i for i in range(len(label_set))]))\n",
    "\n",
    "# Convert cell type labels to integers\n",
    "cell_type_labels = [class_id_dict[ct] for ct in cell_types]\n",
    "\n",
    "print(f\"Class mapping: {class_id_dict}\")\n",
    "\n",
    "# Fine-tune\n",
    "model.train(train_input_data=data, train_labels=cell_type_labels)"
   ]
  },
  {
   "cell_type": "markdown",
   "id": "a98428b4",
   "metadata": {},
   "source": []
  },
  {
   "cell_type": "markdown",
   "id": "3edee15a",
   "metadata": {},
   "source": []
  },
  {
   "cell_type": "markdown",
   "id": "c5f613f6",
   "metadata": {},
   "source": []
  },
  {
   "cell_type": "markdown",
   "id": "76cfa681",
   "metadata": {},
   "source": []
  },
  {
   "cell_type": "code",
   "execution_count": null,
   "id": "b5489a0f",
   "metadata": {},
   "outputs": [],
   "source": [
    "import pickle\n",
    "\n",
    "# Read var_dims.pkl\n",
    "with open(\"/home/rasched/.cache/helical/models/state/state_transition/var_dims.pkl\", \"rb\") as f:\n",
    "    var_dims = pickle.load(f)\n",
    "\n",
    "print(\"=== var_dims.pkl contents ===\")\n",
    "for key, value in var_dims.items():\n",
    "    if isinstance(value, (list, tuple)) and len(value) > 10:\n",
    "        print(f\"{key}: {type(value)} with {len(value)} items\")\n",
    "        print(f\"  First 5: {value[:5]}\")\n",
    "    else:\n",
    "        print(f\"{key}: {value}\")\n",
    "\n",
    "# Read batch_onehot_map.pkl\n",
    "with open(\"/home/rasched/.cache/helical/models/state/state_transition/batch_onehot_map.pkl\", \"rb\") as f:\n",
    "    batch_map = pickle.load(f)\n",
    "\n",
    "print(\"\\n=== batch_onehot_map.pkl contents ===\")\n",
    "print(f\"Number of batch mappings: {len(batch_map)}\")\n",
    "for key, value in list(batch_map.items())[:5]:  # Show first 5\n",
    "    print(f\"  '{key}': {value}\")"
   ]
  },
  {
   "cell_type": "markdown",
   "id": "16b2ac92",
   "metadata": {},
   "source": []
  },
  {
   "cell_type": "markdown",
   "id": "a1cd7ca4",
   "metadata": {},
   "source": []
  },
  {
   "cell_type": "code",
   "execution_count": null,
   "id": "3afb6ae1",
   "metadata": {},
   "outputs": [],
   "source": [
    "# import torch\n",
    "\n",
    "# def compare_models(model1, model2):\n",
    "#     params1 = list(model1.parameters())\n",
    "#     params2 = list(model2.parameters())\n",
    "    \n",
    "#     print(f\"Model 1 has {len(params1)} parameters\")\n",
    "#     print(f\"Model 2 has {len(params2)} parameters\")\n",
    "    \n",
    "#     for i, (p1, p2) in enumerate(zip(params1, params2)):\n",
    "#         if not torch.allclose(p1, p2, atol=1e-6):\n",
    "#             print(f\"Parameter {i} differs! Max diff: {torch.max(torch.abs(p1 - p2)).item()}\")\n",
    "#             return False\n",
    "#     print(\"All parameters are identical!\")\n",
    "#     return True\n",
    "\n",
    "# compare_models(state_embed.model, state_embed_torch.model)\n",
    "# print(state_embed.model.training, state_embed_torch.model.training)\n",
    "\n",
    "\n",
    "# adata = sc.read_h5ad(\"competition_support_set/competition_val_template.h5ad\")\n",
    "# adata = adata[:2].copy()\n",
    "\n",
    "# processed_data1 = state_embed.process_data(adata=adata.copy())\n",
    "# batch = next(iter(processed_data1))\n",
    "# print(batch)\n",
    "\n",
    "# with torch.no_grad():\n",
    "#     with torch.autocast(device_type=\"cuda\", dtype=torch.bfloat16):\n",
    "#         _, _, _, emb1, _ = state_embed.model._compute_embedding_for_batch(batch)\n",
    "#         _, _, _, emb2, _ = state_embed_torch.model._compute_embedding_for_batch(batch)\n",
    "    \n",
    "#     print(f\"Model 1 embedding: {emb1[0, :5]}\")\n",
    "#     print(f\"Model 2 embedding: {emb2[0, :5]}\")\n",
    "    \n",
    "#     # Compare\n",
    "#     diff = torch.abs(emb1 - emb2).sum()\n",
    "#     print(f\"Difference: {torch.max(diff).item()}\")"
   ]
  },
  {
   "cell_type": "code",
   "execution_count": null,
   "id": "189efeb1",
   "metadata": {},
   "outputs": [],
   "source": [
    "# Extract weights from checkpoint\n",
    "# import torch\n",
    "# checkpoint = state_embed.checkpoint['state_dict']\n",
    "# state_dict = state_embed.checkpoint['state_dict']\n",
    "# torch.save(state_dict, \"embed_model_epoch16_weights.pt\")"
   ]
  },
  {
   "cell_type": "markdown",
   "id": "1baf0eaa",
   "metadata": {},
   "source": [
    "# Training the Model"
   ]
  },
  {
   "cell_type": "markdown",
   "id": "ddc09026",
   "metadata": {},
   "source": [
    "The example data should generate a directory. Before training edit the `competition_support_set/starter.toml` file to point to the correct path on your machine. Here you can also change the train/test split but feel free to leave this at default."
   ]
  },
  {
   "cell_type": "code",
   "execution_count": null,
   "id": "f0896132",
   "metadata": {},
   "outputs": [],
   "source": [
    "# train the model on the training data\n",
    "from helical.models.state import stateTransitionTrainModel\n",
    "from helical.models.state.train_configs import trainingConfig\n",
    "\n",
    "train_config = trainingConfig(\n",
    "    output_dir=\"competition\",\n",
    "    name=\"first_run\",\n",
    "    toml_config_path=\"competition_support_set/starter.toml\",\n",
    "    checkpoint_name=\"final.ckpt\",\n",
    "    max_steps=40000,\n",
    "    max_epochs=1,\n",
    "    ckpt_every_n_steps=20000,\n",
    "    num_workers=4,\n",
    "    batch_col=\"batch_var\",\n",
    "    pert_col=\"target_gene\",\n",
    "    cell_type_key=\"cell_type\",\n",
    "    control_pert=\"non-targeting\",\n",
    "    perturbation_features_file=\"competition_support_set/ESM2_pert_features.pt\"\n",
    "    )\n",
    "\n",
    "state_train = stateTransitionTrainModel(configurer=train_config)\n",
    "state_train.train() \n",
    "state_train.predict() "
   ]
  },
  {
   "cell_type": "markdown",
   "id": "87e308f7",
   "metadata": {},
   "source": [
    "Once the model is trained we can perform inference on a new dataset using:"
   ]
  },
  {
   "cell_type": "code",
   "execution_count": null,
   "id": "80638e64",
   "metadata": {},
   "outputs": [],
   "source": [
    "from helical.models.state import stateTransitionModel\n",
    "\n",
    "state_config = stateConfig(\n",
    "    output = \"competition/prediction.h5ad\",\n",
    "    model_dir = \"competition/first_run\",\n",
    "    model_config = \"model_dir/config.yaml\",\n",
    "    pert_col = \"target_gene\",\n",
    ")\n",
    "\n",
    "adata = sc.read_h5ad(\"competition_support_set/competition_val_template.h5ad\")\n",
    "\n",
    "state_transition = stateTransitionModel(configurer=state_config)\n",
    "adata = state_transition.process_data(adata)\n",
    "embeds = state_transition.get_embeddings(adata)"
   ]
  },
  {
   "cell_type": "markdown",
   "id": "0ed628ad",
   "metadata": {},
   "source": [
    "# Creating a Virtual Cell Challenge Submission"
   ]
  },
  {
   "cell_type": "markdown",
   "id": "dff8d420",
   "metadata": {},
   "source": [
    "To create a submission for the Virtual Cell Challenge we pass our previous prediction file into `helical.models.state.vcc_eval` which uses the `cell-eval` package. This will generate a `.vcc` file that can be uploaded to the public leaderboard."
   ]
  },
  {
   "cell_type": "code",
   "execution_count": null,
   "id": "d274d004",
   "metadata": {},
   "outputs": [],
   "source": [
    "# evaluate the model - underlying function uses cell-eval package \n",
    "# (https://github.com/ArcInstitute/cell-eval)\n",
    "from helical.models.state import vcc_eval\n",
    "\n",
    "# default configs for competition dataset\n",
    "EXPECTED_GENE_DIM = 18080\n",
    "MAX_CELL_DIM = 100000\n",
    "DEFAULT_PERT_COL = \"target_gene\"\n",
    "DEFAULT_CTRL = \"non-targeting\"\n",
    "DEFAULT_COUNTS_COL = \"n_cells\"\n",
    "DEFAULT_CELLTYPE_COL = \"celltype\"\n",
    "DEFAULT_NTC_NAME = \"non-targeting\"\n",
    "\n",
    "configs = {\n",
    "    # path to the prediction file\n",
    "    \"input\": \"competition/prediction.h5ad\",\n",
    "    # path to the gene names file\n",
    "    \"genes\": \"competition_support_set/gene_names.csv\",\n",
    "    # path to the output file - if None will be created with default naming\n",
    "    \"output\": None,\n",
    "    \"pert_col\": DEFAULT_PERT_COL,\n",
    "    \"celltype_col\": None,\n",
    "    \"ntc_name\": DEFAULT_NTC_NAME,\n",
    "    \"output_pert_col\": DEFAULT_PERT_COL,\n",
    "    \"output_celltype_col\": DEFAULT_CELLTYPE_COL,\n",
    "    \"encoding\": 32,\n",
    "    \"allow_discrete\": False,\n",
    "    \"expected_gene_dim\": EXPECTED_GENE_DIM,\n",
    "    \"max_cell_dim\": MAX_CELL_DIM,\n",
    "}\n",
    "\n",
    "# this creates a submission file in the output directory which can be uploaded to the challenge leaderboard\n",
    "vcc_eval(configs)"
   ]
  },
  {
   "cell_type": "markdown",
   "id": "9d230564",
   "metadata": {},
   "source": [
    "# Finetuning Example"
   ]
  },
  {
   "cell_type": "markdown",
   "id": "dbeb5a23",
   "metadata": {},
   "source": [
    "We can further finetune the model. This can start with a model directory containing a `.ckpt` file. If the model directory does not exists, one will be created and so will a new model instance. The finetuning will produce model weights and head weights that will be saved and training will resume from these `.pt` files in the directory (if present)."
   ]
  },
  {
   "cell_type": "code",
   "execution_count": null,
   "id": "611a46bf",
   "metadata": {},
   "outputs": [],
   "source": [
    "# from helical.models.state import stateFineTuningModel\n",
    "\n",
    "# # Load the desired dataset\n",
    "# adata = sc.read_h5ad(\"competition_support_set/competition_val_template.h5ad\")\n",
    "\n",
    "# # Get the desired label class\n",
    "# cell_types = list(adata.obs.cell_type)\n",
    "# label_set = set(cell_types)\n",
    "\n",
    "# # Create the fine-tuning model (no need to specify var_dims location)\n",
    "# config = stateConfig(\n",
    "#     batch_size=8,\n",
    "#     model_dir=\"competition/first_run\",\n",
    "#     model_config=\"model_dir/config.yaml\",\n",
    "#     freeze_backbone=True\n",
    "# )\n",
    "\n",
    "# model = stateFineTuningModel(\n",
    "#     configurer=config, \n",
    "#     fine_tuning_head=\"classification\", \n",
    "#     output_size=len(label_set),\n",
    "# )\n",
    "\n",
    "# # Process the data for training\n",
    "# data = model.process_data(adata)\n",
    "\n",
    "# # Create a dictionary mapping the classes to unique integers for training\n",
    "# class_id_dict = dict(zip(label_set, [i for i in range(len(label_set))]))\n",
    "\n",
    "# for i in range(len(cell_types)):\n",
    "#     cell_types[i] = class_id_dict[cell_types[i]]\n",
    "\n",
    "# # Fine-tune\n",
    "# model.train(train_input_data=data, train_labels=cell_types)"
   ]
  },
  {
   "cell_type": "code",
   "execution_count": null,
   "id": "3d400859",
   "metadata": {},
   "outputs": [],
   "source": [
    "import scanpy as sc\n",
    "import anndata as ad\n",
    "import numpy as np\n",
    "\n",
    "def truncate_adata_file_complete(input_path, output_path, max_cells=1000, max_genes=None):\n",
    "    \"\"\"\n",
    "    Truncate an AnnData file and handle ALL fields properly\n",
    "    \"\"\"\n",
    "    print(f\"Loading {input_path}...\")\n",
    "    adata = sc.read_h5ad(input_path)\n",
    "    \n",
    "    print(f\"Original shape: {adata.shape}\")\n",
    "    print(f\"Original obsm keys: {list(adata.obsm.keys())}\")\n",
    "    \n",
    "    # Truncate cells\n",
    "    if max_cells and adata.n_obs > max_cells:\n",
    "        print(f\"Truncating to {max_cells} cells...\")\n",
    "        \n",
    "        # Truncate main data\n",
    "        adata = adata[:max_cells, :].copy()\n",
    "        \n",
    "        # Manually truncate obsm fields that might not be handled properly\n",
    "        for key in adata.obsm.keys():\n",
    "            matrix = adata.obsm[key]\n",
    "            if hasattr(matrix, 'shape') and len(matrix.shape) > 0:\n",
    "                if matrix.shape[0] > max_cells:\n",
    "                    print(f\"Truncating obsm['{key}'] from {matrix.shape} to ({max_cells}, {matrix.shape[1] if len(matrix.shape) > 1 else 'N/A'})\")\n",
    "                    adata.obsm[key] = matrix[:max_cells]\n",
    "    \n",
    "    # Truncate genes (optional)\n",
    "    if max_genes and adata.n_vars > max_genes:\n",
    "        print(f\"Truncating to {max_genes} genes...\")\n",
    "        \n",
    "        # Truncate main data\n",
    "        adata = adata[:, :max_genes].copy()\n",
    "        \n",
    "        # Manually truncate varm fields\n",
    "        for key in adata.varm.keys():\n",
    "            matrix = adata.varm[key]\n",
    "            if hasattr(matrix, 'shape') and len(matrix.shape) > 0:\n",
    "                if matrix.shape[0] > max_genes:\n",
    "                    print(f\"Truncating varm['{key}'] from {matrix.shape} to ({max_genes}, {matrix.shape[1] if len(matrix.shape) > 1 else 'N/A'})\")\n",
    "                    adata.varm[key] = matrix[:max_genes]\n",
    "    \n",
    "    print(f\"New shape: {adata.shape}\")\n",
    "    print(f\"New obsm keys: {list(adata.obsm.keys())}\")\n",
    "    \n",
    "    # Save truncated file\n",
    "    print(f\"Saving to {output_path}...\")\n",
    "    adata.write_h5ad(output_path)\n",
    "    \n",
    "    return adata\n",
    "\n",
    "# Usage\n",
    "train_small = truncate_adata_file_complete('sample_vcc_data/train.h5', 'train_small.h5', max_cells=100)\n",
    "val_small = truncate_adata_file_complete('sample_vcc_data/val.h5', 'val_small.h5', max_cells=100)\n",
    "test_small = truncate_adata_file_complete('sample_vcc_data/test.h5ad', 'test_small.h5ad', max_cells=100)"
   ]
  },
  {
   "cell_type": "code",
   "execution_count": 2,
   "id": "e1001880",
   "metadata": {},
   "outputs": [],
   "source": [
    "from omegaconf import OmegaConf\n",
    "\n",
    "model_configs = OmegaConf.load(\"/home/rasched/final_helical_with_state/helical/helical/models/state/sample_vcc_data/config.yaml\")"
   ]
  },
  {
   "cell_type": "code",
   "execution_count": 4,
   "id": "6d7d0db4",
   "metadata": {},
   "outputs": [
    {
     "data": {
      "text/plain": [
       "{'wandb_track': True, 'weight_decay': 0.0005, 'batch_size': 16, 'lr': 0.0001, 'max_steps': 40000, 'train_seed': 42, 'val_freq': 2000, 'ckpt_every_n_steps': 20000, 'gradient_clip_val': 10, 'loss_fn': 'mse', 'devices': 1, 'strategy': 'auto', 'use_mfu': True, 'mfu_kwargs': {'available_flops': 60000000000000.0, 'use_backward': True, 'logging_interval': 10, 'window_size': 2}}"
      ]
     },
     "execution_count": 4,
     "metadata": {},
     "output_type": "execute_result"
    }
   ],
   "source": [
    "model_configs[\"training\"]"
   ]
  }
 ],
 "metadata": {
  "kernelspec": {
   "display_name": "helical",
   "language": "python",
   "name": "python3"
  },
  "language_info": {
   "codemirror_mode": {
    "name": "ipython",
    "version": 3
   },
   "file_extension": ".py",
   "mimetype": "text/x-python",
   "name": "python",
   "nbconvert_exporter": "python",
   "pygments_lexer": "ipython3",
   "version": "3.11.13"
  }
 },
 "nbformat": 4,
 "nbformat_minor": 5
}
