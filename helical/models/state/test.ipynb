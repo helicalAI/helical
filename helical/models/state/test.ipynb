{
 "cells": [
  {
   "cell_type": "code",
   "execution_count": 4,
   "id": "611a46bf",
   "metadata": {},
   "outputs": [
    {
     "name": "stderr",
     "output_type": "stream",
     "text": [
      "INFO:helical.models.state.state_finetune:Loading existing config.yaml from: configs/config.yaml\n",
      "INFO:helical.models.state.state_finetune:Loading pre-trained model from: competition/first_run/final.ckpt\n",
      "INFO:helical.models.state.state_finetune:Backbone model frozen - only fine-tuning head will be trained\n",
      "INFO:helical.models.state.state_finetune:Processing data for state model fine-tuning.\n",
      "INFO:helical.models.state.state_finetune:Loaded perturbation mapping with 19792 perturbations\n",
      "INFO:helical.models.state.state_finetune:Successfully processed the data for state model fine-tuning.\n",
      "INFO:helical.models.state.state_finetune:Loaded head weights from competition/first_run/head_weights.pt\n",
      "INFO:helical.models.state.state_finetune:Optimizer set up for fine-tuning head only\n",
      "INFO:helical.models.state.state_finetune:Starting Fine-Tuning\n",
      "Fine-Tuning: epoch 1/1: 100%|██████████| 12366/12366 [00:13<00:00, 895.02it/s, loss=0]\n",
      "INFO:helical.models.state.state_finetune:Fine-Tuning Complete. Epochs: 1\n"
     ]
    }
   ],
   "source": [
    "from helical.models.state import stateFineTuningModel\n",
    "import scanpy as sc\n",
    "from helical.models.state import stateConfig\n",
    "\n",
    "# Load the desired dataset\n",
    "adata = sc.read_h5ad(\"competition_support_set/competition_val_template.h5ad\")\n",
    "\n",
    "# Get the desired label class\n",
    "cell_types = list(adata.obs.cell_type)\n",
    "label_set = set(cell_types)\n",
    "\n",
    "# Create the fine-tuning model (no need to specify var_dims location)\n",
    "config = stateConfig(\n",
    "    batch_size=8,\n",
    "    model_dir=\"competition/first_run\",\n",
    "    model_config=\"configs/config.yaml\",\n",
    "    freeze_backbone=True\n",
    ")\n",
    "\n",
    "model = stateFineTuningModel(\n",
    "    configurer=config, \n",
    "    fine_tuning_head=\"classification\", \n",
    "    output_size=len(label_set),\n",
    ")\n",
    "\n",
    "# Process the data for training\n",
    "data = model.process_data(adata)\n",
    "\n",
    "# Create a dictionary mapping the classes to unique integers for training\n",
    "class_id_dict = dict(zip(label_set, [i for i in range(len(label_set))]))\n",
    "\n",
    "for i in range(len(cell_types)):\n",
    "    cell_types[i] = class_id_dict[cell_types[i]]\n",
    "\n",
    "# Fine-tune\n",
    "model.train(train_input_data=data, train_labels=cell_types)"
   ]
  }
 ],
 "metadata": {
  "kernelspec": {
   "display_name": "helical",
   "language": "python",
   "name": "python3"
  },
  "language_info": {
   "codemirror_mode": {
    "name": "ipython",
    "version": 3
   },
   "file_extension": ".py",
   "mimetype": "text/x-python",
   "name": "python",
   "nbconvert_exporter": "python",
   "pygments_lexer": "ipython3",
   "version": "3.11.13"
  }
 },
 "nbformat": 4,
 "nbformat_minor": 5
}
