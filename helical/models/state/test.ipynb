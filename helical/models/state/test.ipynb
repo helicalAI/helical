{
 "cells": [
  {
   "cell_type": "code",
   "execution_count": null,
   "id": "c13a5b3f",
   "metadata": {},
   "outputs": [],
   "source": [
    "import os\n",
    "\n",
    "def get_directory_size(directory_path):\n",
    "    \"\"\"Get the total size of a directory in bytes\"\"\"\n",
    "    total_size = 0\n",
    "    try:\n",
    "        for dirpath, dirnames, filenames in os.walk(directory_path):\n",
    "            for filename in filenames:\n",
    "                filepath = os.path.join(dirpath, filename)\n",
    "                if os.path.exists(filepath):\n",
    "                    total_size += os.path.getsize(filepath)\n",
    "    except (OSError, IOError):\n",
    "        pass\n",
    "    return total_size\n",
    "\n",
    "def format_size(size_bytes):\n",
    "    \"\"\"Convert bytes to human readable format\"\"\"\n",
    "    if size_bytes == 0:\n",
    "        return \"0 B\"\n",
    "    size_names = [\"B\", \"KB\", \"MB\", \"GB\", \"TB\"]\n",
    "    i = 0\n",
    "    while size_bytes >= 1024 and i < len(size_names) - 1:\n",
    "        size_bytes /= 1024.0\n",
    "        i += 1\n",
    "    return f\"{size_bytes:.2f} {size_names[i]}\"\n",
    "\n",
    "# Get size of current directory\n",
    "current_dir = \".\"\n",
    "total_size_bytes = get_directory_size(current_dir)\n",
    "print(f\"Total directory size: {format_size(total_size_bytes)}\")\n",
    "print(f\"Total directory size: {total_size_bytes / (1024**3):.3f} GB\")\n",
    "\n",
    "# Get size of specific directory (example)\n",
    "competition_dir = \"competition_support_set\"\n",
    "competition_size = get_directory_size(competition_dir)\n",
    "print(f\"Competition directory size: {format_size(competition_size)}\")"
   ]
  },
  {
   "cell_type": "code",
   "execution_count": 12,
   "id": "1a6f3aad",
   "metadata": {},
   "outputs": [
    {
     "name": "stdout",
     "output_type": "stream",
     "text": [
      "Original file size: 2.625 GB\n"
     ]
    }
   ],
   "source": [
    "import os \n",
    "file_size_bytes = os.path.getsize(\"/home/rasched/final_helical_with_state/helical/helical/models/state/model_dir/embed_utils/nn/embed_model_epoch16_weights.pt\")\n",
    "file_size_gb = file_size_bytes / (1024**3)\n",
    "print(f\"Original file size: {file_size_gb:.3f} GB\")"
   ]
  },
  {
   "cell_type": "code",
   "execution_count": null,
   "id": "40f0f884",
   "metadata": {},
   "outputs": [],
   "source": [
    "import scanpy as sc\n",
    "import os\n",
    "\n",
    "# Read the dataset\n",
    "adata = sc.read_h5ad(\"competition_support_set/competition_val_template.h5ad\")\n",
    "\n",
    "# Get original size info\n",
    "print(f\"Original shape: {adata.shape}\")\n",
    "file_size_bytes = os.path.getsize(\"competition_support_set/competition_val_template.h5ad\")\n",
    "file_size_gb = file_size_bytes / (1024**3)\n",
    "print(f\"Original file size: {file_size_gb:.3f} GB\")\n",
    "\n",
    "# Truncate the dataset (adjust numbers as needed)\n",
    "# Take first 100 cells and first 1000 genes\n",
    "truncated_adata = adata[:100].copy()\n",
    "\n",
    "print(f\"Truncated shape: {truncated_adata.shape}\")\n",
    "\n",
    "# Save the truncated dataset\n",
    "truncated_adata.write_h5ad(\"state_test.h5ad\")\n",
    "\n",
    "# Check the new file size\n",
    "new_file_size_bytes = os.path.getsize(\"state_test.h5ad\")\n",
    "new_file_size_gb = new_file_size_bytes / (1024**3)\n",
    "print(f\"New file size: {new_file_size_gb:.3f} GB\")\n",
    "print(f\"Size reduction: {(1 - new_file_size_gb/file_size_gb)*100:.1f}%\")\n",
    "\n",
    "# Show some basic info about the truncated dataset\n",
    "print(f\"\\nTruncated dataset info:\")\n",
    "print(f\"Number of cells: {truncated_adata.n_obs}\")\n",
    "print(f\"Number of genes: {truncated_adata.n_vars}\")\n",
    "print(f\"Obs columns: {list(truncated_adata.obs.columns)}\")\n",
    "print(f\"Var columns: {list(truncated_adata.var.columns)}\")"
   ]
  },
  {
   "cell_type": "markdown",
   "id": "61f4a0fd",
   "metadata": {},
   "source": []
  },
  {
   "cell_type": "markdown",
   "id": "4d68d6f6",
   "metadata": {},
   "source": []
  },
  {
   "cell_type": "markdown",
   "id": "6be7d362",
   "metadata": {},
   "source": []
  },
  {
   "cell_type": "markdown",
   "id": "459a2f25",
   "metadata": {},
   "source": []
  },
  {
   "cell_type": "markdown",
   "id": "63890578",
   "metadata": {},
   "source": []
  },
  {
   "cell_type": "markdown",
   "id": "ba81408b",
   "metadata": {},
   "source": []
  },
  {
   "cell_type": "markdown",
   "id": "75255eea",
   "metadata": {},
   "source": []
  },
  {
   "cell_type": "markdown",
   "id": "97fac8b8",
   "metadata": {},
   "source": []
  },
  {
   "cell_type": "markdown",
   "id": "a789f357",
   "metadata": {},
   "source": []
  },
  {
   "cell_type": "markdown",
   "id": "6de0646b",
   "metadata": {},
   "source": []
  },
  {
   "cell_type": "markdown",
   "id": "bcf9f6e7",
   "metadata": {},
   "source": []
  },
  {
   "cell_type": "markdown",
   "id": "d53936df",
   "metadata": {},
   "source": [
    "# Generating Example Data"
   ]
  },
  {
   "cell_type": "markdown",
   "id": "9be814ae",
   "metadata": {},
   "source": [
    "We use data from the Virtual Cell Challenge for model training, inference, and finetuning."
   ]
  },
  {
   "cell_type": "code",
   "execution_count": null,
   "id": "af0c290e",
   "metadata": {},
   "outputs": [],
   "source": [
    "'''\n",
    "Download the dataset\n",
    "\n",
    "(taken from Colab Notebook by Adduri et al.\n",
    "https://colab.research.google.com/drive/1QKOtYP7bMpdgDJEipDxaJqOchv7oQ-_l#scrollTo=h0aSjKX7Rtyw)\n",
    "'''\n",
    "\n",
    "import requests\n",
    "from tqdm.auto import tqdm  # picks the best bar for the environment\n",
    "from zipfile import ZipFile\n",
    "from tqdm.auto import tqdm\n",
    "import os\n",
    "\n",
    "# Download the Replogle-Nadig training dataset.\n",
    "url = \"https://storage.googleapis.com/vcc_data_prod/datasets/state/competition_support_set.zip\"\n",
    "output_path = \"competition_support_set.zip\"\n",
    "\n",
    "# stream the download so we can track progress\n",
    "response = requests.get(url, stream=True)\n",
    "total = int(response.headers.get(\"content-length\", 0))\n",
    "\n",
    "with open(output_path, \"wb\") as f, tqdm(\n",
    "    total=total, unit='B', unit_scale=True, desc=\"Downloading\"\n",
    ") as bar:\n",
    "    for chunk in response.iter_content(chunk_size=8192):\n",
    "        if not chunk:\n",
    "            break\n",
    "        f.write(chunk)\n",
    "        bar.update(len(chunk))\n",
    "\n",
    "out_dir  = \"competition_support_set\"\n",
    "os.makedirs(out_dir, exist_ok=True)\n",
    "with ZipFile(output_path, 'r') as z:\n",
    "    for member in tqdm(z.infolist(), desc=\"Unzipping\", unit=\"file\"):\n",
    "        z.extract(member, out_dir)"
   ]
  },
  {
   "cell_type": "markdown",
   "id": "932b1523",
   "metadata": {},
   "source": [
    "# State embeddings"
   ]
  },
  {
   "cell_type": "markdown",
   "id": "d219e5f5",
   "metadata": {},
   "source": [
    "We can generate embeddings using the STATE Embedding model in the helical package."
   ]
  },
  {
   "cell_type": "code",
   "execution_count": 1,
   "id": "4d25cf18",
   "metadata": {},
   "outputs": [
    {
     "name": "stderr",
     "output_type": "stream",
     "text": [
      "INFO:datasets:PyTorch version 2.6.0 available.\n",
      "INFO:datasets:Polars version 1.33.0 available.\n",
      "INFO:helical.models.state.state_embeddings:Using model checkpoint: /home/rasched/.cache/helical/models/state/state_embed/se600m_epoch16.ckpt\n"
     ]
    },
    {
     "name": "stdout",
     "output_type": "stream",
     "text": [
      "\"cfg\":          {'dataset': {'N': 512, 'P': 512, 'S': 512, 'cellxgene': {'ds_type': 'h5ad', 'filter': False, 'num_datasets': 1139, 'train': '/large_storage/ctc/userspace/aadduri/data/auxillary/esm_cellxgene_train.csv', 'val': '/large_storage/ctc/userspace/aadduri/data/auxillary/esm_cellxgene_val.csv'}, 'cellxgene-tahoe': {'ds_type': 'filtered_h5ad', 'filter': True, 'filter_by_species': None, 'num_datasets': 1139, 'train': '/large_storage/ctc/userspace/aadduri/data/auxillary/esm_tahoe_cellxgene_train_filtered.csv', 'val': '/large_storage/ctc/userspace/aadduri/data/auxillary/esm_tahoe_cellxgene_val_filtered.csv'}, 'chrom_token_right_idx': 2, 'cls_token_idx': 3, 'current': 'scbasecamp-cellxgene-tahoe-filtered', 'name': 'vci', 'num_cells': 36238464, 'num_train_workers': 32, 'num_val_workers': 8, 'overrides': {'rpe1_top5000_variable': '/large_storage/ctc/datasets/vci/validation/rpe1_top5000_variable.h5ad'}, 'pad_length': 2048, 'pad_token_idx': 0, 'scbasecamp-cellxgene-tahoe': {'ds_type': 'filtered_h5ad', 'filter': True, 'filter_by_species': None, 'num_datasets': 15700, 'train': '/large_storage/ctc/userspace/aadduri/data/auxillary/esm_basecount_tahoe_cellxgene_train.csv', 'val': '/large_storage/ctc/userspace/aadduri/data/auxillary/esm_basecount_tahoe_cellxgene_val.csv'}, 'scbasecamp-cellxgene-tahoe-filtered': {'ds_type': 'filtered_h5ad', 'filter': True, 'filter_by_species': None, 'num_datasets': 14420, 'train': '/large_storage/ctc/userspace/aadduri/data/auxillary/esm_basecount_tahoe_cellxgene_train_filtered.csv', 'val': '/large_storage/ctc/userspace/aadduri/data/auxillary/esm_basecount_tahoe_cellxgene_val_filtered.csv'}, 'seed': 42}, 'embeddings': {'current': 'esm2-cellxgene-basecamp-tahoe', 'esm2-cellxgene': {'all_embeddings': '/large_storage/ctc/userspace/aadduri/data/auxillary/Homo_sapiens.GRCh38.gene_symbol_to_embedding_ESM2.pt', 'ds_emb_mapping': '/large_storage/ctc/userspace/aadduri/data/auxillary/esm_cellxgene_ds_mapping.torch', 'num': 19790, 'size': 5120, 'valid_genes_masks': None}, 'esm2-cellxgene-basecamp-tahoe': {'all_embeddings': '/large_storage/ctc/userspace/aadduri/data/auxillary/Homo_sapiens.GRCh38.gene_symbol_to_embedding_ESM2.pt', 'ds_emb_mapping': '/large_storage/ctc/userspace/aadduri/data/auxillary/esm_basecount_tahoe_cellxgene_ds_mapping.torch', 'num': 19790, 'size': 5120, 'valid_genes_masks': '/large_storage/ctc/userspace/aadduri/data/auxillary/esm_basecount_tahoe_cellxgene_valid_masks.torch'}, 'esm2-cellxgene-tahoe': {'all_embeddings': '/large_storage/ctc/userspace/aadduri/data/auxillary/Homo_sapiens.GRCh38.gene_symbol_to_embedding_ESM2.pt', 'ds_emb_mapping': '/large_storage/ctc/userspace/aadduri/data/auxillary/esm_basecount_tahoe_cellxgene_ds_mapping.torch', 'num': 19790, 'size': 5120, 'valid_genes_masks': '/large_storage/ctc/userspace/aadduri/data/auxillary/esm_basecount_tahoe_cellxgene_valid_masks.torch'}}, 'experiment': {'checkpoint': {'every_n_train_steps': 1000, 'monitor': 'trainer/train_loss', 'path': '/data/checkpoints', 'save_top_k': 4}, 'compiled': False, 'ddp_timeout': 3600, 'deaware': False, 'limit_val_batches': 100, 'local': 'local', 'name': 'vci_1.5.0_600M_basecount_tahoe_cxg', 'num_epochs': 16, 'num_gpus_per_node': 8, 'num_nodes': 2, 'port': 12400, 'profile': {'enable_profiler': False, 'max_steps': 110, 'profile_steps': [10, 100]}, 'val_check_interval': 1000}, 'loss': {'apply_normalization': False, 'kernel': 'energy', 'name': 'tabular', 'uniformity': False}, 'model': {'batch_size': 48, 'batch_tabular_loss': False, 'counts': True, 'd_hid': 2048, 'dataset_correction': True, 'dropout': 0.1, 'ema': False, 'ema_decay': 0.999, 'ema_update_interval': 1000, 'emsize': 2048, 'name': 'vci', 'nhead': 16, 'nlayers': 16, 'num_downsample': 1, 'output_dim': 2048, 'rda': True, 'sample_rda': False, 'use_flash_attention': True, 'variable_masking': True}, 'optimizer': {'end': 1.0, 'gradient_accumulation_steps': 8, 'max_grad_norm': 0.8, 'max_lr': 1e-05, 'reset_lr_on_restart': False, 'start': 0.01, 'weight_decay': 0.01, 'zclip': True}, 'task': {'mask': 0.2}, 'tokenizer': {'token_dim': 5120}, 'validations': {'diff_exp': {'dataset': '/large_storage/ctc/datasets/cellxgene/processed/rpe1_top5000_variable.h5ad', 'dataset_name': 'rpe1_top5000_variable', 'enable': False, 'eval_interval_multiple': 10, 'method': None, 'obs_filter_label': 'non-targeting', 'obs_pert_col': 'gene', 'top_k_rank': 200}, 'perturbation': {'ctrl_label': 'non-targeting', 'dataset': '/large_storage/ctc/datasets/vci/validation/replogle_perturbation.h5ad', 'dataset_name': 'replogle_perturbation', 'enable': False, 'eval_interval_multiple': 10, 'pert_col': 'gene'}}, 'wandb': {'enable': True, 'project': 'vci'}}\n",
      "\"collater\":     <vci.data.loader.VCIDatasetSentenceCollator object at 0x7c64f9fbf810>\n",
      "\"compiled\":     False\n",
      "\"d_hid\":        2048\n",
      "\"d_model\":      2048\n",
      "\"dropout\":      0.0\n",
      "\"emb_cnt\":      145469\n",
      "\"emb_size\":     5120\n",
      "\"max_lr\":       1e-05\n",
      "\"nhead\":        16\n",
      "\"nlayers\":      16\n",
      "\"output_dim\":   2048\n",
      "\"token_dim\":    5120\n",
      "\"warmup_steps\": 1132452\n",
      "dict_keys(['epoch', 'global_step', 'pytorch-lightning_version', 'state_dict', 'loops', 'callbacks', 'optimizer_states', 'lr_schedulers', 'hparams_name', 'hyper_parameters'])\n"
     ]
    }
   ],
   "source": [
    "from helical.models.state import stateEmbed\n",
    "from helical.models.state import stateConfig\n",
    "from helical.models.state import stateEmbedTorch\n",
    "\n",
    "# state_config = stateConfig(embed_checkpoint=\"model.safetensors\")\n",
    "state_config = stateConfig()\n",
    "state_embed = stateEmbed(configurer=state_config)"
   ]
  },
  {
   "cell_type": "code",
   "execution_count": null,
   "id": "d7dcb192",
   "metadata": {},
   "outputs": [],
   "source": [
    "# get model cfg \n",
    "cfg = state_embed.model.hparams.cfg"
   ]
  },
  {
   "cell_type": "code",
   "execution_count": 10,
   "id": "189efeb1",
   "metadata": {},
   "outputs": [
    {
     "name": "stdout",
     "output_type": "stream",
     "text": [
      "odict_keys(['cls_token', 'dataset_token', 'encoder.0.weight', 'encoder.0.bias', 'encoder.1.weight', 'encoder.1.bias', 'transformer_encoder.layers.0.qkv_proj.weight', 'transformer_encoder.layers.0.qkv_proj.bias', 'transformer_encoder.layers.0.out_proj.weight', 'transformer_encoder.layers.0.out_proj.bias', 'transformer_encoder.layers.0.norm1.weight', 'transformer_encoder.layers.0.norm1.bias', 'transformer_encoder.layers.0.norm2.weight', 'transformer_encoder.layers.0.norm2.bias', 'transformer_encoder.layers.0.linear1.weight', 'transformer_encoder.layers.0.linear1.bias', 'transformer_encoder.layers.0.linear2.weight', 'transformer_encoder.layers.0.linear2.bias', 'transformer_encoder.layers.1.qkv_proj.weight', 'transformer_encoder.layers.1.qkv_proj.bias', 'transformer_encoder.layers.1.out_proj.weight', 'transformer_encoder.layers.1.out_proj.bias', 'transformer_encoder.layers.1.norm1.weight', 'transformer_encoder.layers.1.norm1.bias', 'transformer_encoder.layers.1.norm2.weight', 'transformer_encoder.layers.1.norm2.bias', 'transformer_encoder.layers.1.linear1.weight', 'transformer_encoder.layers.1.linear1.bias', 'transformer_encoder.layers.1.linear2.weight', 'transformer_encoder.layers.1.linear2.bias', 'transformer_encoder.layers.2.qkv_proj.weight', 'transformer_encoder.layers.2.qkv_proj.bias', 'transformer_encoder.layers.2.out_proj.weight', 'transformer_encoder.layers.2.out_proj.bias', 'transformer_encoder.layers.2.norm1.weight', 'transformer_encoder.layers.2.norm1.bias', 'transformer_encoder.layers.2.norm2.weight', 'transformer_encoder.layers.2.norm2.bias', 'transformer_encoder.layers.2.linear1.weight', 'transformer_encoder.layers.2.linear1.bias', 'transformer_encoder.layers.2.linear2.weight', 'transformer_encoder.layers.2.linear2.bias', 'transformer_encoder.layers.3.qkv_proj.weight', 'transformer_encoder.layers.3.qkv_proj.bias', 'transformer_encoder.layers.3.out_proj.weight', 'transformer_encoder.layers.3.out_proj.bias', 'transformer_encoder.layers.3.norm1.weight', 'transformer_encoder.layers.3.norm1.bias', 'transformer_encoder.layers.3.norm2.weight', 'transformer_encoder.layers.3.norm2.bias', 'transformer_encoder.layers.3.linear1.weight', 'transformer_encoder.layers.3.linear1.bias', 'transformer_encoder.layers.3.linear2.weight', 'transformer_encoder.layers.3.linear2.bias', 'transformer_encoder.layers.4.qkv_proj.weight', 'transformer_encoder.layers.4.qkv_proj.bias', 'transformer_encoder.layers.4.out_proj.weight', 'transformer_encoder.layers.4.out_proj.bias', 'transformer_encoder.layers.4.norm1.weight', 'transformer_encoder.layers.4.norm1.bias', 'transformer_encoder.layers.4.norm2.weight', 'transformer_encoder.layers.4.norm2.bias', 'transformer_encoder.layers.4.linear1.weight', 'transformer_encoder.layers.4.linear1.bias', 'transformer_encoder.layers.4.linear2.weight', 'transformer_encoder.layers.4.linear2.bias', 'transformer_encoder.layers.5.qkv_proj.weight', 'transformer_encoder.layers.5.qkv_proj.bias', 'transformer_encoder.layers.5.out_proj.weight', 'transformer_encoder.layers.5.out_proj.bias', 'transformer_encoder.layers.5.norm1.weight', 'transformer_encoder.layers.5.norm1.bias', 'transformer_encoder.layers.5.norm2.weight', 'transformer_encoder.layers.5.norm2.bias', 'transformer_encoder.layers.5.linear1.weight', 'transformer_encoder.layers.5.linear1.bias', 'transformer_encoder.layers.5.linear2.weight', 'transformer_encoder.layers.5.linear2.bias', 'transformer_encoder.layers.6.qkv_proj.weight', 'transformer_encoder.layers.6.qkv_proj.bias', 'transformer_encoder.layers.6.out_proj.weight', 'transformer_encoder.layers.6.out_proj.bias', 'transformer_encoder.layers.6.norm1.weight', 'transformer_encoder.layers.6.norm1.bias', 'transformer_encoder.layers.6.norm2.weight', 'transformer_encoder.layers.6.norm2.bias', 'transformer_encoder.layers.6.linear1.weight', 'transformer_encoder.layers.6.linear1.bias', 'transformer_encoder.layers.6.linear2.weight', 'transformer_encoder.layers.6.linear2.bias', 'transformer_encoder.layers.7.qkv_proj.weight', 'transformer_encoder.layers.7.qkv_proj.bias', 'transformer_encoder.layers.7.out_proj.weight', 'transformer_encoder.layers.7.out_proj.bias', 'transformer_encoder.layers.7.norm1.weight', 'transformer_encoder.layers.7.norm1.bias', 'transformer_encoder.layers.7.norm2.weight', 'transformer_encoder.layers.7.norm2.bias', 'transformer_encoder.layers.7.linear1.weight', 'transformer_encoder.layers.7.linear1.bias', 'transformer_encoder.layers.7.linear2.weight', 'transformer_encoder.layers.7.linear2.bias', 'transformer_encoder.layers.8.qkv_proj.weight', 'transformer_encoder.layers.8.qkv_proj.bias', 'transformer_encoder.layers.8.out_proj.weight', 'transformer_encoder.layers.8.out_proj.bias', 'transformer_encoder.layers.8.norm1.weight', 'transformer_encoder.layers.8.norm1.bias', 'transformer_encoder.layers.8.norm2.weight', 'transformer_encoder.layers.8.norm2.bias', 'transformer_encoder.layers.8.linear1.weight', 'transformer_encoder.layers.8.linear1.bias', 'transformer_encoder.layers.8.linear2.weight', 'transformer_encoder.layers.8.linear2.bias', 'transformer_encoder.layers.9.qkv_proj.weight', 'transformer_encoder.layers.9.qkv_proj.bias', 'transformer_encoder.layers.9.out_proj.weight', 'transformer_encoder.layers.9.out_proj.bias', 'transformer_encoder.layers.9.norm1.weight', 'transformer_encoder.layers.9.norm1.bias', 'transformer_encoder.layers.9.norm2.weight', 'transformer_encoder.layers.9.norm2.bias', 'transformer_encoder.layers.9.linear1.weight', 'transformer_encoder.layers.9.linear1.bias', 'transformer_encoder.layers.9.linear2.weight', 'transformer_encoder.layers.9.linear2.bias', 'transformer_encoder.layers.10.qkv_proj.weight', 'transformer_encoder.layers.10.qkv_proj.bias', 'transformer_encoder.layers.10.out_proj.weight', 'transformer_encoder.layers.10.out_proj.bias', 'transformer_encoder.layers.10.norm1.weight', 'transformer_encoder.layers.10.norm1.bias', 'transformer_encoder.layers.10.norm2.weight', 'transformer_encoder.layers.10.norm2.bias', 'transformer_encoder.layers.10.linear1.weight', 'transformer_encoder.layers.10.linear1.bias', 'transformer_encoder.layers.10.linear2.weight', 'transformer_encoder.layers.10.linear2.bias', 'transformer_encoder.layers.11.qkv_proj.weight', 'transformer_encoder.layers.11.qkv_proj.bias', 'transformer_encoder.layers.11.out_proj.weight', 'transformer_encoder.layers.11.out_proj.bias', 'transformer_encoder.layers.11.norm1.weight', 'transformer_encoder.layers.11.norm1.bias', 'transformer_encoder.layers.11.norm2.weight', 'transformer_encoder.layers.11.norm2.bias', 'transformer_encoder.layers.11.linear1.weight', 'transformer_encoder.layers.11.linear1.bias', 'transformer_encoder.layers.11.linear2.weight', 'transformer_encoder.layers.11.linear2.bias', 'transformer_encoder.layers.12.qkv_proj.weight', 'transformer_encoder.layers.12.qkv_proj.bias', 'transformer_encoder.layers.12.out_proj.weight', 'transformer_encoder.layers.12.out_proj.bias', 'transformer_encoder.layers.12.norm1.weight', 'transformer_encoder.layers.12.norm1.bias', 'transformer_encoder.layers.12.norm2.weight', 'transformer_encoder.layers.12.norm2.bias', 'transformer_encoder.layers.12.linear1.weight', 'transformer_encoder.layers.12.linear1.bias', 'transformer_encoder.layers.12.linear2.weight', 'transformer_encoder.layers.12.linear2.bias', 'transformer_encoder.layers.13.qkv_proj.weight', 'transformer_encoder.layers.13.qkv_proj.bias', 'transformer_encoder.layers.13.out_proj.weight', 'transformer_encoder.layers.13.out_proj.bias', 'transformer_encoder.layers.13.norm1.weight', 'transformer_encoder.layers.13.norm1.bias', 'transformer_encoder.layers.13.norm2.weight', 'transformer_encoder.layers.13.norm2.bias', 'transformer_encoder.layers.13.linear1.weight', 'transformer_encoder.layers.13.linear1.bias', 'transformer_encoder.layers.13.linear2.weight', 'transformer_encoder.layers.13.linear2.bias', 'transformer_encoder.layers.14.qkv_proj.weight', 'transformer_encoder.layers.14.qkv_proj.bias', 'transformer_encoder.layers.14.out_proj.weight', 'transformer_encoder.layers.14.out_proj.bias', 'transformer_encoder.layers.14.norm1.weight', 'transformer_encoder.layers.14.norm1.bias', 'transformer_encoder.layers.14.norm2.weight', 'transformer_encoder.layers.14.norm2.bias', 'transformer_encoder.layers.14.linear1.weight', 'transformer_encoder.layers.14.linear1.bias', 'transformer_encoder.layers.14.linear2.weight', 'transformer_encoder.layers.14.linear2.bias', 'transformer_encoder.layers.15.qkv_proj.weight', 'transformer_encoder.layers.15.qkv_proj.bias', 'transformer_encoder.layers.15.out_proj.weight', 'transformer_encoder.layers.15.out_proj.bias', 'transformer_encoder.layers.15.norm1.weight', 'transformer_encoder.layers.15.norm1.bias', 'transformer_encoder.layers.15.norm2.weight', 'transformer_encoder.layers.15.norm2.bias', 'transformer_encoder.layers.15.linear1.weight', 'transformer_encoder.layers.15.linear1.bias', 'transformer_encoder.layers.15.linear2.weight', 'transformer_encoder.layers.15.linear2.bias', 'decoder.0.intermediate_dense.weight', 'decoder.0.intermediate_dense.bias', 'decoder.0.dense.weight', 'decoder.0.dense.bias', 'decoder.0.layer_norm.weight', 'decoder.0.layer_norm.bias', 'decoder.1.weight', 'decoder.1.bias', 'binary_decoder.0.intermediate_dense.weight', 'binary_decoder.0.intermediate_dense.bias', 'binary_decoder.0.dense.weight', 'binary_decoder.0.dense.bias', 'binary_decoder.0.layer_norm.weight', 'binary_decoder.0.layer_norm.bias', 'binary_decoder.1.intermediate_dense.weight', 'binary_decoder.1.intermediate_dense.bias', 'binary_decoder.1.dense.weight', 'binary_decoder.1.dense.bias', 'binary_decoder.1.layer_norm.weight', 'binary_decoder.1.layer_norm.bias', 'binary_decoder.2.weight', 'binary_decoder.2.bias', 'bin_encoder.weight', 'count_encoder.0.weight', 'count_encoder.0.bias', 'count_encoder.2.weight', 'count_encoder.2.bias', 'gene_embedding_layer.0.weight', 'gene_embedding_layer.0.bias', 'gene_embedding_layer.1.weight', 'gene_embedding_layer.1.bias', 'dataset_embedder.weight', 'dataset_embedder.bias', 'dataset_encoder.0.weight', 'dataset_encoder.0.bias', 'dataset_encoder.2.weight', 'dataset_encoder.2.bias', 'dataset_encoder.4.weight', 'dataset_encoder.4.bias', 'pe_embedding.weight'])\n"
     ]
    }
   ],
   "source": [
    "checkpoint  =  state_embed.checkpoint['state_dict']\n",
    "print(checkpoint.keys())\n",
    "state_dict = state_embed.checkpoint['state_dict']\n",
    "import torch\n",
    "torch.save(state_dict, \"embed_model_epoch16_weights.pt\")"
   ]
  },
  {
   "cell_type": "code",
   "execution_count": 6,
   "id": "17e3f926",
   "metadata": {},
   "outputs": [
    {
     "name": "stdout",
     "output_type": "stream",
     "text": [
      "dict_keys(['bin_encoder.weight', 'binary_decoder.0.dense.bias', 'binary_decoder.0.dense.weight', 'binary_decoder.0.intermediate_dense.bias', 'binary_decoder.0.intermediate_dense.weight', 'binary_decoder.0.layer_norm.bias', 'binary_decoder.0.layer_norm.weight', 'binary_decoder.1.dense.bias', 'binary_decoder.1.dense.weight', 'binary_decoder.1.intermediate_dense.bias', 'binary_decoder.1.intermediate_dense.weight', 'binary_decoder.1.layer_norm.bias', 'binary_decoder.1.layer_norm.weight', 'binary_decoder.2.bias', 'binary_decoder.2.weight', 'cls_token', 'count_encoder.0.bias', 'count_encoder.0.weight', 'count_encoder.2.bias', 'count_encoder.2.weight', 'dataset_embedder.bias', 'dataset_embedder.weight', 'dataset_encoder.0.bias', 'dataset_encoder.0.weight', 'dataset_encoder.2.bias', 'dataset_encoder.2.weight', 'dataset_encoder.4.bias', 'dataset_encoder.4.weight', 'dataset_token', 'decoder.0.dense.bias', 'decoder.0.dense.weight', 'decoder.0.intermediate_dense.bias', 'decoder.0.intermediate_dense.weight', 'decoder.0.layer_norm.bias', 'decoder.0.layer_norm.weight', 'decoder.1.bias', 'decoder.1.weight', 'encoder.0.bias', 'encoder.0.weight', 'encoder.1.bias', 'encoder.1.weight', 'pe_embedding.weight', 'transformer_encoder.layers.0.linear1.bias', 'transformer_encoder.layers.0.linear1.weight', 'transformer_encoder.layers.0.linear2.bias', 'transformer_encoder.layers.0.linear2.weight', 'transformer_encoder.layers.0.norm1.bias', 'transformer_encoder.layers.0.norm1.weight', 'transformer_encoder.layers.0.norm2.bias', 'transformer_encoder.layers.0.norm2.weight', 'transformer_encoder.layers.0.out_proj.bias', 'transformer_encoder.layers.0.out_proj.weight', 'transformer_encoder.layers.0.qkv_proj.bias', 'transformer_encoder.layers.0.qkv_proj.weight', 'transformer_encoder.layers.1.linear1.bias', 'transformer_encoder.layers.1.linear1.weight', 'transformer_encoder.layers.1.linear2.bias', 'transformer_encoder.layers.1.linear2.weight', 'transformer_encoder.layers.1.norm1.bias', 'transformer_encoder.layers.1.norm1.weight', 'transformer_encoder.layers.1.norm2.bias', 'transformer_encoder.layers.1.norm2.weight', 'transformer_encoder.layers.1.out_proj.bias', 'transformer_encoder.layers.1.out_proj.weight', 'transformer_encoder.layers.1.qkv_proj.bias', 'transformer_encoder.layers.1.qkv_proj.weight', 'transformer_encoder.layers.10.linear1.bias', 'transformer_encoder.layers.10.linear1.weight', 'transformer_encoder.layers.10.linear2.bias', 'transformer_encoder.layers.10.linear2.weight', 'transformer_encoder.layers.10.norm1.bias', 'transformer_encoder.layers.10.norm1.weight', 'transformer_encoder.layers.10.norm2.bias', 'transformer_encoder.layers.10.norm2.weight', 'transformer_encoder.layers.10.out_proj.bias', 'transformer_encoder.layers.10.out_proj.weight', 'transformer_encoder.layers.10.qkv_proj.bias', 'transformer_encoder.layers.10.qkv_proj.weight', 'transformer_encoder.layers.11.linear1.bias', 'transformer_encoder.layers.11.linear1.weight', 'transformer_encoder.layers.11.linear2.bias', 'transformer_encoder.layers.11.linear2.weight', 'transformer_encoder.layers.11.norm1.bias', 'transformer_encoder.layers.11.norm1.weight', 'transformer_encoder.layers.11.norm2.bias', 'transformer_encoder.layers.11.norm2.weight', 'transformer_encoder.layers.11.out_proj.bias', 'transformer_encoder.layers.11.out_proj.weight', 'transformer_encoder.layers.11.qkv_proj.bias', 'transformer_encoder.layers.11.qkv_proj.weight', 'transformer_encoder.layers.12.linear1.bias', 'transformer_encoder.layers.12.linear1.weight', 'transformer_encoder.layers.12.linear2.bias', 'transformer_encoder.layers.12.linear2.weight', 'transformer_encoder.layers.12.norm1.bias', 'transformer_encoder.layers.12.norm1.weight', 'transformer_encoder.layers.12.norm2.bias', 'transformer_encoder.layers.12.norm2.weight', 'transformer_encoder.layers.12.out_proj.bias', 'transformer_encoder.layers.12.out_proj.weight', 'transformer_encoder.layers.12.qkv_proj.bias', 'transformer_encoder.layers.12.qkv_proj.weight', 'transformer_encoder.layers.13.linear1.bias', 'transformer_encoder.layers.13.linear1.weight', 'transformer_encoder.layers.13.linear2.bias', 'transformer_encoder.layers.13.linear2.weight', 'transformer_encoder.layers.13.norm1.bias', 'transformer_encoder.layers.13.norm1.weight', 'transformer_encoder.layers.13.norm2.bias', 'transformer_encoder.layers.13.norm2.weight', 'transformer_encoder.layers.13.out_proj.bias', 'transformer_encoder.layers.13.out_proj.weight', 'transformer_encoder.layers.13.qkv_proj.bias', 'transformer_encoder.layers.13.qkv_proj.weight', 'transformer_encoder.layers.14.linear1.bias', 'transformer_encoder.layers.14.linear1.weight', 'transformer_encoder.layers.14.linear2.bias', 'transformer_encoder.layers.14.linear2.weight', 'transformer_encoder.layers.14.norm1.bias', 'transformer_encoder.layers.14.norm1.weight', 'transformer_encoder.layers.14.norm2.bias', 'transformer_encoder.layers.14.norm2.weight', 'transformer_encoder.layers.14.out_proj.bias', 'transformer_encoder.layers.14.out_proj.weight', 'transformer_encoder.layers.14.qkv_proj.bias', 'transformer_encoder.layers.14.qkv_proj.weight', 'transformer_encoder.layers.15.linear1.bias', 'transformer_encoder.layers.15.linear1.weight', 'transformer_encoder.layers.15.linear2.bias', 'transformer_encoder.layers.15.linear2.weight', 'transformer_encoder.layers.15.norm1.bias', 'transformer_encoder.layers.15.norm1.weight', 'transformer_encoder.layers.15.norm2.bias', 'transformer_encoder.layers.15.norm2.weight', 'transformer_encoder.layers.15.out_proj.bias', 'transformer_encoder.layers.15.out_proj.weight', 'transformer_encoder.layers.15.qkv_proj.bias', 'transformer_encoder.layers.15.qkv_proj.weight', 'transformer_encoder.layers.2.linear1.bias', 'transformer_encoder.layers.2.linear1.weight', 'transformer_encoder.layers.2.linear2.bias', 'transformer_encoder.layers.2.linear2.weight', 'transformer_encoder.layers.2.norm1.bias', 'transformer_encoder.layers.2.norm1.weight', 'transformer_encoder.layers.2.norm2.bias', 'transformer_encoder.layers.2.norm2.weight', 'transformer_encoder.layers.2.out_proj.bias', 'transformer_encoder.layers.2.out_proj.weight', 'transformer_encoder.layers.2.qkv_proj.bias', 'transformer_encoder.layers.2.qkv_proj.weight', 'transformer_encoder.layers.3.linear1.bias', 'transformer_encoder.layers.3.linear1.weight', 'transformer_encoder.layers.3.linear2.bias', 'transformer_encoder.layers.3.linear2.weight', 'transformer_encoder.layers.3.norm1.bias', 'transformer_encoder.layers.3.norm1.weight', 'transformer_encoder.layers.3.norm2.bias', 'transformer_encoder.layers.3.norm2.weight', 'transformer_encoder.layers.3.out_proj.bias', 'transformer_encoder.layers.3.out_proj.weight', 'transformer_encoder.layers.3.qkv_proj.bias', 'transformer_encoder.layers.3.qkv_proj.weight', 'transformer_encoder.layers.4.linear1.bias', 'transformer_encoder.layers.4.linear1.weight', 'transformer_encoder.layers.4.linear2.bias', 'transformer_encoder.layers.4.linear2.weight', 'transformer_encoder.layers.4.norm1.bias', 'transformer_encoder.layers.4.norm1.weight', 'transformer_encoder.layers.4.norm2.bias', 'transformer_encoder.layers.4.norm2.weight', 'transformer_encoder.layers.4.out_proj.bias', 'transformer_encoder.layers.4.out_proj.weight', 'transformer_encoder.layers.4.qkv_proj.bias', 'transformer_encoder.layers.4.qkv_proj.weight', 'transformer_encoder.layers.5.linear1.bias', 'transformer_encoder.layers.5.linear1.weight', 'transformer_encoder.layers.5.linear2.bias', 'transformer_encoder.layers.5.linear2.weight', 'transformer_encoder.layers.5.norm1.bias', 'transformer_encoder.layers.5.norm1.weight', 'transformer_encoder.layers.5.norm2.bias', 'transformer_encoder.layers.5.norm2.weight', 'transformer_encoder.layers.5.out_proj.bias', 'transformer_encoder.layers.5.out_proj.weight', 'transformer_encoder.layers.5.qkv_proj.bias', 'transformer_encoder.layers.5.qkv_proj.weight', 'transformer_encoder.layers.6.linear1.bias', 'transformer_encoder.layers.6.linear1.weight', 'transformer_encoder.layers.6.linear2.bias', 'transformer_encoder.layers.6.linear2.weight', 'transformer_encoder.layers.6.norm1.bias', 'transformer_encoder.layers.6.norm1.weight', 'transformer_encoder.layers.6.norm2.bias', 'transformer_encoder.layers.6.norm2.weight', 'transformer_encoder.layers.6.out_proj.bias', 'transformer_encoder.layers.6.out_proj.weight', 'transformer_encoder.layers.6.qkv_proj.bias', 'transformer_encoder.layers.6.qkv_proj.weight', 'transformer_encoder.layers.7.linear1.bias', 'transformer_encoder.layers.7.linear1.weight', 'transformer_encoder.layers.7.linear2.bias', 'transformer_encoder.layers.7.linear2.weight', 'transformer_encoder.layers.7.norm1.bias', 'transformer_encoder.layers.7.norm1.weight', 'transformer_encoder.layers.7.norm2.bias', 'transformer_encoder.layers.7.norm2.weight', 'transformer_encoder.layers.7.out_proj.bias', 'transformer_encoder.layers.7.out_proj.weight', 'transformer_encoder.layers.7.qkv_proj.bias', 'transformer_encoder.layers.7.qkv_proj.weight', 'transformer_encoder.layers.8.linear1.bias', 'transformer_encoder.layers.8.linear1.weight', 'transformer_encoder.layers.8.linear2.bias', 'transformer_encoder.layers.8.linear2.weight', 'transformer_encoder.layers.8.norm1.bias', 'transformer_encoder.layers.8.norm1.weight', 'transformer_encoder.layers.8.norm2.bias', 'transformer_encoder.layers.8.norm2.weight', 'transformer_encoder.layers.8.out_proj.bias', 'transformer_encoder.layers.8.out_proj.weight', 'transformer_encoder.layers.8.qkv_proj.bias', 'transformer_encoder.layers.8.qkv_proj.weight', 'transformer_encoder.layers.9.linear1.bias', 'transformer_encoder.layers.9.linear1.weight', 'transformer_encoder.layers.9.linear2.bias', 'transformer_encoder.layers.9.linear2.weight', 'transformer_encoder.layers.9.norm1.bias', 'transformer_encoder.layers.9.norm1.weight', 'transformer_encoder.layers.9.norm2.bias', 'transformer_encoder.layers.9.norm2.weight', 'transformer_encoder.layers.9.out_proj.bias', 'transformer_encoder.layers.9.out_proj.weight', 'transformer_encoder.layers.9.qkv_proj.bias', 'transformer_encoder.layers.9.qkv_proj.weight'])\n"
     ]
    }
   ],
   "source": [
    "from safetensors.torch import load_file\n",
    "safetensors_state_dict = load_file(\"/home/rasched/.cache/helical/models/state/state_embed/model.safetensors\")\n",
    "print(safetensors_state_dict.keys())"
   ]
  },
  {
   "cell_type": "code",
   "execution_count": null,
   "id": "6f5f2592",
   "metadata": {},
   "outputs": [
    {
     "name": "stdout",
     "output_type": "stream",
     "text": [
      "Keys match: False\n"
     ]
    }
   ],
   "source": [
    "import torch\n",
    "from safetensors.torch import load_file\n",
    "\n",
    "# Load both\n",
    "ckpt_state_dict = state_embed.checkpoint['state_dict']\n",
    "safetensors_state_dict = load_file(\"/home/rasched/.cache/helical/models/state/state_embed/model.safetensors\")\n",
    "\n",
    "# Most reliable comparison\n",
    "print(\"Keys match:\", set(ckpt_state_dict.keys()) == set(safetensors_state_dict.keys()))\n",
    "\n",
    "# all_match = True\n",
    "# for key in ckpt_state_dict.keys():\n",
    "#     if key in safetensors_state_dict:\n",
    "#         shape_match = ckpt_state_dict[key].shape == safetensors_state_dict[key].shape\n",
    "#         values_match = torch.allclose(ckpt_state_dict[key], safetensors_state_dict[key], rtol=1e-5)\n",
    "#         print(f\"{key}: shapes={shape_match}, values={values_match}\")\n",
    "#         if not (shape_match and values_match):\n",
    "#             all_match = False\n",
    "\n",
    "# print(f\"\\nAll tensors match: {all_match}\")"
   ]
  },
  {
   "cell_type": "code",
   "execution_count": null,
   "id": "2903c800",
   "metadata": {},
   "outputs": [],
   "source": [
    "import scanpy as sc\n",
    "\n",
    "adata = sc.read_h5ad(\"competition_support_set/competition_val_template.h5ad\")\n",
    "adata = adata[:2].copy()\n",
    "\n",
    "processed_data = state_embed.process_data(adata=adata)\n",
    "embeddings = state_embed.get_embeddings(processed_data)\n",
    "\n",
    "print(embeddings.shape)"
   ]
  },
  {
   "cell_type": "markdown",
   "id": "1baf0eaa",
   "metadata": {},
   "source": [
    "# Training the Model"
   ]
  },
  {
   "cell_type": "markdown",
   "id": "ddc09026",
   "metadata": {},
   "source": [
    "The example data should generate a directory. Before training edit the `competition_support_set/starter.toml` file to point to the correct path on your machine. Here you can also change the train/test split but feel free to leave this at default."
   ]
  },
  {
   "cell_type": "code",
   "execution_count": null,
   "id": "f0896132",
   "metadata": {},
   "outputs": [],
   "source": [
    "# train the model on the training data\n",
    "from helical.models.state import stateTransitionTrainModel\n",
    "from helical.models.state.train_configs import trainingConfig\n",
    "\n",
    "train_config = trainingConfig(\n",
    "    output_dir=\"competition\",\n",
    "    name=\"first_run\",\n",
    "    toml_config_path=\"competition_support_set/starter.toml\",\n",
    "    checkpoint_name=\"final.ckpt\",\n",
    "    max_steps=40000,\n",
    "    max_epochs=1,\n",
    "    ckpt_every_n_steps=20000,\n",
    "    num_workers=4,\n",
    "    batch_col=\"batch_var\",\n",
    "    pert_col=\"target_gene\",\n",
    "    cell_type_key=\"cell_type\",\n",
    "    control_pert=\"non-targeting\",\n",
    "    perturbation_features_file=\"competition_support_set/ESM2_pert_features.pt\"\n",
    "    )\n",
    "\n",
    "state_train = stateTransitionTrainModel(configurer=train_config)\n",
    "state_train.train() \n",
    "state_train.predict() "
   ]
  },
  {
   "cell_type": "markdown",
   "id": "87e308f7",
   "metadata": {},
   "source": [
    "Once the model is trained we can perform inference on a new dataset using:"
   ]
  },
  {
   "cell_type": "code",
   "execution_count": null,
   "id": "80638e64",
   "metadata": {},
   "outputs": [],
   "source": [
    "from helical.models.state import stateTransitionModel\n",
    "\n",
    "state_config = stateConfig(\n",
    "    output = \"competition/prediction.h5ad\",\n",
    "    model_dir = \"competition/first_run\",\n",
    "    model_config = \"model_dir/config.yaml\",\n",
    "    pert_col = \"target_gene\",\n",
    ")\n",
    "\n",
    "adata = sc.read_h5ad(\"competition_support_set/competition_val_template.h5ad\")\n",
    "\n",
    "state_transition = stateTransitionModel(configurer=state_config)\n",
    "adata = state_transition.process_data(adata)\n",
    "embeds = state_transition.get_embeddings(adata)"
   ]
  },
  {
   "cell_type": "markdown",
   "id": "0ed628ad",
   "metadata": {},
   "source": [
    "# Creating a Virtual Cell Challenge Submission"
   ]
  },
  {
   "cell_type": "markdown",
   "id": "dff8d420",
   "metadata": {},
   "source": [
    "To create a submission for the Virtual Cell Challenge we pass our previous prediction file into `helical.models.state.vcc_eval` which uses the `cell-eval` package. This will generate a `.vcc` file that can be uploaded to the public leaderboard."
   ]
  },
  {
   "cell_type": "code",
   "execution_count": null,
   "id": "d274d004",
   "metadata": {},
   "outputs": [],
   "source": [
    "# evaluate the model - underlying function uses cell-eval package \n",
    "# (https://github.com/ArcInstitute/cell-eval)\n",
    "from helical.models.state import vcc_eval\n",
    "\n",
    "# default configs for competition dataset\n",
    "EXPECTED_GENE_DIM = 18080\n",
    "MAX_CELL_DIM = 100000\n",
    "DEFAULT_PERT_COL = \"target_gene\"\n",
    "DEFAULT_CTRL = \"non-targeting\"\n",
    "DEFAULT_COUNTS_COL = \"n_cells\"\n",
    "DEFAULT_CELLTYPE_COL = \"celltype\"\n",
    "DEFAULT_NTC_NAME = \"non-targeting\"\n",
    "\n",
    "configs = {\n",
    "    # path to the prediction file\n",
    "    \"input\": \"competition/prediction.h5ad\",\n",
    "    # path to the gene names file\n",
    "    \"genes\": \"competition_support_set/gene_names.csv\",\n",
    "    # path to the output file - if None will be created with default naming\n",
    "    \"output\": None,\n",
    "    \"pert_col\": DEFAULT_PERT_COL,\n",
    "    \"celltype_col\": None,\n",
    "    \"ntc_name\": DEFAULT_NTC_NAME,\n",
    "    \"output_pert_col\": DEFAULT_PERT_COL,\n",
    "    \"output_celltype_col\": DEFAULT_CELLTYPE_COL,\n",
    "    \"encoding\": 32,\n",
    "    \"allow_discrete\": False,\n",
    "    \"expected_gene_dim\": EXPECTED_GENE_DIM,\n",
    "    \"max_cell_dim\": MAX_CELL_DIM,\n",
    "}\n",
    "\n",
    "# this creates a submission file in the output directory which can be uploaded to the challenge leaderboard\n",
    "vcc_eval(configs)"
   ]
  },
  {
   "cell_type": "markdown",
   "id": "9d230564",
   "metadata": {},
   "source": [
    "# Finetuning Example"
   ]
  },
  {
   "cell_type": "markdown",
   "id": "dbeb5a23",
   "metadata": {},
   "source": [
    "We can further finetune the model. This can start with a model directory containing a `.ckpt` file. If the model directory does not exists, one will be created and so will a new model instance. The finetuning will produce model weights and head weights that will be saved and training will resume from these `.pt` files in the directory (if present)."
   ]
  },
  {
   "cell_type": "code",
   "execution_count": null,
   "id": "611a46bf",
   "metadata": {},
   "outputs": [],
   "source": [
    "from helical.models.state import stateFineTuningModel\n",
    "\n",
    "# Load the desired dataset\n",
    "adata = sc.read_h5ad(\"competition_support_set/competition_val_template.h5ad\")\n",
    "\n",
    "# Get the desired label class\n",
    "cell_types = list(adata.obs.cell_type)\n",
    "label_set = set(cell_types)\n",
    "\n",
    "# Create the fine-tuning model (no need to specify var_dims location)\n",
    "config = stateConfig(\n",
    "    batch_size=8,\n",
    "    model_dir=\"competition/first_run\",\n",
    "    model_config=\"model_dir/config.yaml\",\n",
    "    freeze_backbone=True\n",
    ")\n",
    "\n",
    "model = stateFineTuningModel(\n",
    "    configurer=config, \n",
    "    fine_tuning_head=\"classification\", \n",
    "    output_size=len(label_set),\n",
    ")\n",
    "\n",
    "# Process the data for training\n",
    "data = model.process_data(adata)\n",
    "\n",
    "# Create a dictionary mapping the classes to unique integers for training\n",
    "class_id_dict = dict(zip(label_set, [i for i in range(len(label_set))]))\n",
    "\n",
    "for i in range(len(cell_types)):\n",
    "    cell_types[i] = class_id_dict[cell_types[i]]\n",
    "\n",
    "# Fine-tune\n",
    "model.train(train_input_data=data, train_labels=cell_types)"
   ]
  }
 ],
 "metadata": {
  "kernelspec": {
   "display_name": "helical",
   "language": "python",
   "name": "python3"
  },
  "language_info": {
   "codemirror_mode": {
    "name": "ipython",
    "version": 3
   },
   "file_extension": ".py",
   "mimetype": "text/x-python",
   "name": "python",
   "nbconvert_exporter": "python",
   "pygments_lexer": "ipython3",
   "version": "3.11.13"
  }
 },
 "nbformat": 4,
 "nbformat_minor": 5
}
