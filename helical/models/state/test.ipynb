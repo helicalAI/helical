{
 "cells": [
  {
   "cell_type": "markdown",
   "id": "d53936df",
   "metadata": {},
   "source": [
    "# Generating Example Data"
   ]
  },
  {
   "cell_type": "markdown",
   "id": "9be814ae",
   "metadata": {},
   "source": [
    "We use data from the Virtual Cell Challenge for model training, inference, and finetuning."
   ]
  },
  {
   "cell_type": "code",
   "execution_count": null,
   "id": "af0c290e",
   "metadata": {},
   "outputs": [],
   "source": [
    "'''\n",
    "Download the dataset\n",
    "\n",
    "(taken from Colab Notebook by Adduri et al.\n",
    "https://colab.research.google.com/drive/1QKOtYP7bMpdgDJEipDxaJqOchv7oQ-_l#scrollTo=h0aSjKX7Rtyw)\n",
    "'''\n",
    "\n",
    "import requests\n",
    "from tqdm.auto import tqdm  # picks the best bar for the environment\n",
    "from zipfile import ZipFile\n",
    "from tqdm.auto import tqdm\n",
    "import os\n",
    "\n",
    "# Download the Replogle-Nadig training dataset.\n",
    "url = \"https://storage.googleapis.com/vcc_data_prod/datasets/state/competition_support_set.zip\"\n",
    "output_path = \"competition_support_set.zip\"\n",
    "\n",
    "# stream the download so we can track progress\n",
    "response = requests.get(url, stream=True)\n",
    "total = int(response.headers.get(\"content-length\", 0))\n",
    "\n",
    "with open(output_path, \"wb\") as f, tqdm(\n",
    "    total=total, unit='B', unit_scale=True, desc=\"Downloading\"\n",
    ") as bar:\n",
    "    for chunk in response.iter_content(chunk_size=8192):\n",
    "        if not chunk:\n",
    "            break\n",
    "        f.write(chunk)\n",
    "        bar.update(len(chunk))\n",
    "\n",
    "out_dir  = \"competition_support_set\"\n",
    "os.makedirs(out_dir, exist_ok=True)\n",
    "with ZipFile(output_path, 'r') as z:\n",
    "    for member in tqdm(z.infolist(), desc=\"Unzipping\", unit=\"file\"):\n",
    "        z.extract(member, out_dir)"
   ]
  },
  {
   "cell_type": "markdown",
   "id": "932b1523",
   "metadata": {},
   "source": [
    "# State embeddings"
   ]
  },
  {
   "cell_type": "code",
   "execution_count": 6,
   "id": "ff639641",
   "metadata": {},
   "outputs": [
    {
     "name": "stderr",
     "output_type": "stream",
     "text": [
      "INFO:helical.models.state.state_embeddings_torch:Using model checkpoint: /home/rasched/.cache/helical/models/state/state_embed/se600m_model_weights.pt\n",
      "INFO:helical.models.state.state_embeddings_torch:number of free parameters: 603245738\n",
      "INFO:helical.models.state.state_embeddings_torch:Missing keys: []\n",
      "INFO:helical.models.state.state_embeddings_torch:Successfully loaded model\n"
     ]
    }
   ],
   "source": [
    "from helical.models.state import stateEmbed\n",
    "from helical.models.state import stateConfig\n",
    "\n",
    "state_config = stateConfig(batch_size=16)\n",
    "state_embed = stateEmbed(configurer=state_config)"
   ]
  },
  {
   "cell_type": "code",
   "execution_count": 7,
   "id": "93beeff3",
   "metadata": {},
   "outputs": [],
   "source": [
    "import scanpy as sc\n",
    "\n",
    "adata = sc.read_h5ad(\"competition_support_set/competition_val_template.h5ad\")\n",
    "adata = adata[:2].copy()"
   ]
  },
  {
   "cell_type": "code",
   "execution_count": 8,
   "id": "00f6e474",
   "metadata": {},
   "outputs": [
    {
     "name": "stderr",
     "output_type": "stream",
     "text": [
      "INFO:helical.models.state.state_embeddings_torch:Auto-detected gene column: var.index (overlap: 17773/19790 protein embeddings, 98.3% of genes)\n",
      "INFO:/home/rasched/final_helical_with_state/helical/helical/models/state/model_dir/embed_utils/data/loader.py:17773 genes mapped to embedding file (out of 18080)\n",
      "INFO:/home/rasched/final_helical_with_state/helical/helical/models/state/model_dir/embed_utils/data/loader.py:17773 genes mapped to embedding file (out of 18080)\n",
      "Encoding: 100%|██████████| 1/1 [00:00<00:00,  6.24it/s]\n"
     ]
    }
   ],
   "source": [
    "processed_data1 = state_embed.process_data(adata=adata.copy())\n",
    "embeddings = state_embed.get_embeddings(processed_data1)"
   ]
  },
  {
   "cell_type": "code",
   "execution_count": null,
   "id": "3afb6ae1",
   "metadata": {},
   "outputs": [],
   "source": [
    "# import torch\n",
    "\n",
    "# def compare_models(model1, model2):\n",
    "#     params1 = list(model1.parameters())\n",
    "#     params2 = list(model2.parameters())\n",
    "    \n",
    "#     print(f\"Model 1 has {len(params1)} parameters\")\n",
    "#     print(f\"Model 2 has {len(params2)} parameters\")\n",
    "    \n",
    "#     for i, (p1, p2) in enumerate(zip(params1, params2)):\n",
    "#         if not torch.allclose(p1, p2, atol=1e-6):\n",
    "#             print(f\"Parameter {i} differs! Max diff: {torch.max(torch.abs(p1 - p2)).item()}\")\n",
    "#             return False\n",
    "#     print(\"All parameters are identical!\")\n",
    "#     return True\n",
    "\n",
    "# compare_models(state_embed.model, state_embed_torch.model)\n",
    "# print(state_embed.model.training, state_embed_torch.model.training)\n",
    "\n",
    "\n",
    "# adata = sc.read_h5ad(\"competition_support_set/competition_val_template.h5ad\")\n",
    "# adata = adata[:2].copy()\n",
    "\n",
    "# processed_data1 = state_embed.process_data(adata=adata.copy())\n",
    "# batch = next(iter(processed_data1))\n",
    "# print(batch)\n",
    "\n",
    "# with torch.no_grad():\n",
    "#     with torch.autocast(device_type=\"cuda\", dtype=torch.bfloat16):\n",
    "#         _, _, _, emb1, _ = state_embed.model._compute_embedding_for_batch(batch)\n",
    "#         _, _, _, emb2, _ = state_embed_torch.model._compute_embedding_for_batch(batch)\n",
    "    \n",
    "#     print(f\"Model 1 embedding: {emb1[0, :5]}\")\n",
    "#     print(f\"Model 2 embedding: {emb2[0, :5]}\")\n",
    "    \n",
    "#     # Compare\n",
    "#     diff = torch.abs(emb1 - emb2).sum()\n",
    "#     print(f\"Difference: {torch.max(diff).item()}\")"
   ]
  },
  {
   "cell_type": "code",
   "execution_count": null,
   "id": "189efeb1",
   "metadata": {},
   "outputs": [],
   "source": [
    "# Extract weights from checkpoint\n",
    "# import torch\n",
    "# checkpoint = state_embed.checkpoint['state_dict']\n",
    "# state_dict = state_embed.checkpoint['state_dict']\n",
    "# torch.save(state_dict, \"embed_model_epoch16_weights.pt\")"
   ]
  },
  {
   "cell_type": "markdown",
   "id": "1baf0eaa",
   "metadata": {},
   "source": [
    "# Training the Model"
   ]
  },
  {
   "cell_type": "markdown",
   "id": "ddc09026",
   "metadata": {},
   "source": [
    "The example data should generate a directory. Before training edit the `competition_support_set/starter.toml` file to point to the correct path on your machine. Here you can also change the train/test split but feel free to leave this at default."
   ]
  },
  {
   "cell_type": "code",
   "execution_count": 9,
   "id": "f0896132",
   "metadata": {},
   "outputs": [
    {
     "name": "stderr",
     "output_type": "stream",
     "text": [
      "INFO: Seed set to 42\n",
      "INFO:lightning.fabric.utilities.seed:Seed set to 42\n",
      "WARNING:cell_load.config:Dataset path does not exist: /home/rasched/final_helical_with_state/helical/helical/models/state/competition_support_set/{competition_train,k562_gwps,rpe1,jurkat,k562,hepg2}.h5\n",
      "INFO:cell_load.config:Configuration validation passed\n",
      "INFO:cell_load.data_modules.perturbation_dataloader:Initializing DataModule: batch_size=16, workers=4, random_seed=42\n"
     ]
    },
    {
     "name": "stdout",
     "output_type": "stream",
     "text": [
      "/home/rasched/final_helical_with_state/helical/helical/models/state/competition_support_set/{competition_train,k562_gwps,rpe1,jurkat,k562,hepg2}.h5\n"
     ]
    },
    {
     "name": "stderr",
     "output_type": "stream",
     "text": [
      "INFO:cell_load.data_modules.perturbation_dataloader:Set 2 missing perturbations to zero vectors.\n",
      "INFO:cell_load.data_modules.perturbation_dataloader:Loaded custom perturbation featurizations for 19792 perturbations.\n",
      "INFO:cell_load.data_modules.perturbation_dataloader:Processing dataset replogle_h1:\n",
      "INFO:cell_load.data_modules.perturbation_dataloader:  - Training dataset: True\n",
      "INFO:cell_load.data_modules.perturbation_dataloader:  - Zeroshot cell types: ['hepg2']\n",
      "INFO:cell_load.data_modules.perturbation_dataloader:  - Fewshot cell types: []\n",
      "Processing replogle_h1:  17%|█▋        | 1/6 [00:00<00:00,  6.54it/s]WARNING:cell_load.dataset._perturbation:No cell barcode information found in /home/rasched/final_helical_with_state/helical/helical/models/state/competition_support_set/k562_gwps.h5. Generating generic barcodes.\n",
      "Processing replogle_h1:  17%|█▋        | 1/6 [00:00<00:00,  6.54it/s]WARNING:cell_load.dataset._perturbation:No cell barcode information found in /home/rasched/final_helical_with_state/helical/helical/models/state/competition_support_set/rpe1.h5. Generating generic barcodes.\n",
      "Processing replogle_h1:  17%|█▋        | 1/6 [00:00<00:00,  6.54it/s]WARNING:cell_load.dataset._perturbation:No cell barcode information found in /home/rasched/final_helical_with_state/helical/helical/models/state/competition_support_set/jurkat.h5. Generating generic barcodes.\n",
      "Processing replogle_h1:  17%|█▋        | 1/6 [00:00<00:00,  6.54it/s]WARNING:cell_load.dataset._perturbation:No cell barcode information found in /home/rasched/final_helical_with_state/helical/helical/models/state/competition_support_set/k562.h5. Generating generic barcodes.\n",
      "Processing replogle_h1:  17%|█▋        | 1/6 [00:00<00:00,  6.54it/s]WARNING:cell_load.dataset._perturbation:No cell barcode information found in /home/rasched/final_helical_with_state/helical/helical/models/state/competition_support_set/hepg2.h5. Generating generic barcodes.\n",
      "Processing replogle_h1: 100%|██████████| 6/6 [00:00<00:00, 27.33it/s]\n",
      "INFO:cell_load.data_modules.perturbation_dataloader:\n",
      "\n",
      "INFO:cell_load.data_modules.perturbation_dataloader:Done! Train / Val / Test splits: 5 / 0 / 1\n"
     ]
    },
    {
     "name": "stdout",
     "output_type": "stream",
     "text": [
      "Processed competition_train: 221273 train, 0 val, 0 test\n",
      "Processed k562_gwps: 111605 train, 0 val, 0 test\n",
      "Processed rpe1: 22317 train, 0 val, 0 test\n",
      "Processed jurkat: 21412 train, 0 val, 0 test\n",
      "Processed k562: 18465 train, 0 val, 0 test\n",
      "Processed hepg2: 0 train, 0 val, 9386 test\n",
      "Model created. Estimated params size: 0.61 GB and 650505936 parameters\n"
     ]
    },
    {
     "name": "stderr",
     "output_type": "stream",
     "text": [
      "INFO:helical.models.state.state_train:Loggers and callbacks set up.\n",
      "INFO: GPU available: True (cuda), used: True\n",
      "INFO:lightning.pytorch.utilities.rank_zero:GPU available: True (cuda), used: True\n",
      "INFO: TPU available: False, using: 0 TPU cores\n",
      "INFO:lightning.pytorch.utilities.rank_zero:TPU available: False, using: 0 TPU cores\n",
      "INFO: HPU available: False, using: 0 HPUs\n",
      "INFO:lightning.pytorch.utilities.rank_zero:HPU available: False, using: 0 HPUs\n",
      "INFO:helical.models.state.state_train:Starting trainer fit.\n",
      "INFO: LOCAL_RANK: 0 - CUDA_VISIBLE_DEVICES: [0,1]\n",
      "INFO:lightning.pytorch.accelerators.cuda:LOCAL_RANK: 0 - CUDA_VISIBLE_DEVICES: [0,1]\n",
      "INFO: \n",
      "  | Name                 | Type                    | Params | Mode \n",
      "-------------------------------------------------------------------------\n",
      "0 | loss_fn              | SamplesLoss             | 0      | train\n",
      "1 | pert_encoder         | Sequential              | 4.8 M  | train\n",
      "2 | basal_encoder        | Linear                  | 12.2 M | train\n",
      "3 | transformer_backbone | LlamaBidirectionalModel | 50.4 M | train\n",
      "4 | project_out          | Sequential              | 13.5 M | train\n",
      "5 | final_down_then_up   | Sequential              | 81.7 M | train\n",
      "6 | relu                 | ReLU                    | 0      | train\n",
      "-------------------------------------------------------------------------\n",
      "141 M     Trainable params\n",
      "21.5 M    Non-trainable params\n",
      "162 M     Total params\n",
      "650.506   Total estimated model params size (MB)\n",
      "86        Modules in train mode\n",
      "0         Modules in eval mode\n",
      "INFO:lightning.pytorch.callbacks.model_summary:\n",
      "  | Name                 | Type                    | Params | Mode \n",
      "-------------------------------------------------------------------------\n",
      "0 | loss_fn              | SamplesLoss             | 0      | train\n",
      "1 | pert_encoder         | Sequential              | 4.8 M  | train\n",
      "2 | basal_encoder        | Linear                  | 12.2 M | train\n",
      "3 | transformer_backbone | LlamaBidirectionalModel | 50.4 M | train\n",
      "4 | project_out          | Sequential              | 13.5 M | train\n",
      "5 | final_down_then_up   | Sequential              | 81.7 M | train\n",
      "6 | relu                 | ReLU                    | 0      | train\n",
      "-------------------------------------------------------------------------\n",
      "141 M     Trainable params\n",
      "21.5 M    Non-trainable params\n",
      "162 M     Total params\n",
      "650.506   Total estimated model params size (MB)\n",
      "86        Modules in train mode\n",
      "0         Modules in eval mode\n"
     ]
    },
    {
     "name": "stdout",
     "output_type": "stream",
     "text": [
      "Trainer built successfully\n",
      "Sanity Checking: |          | 0/? [00:00<?, ?it/s]"
     ]
    },
    {
     "name": "stderr",
     "output_type": "stream",
     "text": [
      "INFO:cell_load.data_modules.samplers:Creating perturbation batch sampler with metadata caching (using codes)...\n",
      "INFO:cell_load.data_modules.samplers:Total # cells 9386. Cell set size mean / std before resampling: 78.22 / 47.32.\n",
      "INFO:cell_load.data_modules.samplers:Creating meta-batches with cell_sentence_len=128...\n",
      "INFO:cell_load.data_modules.samplers:Of all batches, 51 were full and 69 were partial.\n",
      "INFO:cell_load.data_modules.samplers:Sampler created with 8 batches in 0.02 seconds.\n",
      "INFO:cell_load.data_modules.samplers:Of all batches, 51 were full and 69 were partial.\n"
     ]
    },
    {
     "name": "stdout",
     "output_type": "stream",
     "text": [
      "                                                                           "
     ]
    },
    {
     "name": "stderr",
     "output_type": "stream",
     "text": [
      "INFO:cell_load.data_modules.samplers:Creating perturbation batch sampler with metadata caching (using codes)...\n"
     ]
    },
    {
     "name": "stdout",
     "output_type": "stream",
     "text": [
      "\r"
     ]
    },
    {
     "name": "stderr",
     "output_type": "stream",
     "text": [
      "INFO:cell_load.data_modules.samplers:Total # cells 395072. Cell set size mean / std before resampling: 117.72 / 27.93.\n",
      "INFO:cell_load.data_modules.samplers:Creating meta-batches with cell_sentence_len=128...\n",
      "INFO:cell_load.data_modules.samplers:Of all batches, 2831 were full and 525 were partial.\n",
      "INFO:cell_load.data_modules.samplers:Sampler created with 210 batches in 0.40 seconds.\n",
      "INFO:cell_load.data_modules.samplers:Of all batches, 2831 were full and 525 were partial.\n"
     ]
    },
    {
     "name": "stdout",
     "output_type": "stream",
     "text": [
      "Epoch 0: 100%|██████████| 210/210 [01:47<00:00,  1.95it/s, v_num=0]"
     ]
    },
    {
     "name": "stderr",
     "output_type": "stream",
     "text": [
      "INFO: `Trainer.fit` stopped: `max_epochs=1` reached.\n",
      "INFO:lightning.pytorch.utilities.rank_zero:`Trainer.fit` stopped: `max_epochs=1` reached.\n"
     ]
    },
    {
     "name": "stdout",
     "output_type": "stream",
     "text": [
      "Epoch 0: 100%|██████████| 210/210 [01:47<00:00,  1.95it/s, v_num=0]\n",
      "Training completed, saving final checkpoint...\n"
     ]
    },
    {
     "name": "stderr",
     "output_type": "stream",
     "text": [
      "INFO:cell_load.data_modules.samplers:Creating perturbation batch sampler with metadata caching (using codes)...\n",
      "INFO:cell_load.data_modules.samplers:Total # cells 9386. Cell set size mean / std before resampling: 78.22 / 47.32.\n",
      "INFO:cell_load.data_modules.samplers:Creating meta-batches with cell_sentence_len=128...\n",
      "INFO:cell_load.data_modules.samplers:Of all batches, 120 were full and 0 were partial.\n",
      "INFO:cell_load.data_modules.samplers:Sampler created with 120 batches in 0.01 seconds.\n",
      "INFO:helical.models.state.state_train:Loading model from competition/first_run/final.ckpt\n",
      "INFO:helical.models.state.state_train:Model loaded successfully.\n",
      "INFO:helical.models.state.state_train:Generating predictions on test set using manual loop...\n",
      "Predicting:   0%|          | 0/120 [00:00<?, ?batch/s]INFO:cell_load.data_modules.samplers:Of all batches, 120 were full and 0 were partial.\n",
      "Predicting: 100%|██████████| 120/120 [00:20<00:00,  5.93batch/s]\n",
      "INFO:helical.models.state.state_train:Creating anndatas from predictions from manual loop...\n",
      "... storing 'target_gene' as categorical\n",
      "... storing 'cell_type' as categorical\n",
      "... storing 'batch_var' as categorical\n",
      "... storing 'ctrl_cell_barcode' as categorical\n",
      "... storing 'target_gene' as categorical\n",
      "... storing 'cell_type' as categorical\n",
      "... storing 'batch_var' as categorical\n",
      "... storing 'ctrl_cell_barcode' as categorical\n",
      "INFO:helical.models.state.state_train:Saved adata_pred to competition/adata_pred.h5ad\n",
      "INFO:helical.models.state.state_train:Saved adata_real to competition/adata_real.h5ad\n",
      "INFO:helical.models.state.state_train:Computing metrics using cell-eval...\n",
      "WARNING:helical.models.state.model_dir.vcc_eval._evaluator:Output directory competition already exists, potential overwrite occurring\n",
      "INFO:helical.models.state.model_dir.vcc_eval._evaluator:Input is found to be log-normalized already - skipping transformation.\n",
      "INFO:helical.models.state.model_dir.vcc_eval._evaluator:Input is found to be log-normalized already - skipping transformation.\n",
      "INFO:helical.models.state.model_dir.vcc_eval._evaluator:Computing DE for real data\n",
      "INFO:pdex._single_cell:Precomputing masks for each target gene\n",
      "Identifying target masks: 100%|██████████| 69/69 [00:00<00:00, 45734.35it/s]\n",
      "INFO:pdex._single_cell:Precomputing variable indices for each feature\n",
      "Identifying variable indices: 100%|██████████| 18080/18080 [00:00<00:00, 8185774.65it/s]\n",
      "INFO:pdex._single_cell:Creating shared memory memory matrix for parallel computing\n",
      "INFO:pdex._single_cell:Creating generator of all combinations: N=1247520\n",
      "INFO:pdex._single_cell:Creating generator of all batches: N=610\n",
      "INFO:pdex._single_cell:Initializing parallel processing pool\n",
      "INFO:pdex._single_cell:Processing batches\n",
      "Processing batches: 100%|██████████| 610/610 [00:23<00:00, 25.65it/s]\n",
      "INFO:pdex._single_cell:Flattening results\n",
      "INFO:pdex._single_cell:Closing shared memory pool\n",
      "INFO:helical.models.state.model_dir.vcc_eval._evaluator:Writing real DE results to: hepg2_real_de.csv\n",
      "INFO:helical.models.state.model_dir.vcc_eval._evaluator:Computing DE for pred data\n",
      "INFO:pdex._single_cell:Precomputing masks for each target gene\n",
      "Identifying target masks: 100%|██████████| 69/69 [00:00<00:00, 40744.33it/s]\n",
      "INFO:pdex._single_cell:Precomputing variable indices for each feature\n",
      "Identifying variable indices: 100%|██████████| 18080/18080 [00:00<00:00, 5731465.22it/s]\n",
      "INFO:pdex._single_cell:Creating shared memory memory matrix for parallel computing\n",
      "INFO:pdex._single_cell:Creating generator of all combinations: N=1247520\n",
      "INFO:pdex._single_cell:Creating generator of all batches: N=610\n",
      "INFO:pdex._single_cell:Initializing parallel processing pool\n",
      "INFO:pdex._single_cell:Processing batches\n",
      "Processing batches: 100%|██████████| 610/610 [00:28<00:00, 21.33it/s]\n",
      "INFO:pdex._single_cell:Flattening results\n",
      "INFO:pdex._single_cell:Closing shared memory pool\n",
      "INFO:helical.models.state.model_dir.vcc_eval._evaluator:Writing pred DE results to: hepg2_pred_de.csv\n",
      "INFO:helical.models.state.model_dir.vcc_eval._pipeline._runner:Computing metric 'overlap_at_N'\n",
      "INFO:helical.models.state.model_dir.vcc_eval._pipeline._runner:Computing metric 'overlap_at_50'\n",
      "INFO:helical.models.state.model_dir.vcc_eval._pipeline._runner:Computing metric 'overlap_at_100'\n",
      "INFO:helical.models.state.model_dir.vcc_eval._pipeline._runner:Computing metric 'overlap_at_200'\n",
      "INFO:helical.models.state.model_dir.vcc_eval._pipeline._runner:Computing metric 'overlap_at_500'\n",
      "INFO:helical.models.state.model_dir.vcc_eval._pipeline._runner:Computing metric 'precision_at_N'\n",
      "INFO:helical.models.state.model_dir.vcc_eval._pipeline._runner:Computing metric 'precision_at_50'\n",
      "INFO:helical.models.state.model_dir.vcc_eval._pipeline._runner:Computing metric 'precision_at_100'\n",
      "INFO:helical.models.state.model_dir.vcc_eval._pipeline._runner:Computing metric 'precision_at_200'\n",
      "INFO:helical.models.state.model_dir.vcc_eval._pipeline._runner:Computing metric 'precision_at_500'\n",
      "INFO:helical.models.state.model_dir.vcc_eval._pipeline._runner:Computing metric 'de_spearman_sig'\n",
      "INFO:helical.models.state.model_dir.vcc_eval._pipeline._runner:Computing metric 'de_direction_match'\n",
      "INFO:helical.models.state.model_dir.vcc_eval._pipeline._runner:Computing metric 'de_spearman_lfc_sig'\n",
      "INFO:helical.models.state.model_dir.vcc_eval._pipeline._runner:Computing metric 'de_sig_genes_recall'\n",
      "INFO:helical.models.state.model_dir.vcc_eval._pipeline._runner:Computing metric 'de_nsig_counts'\n",
      "INFO:helical.models.state.model_dir.vcc_eval._pipeline._runner:Computing metric 'pr_auc'\n",
      "INFO:helical.models.state.model_dir.vcc_eval._pipeline._runner:Computing metric 'roc_auc'\n",
      "INFO:helical.models.state.model_dir.vcc_eval._pipeline._runner:Computing metric 'pearson_delta'\n",
      "INFO:helical.models.state.model_dir.vcc_eval._types._anndata:Building pseudobulk embeddings for real anndata on: .X\n",
      "INFO:helical.models.state.model_dir.vcc_eval._types._anndata:Building pseudobulk embeddings for predicted anndata on: .X\n",
      "Iterating over perturbations...: 100%|██████████| 68/68 [00:00<00:00, 1240.14it/s]\n",
      "INFO:helical.models.state.model_dir.vcc_eval._pipeline._runner:Computing metric 'mse'\n",
      "Iterating over perturbations...: 100%|██████████| 68/68 [00:00<00:00, 4544.57it/s]\n",
      "INFO:helical.models.state.model_dir.vcc_eval._pipeline._runner:Computing metric 'mae'\n",
      "Iterating over perturbations...: 100%|██████████| 68/68 [00:00<00:00, 4918.31it/s]\n",
      "INFO:helical.models.state.model_dir.vcc_eval._pipeline._runner:Computing metric 'mse_delta'\n",
      "Iterating over perturbations...: 100%|██████████| 68/68 [00:00<00:00, 4819.33it/s]\n",
      "INFO:helical.models.state.model_dir.vcc_eval._pipeline._runner:Computing metric 'mae_delta'\n",
      "Iterating over perturbations...: 100%|██████████| 68/68 [00:00<00:00, 5066.75it/s]\n",
      "INFO:helical.models.state.model_dir.vcc_eval._pipeline._runner:Computing metric 'discrimination_score_l1'\n",
      "Iterating over perturbations...: 100%|██████████| 68/68 [00:00<00:00, 15478.82it/s]\n",
      "Iterating over perturbations...: 100%|██████████| 68/68 [00:00<00:00, 25492.73it/s]\n",
      "INFO:helical.models.state.model_dir.vcc_eval._pipeline._runner:Computing metric 'discrimination_score_l2'\n",
      "Iterating over perturbations...: 100%|██████████| 68/68 [00:00<00:00, 24226.00it/s]\n",
      "Iterating over perturbations...: 100%|██████████| 68/68 [00:00<00:00, 24646.79it/s]\n",
      "INFO:helical.models.state.model_dir.vcc_eval._pipeline._runner:Computing metric 'discrimination_score_cosine'\n",
      "Iterating over perturbations...: 100%|██████████| 68/68 [00:00<00:00, 17056.13it/s]\n",
      "Iterating over perturbations...: 100%|██████████| 68/68 [00:00<00:00, 21394.69it/s]\n",
      "INFO:helical.models.state.model_dir.vcc_eval._evaluator:Writing perturbation level metrics to competition/hepg2_results.csv\n",
      "INFO:helical.models.state.model_dir.vcc_eval._evaluator:Writing aggregate metrics to competition/hepg2_agg_results.csv\n"
     ]
    }
   ],
   "source": [
    "# train the model on the training data\n",
    "from helical.models.state import stateTransitionTrainModel\n",
    "from helical.models.state.train_configs import trainingConfig\n",
    "\n",
    "train_config = trainingConfig(\n",
    "    output_dir=\"competition\",\n",
    "    name=\"first_run\",\n",
    "    toml_config_path=\"competition_support_set/starter.toml\",\n",
    "    checkpoint_name=\"final.ckpt\",\n",
    "    max_steps=40000,\n",
    "    max_epochs=1,\n",
    "    ckpt_every_n_steps=20000,\n",
    "    num_workers=4,\n",
    "    batch_col=\"batch_var\",\n",
    "    pert_col=\"target_gene\",\n",
    "    cell_type_key=\"cell_type\",\n",
    "    control_pert=\"non-targeting\",\n",
    "    perturbation_features_file=\"competition_support_set/ESM2_pert_features.pt\"\n",
    "    )\n",
    "\n",
    "state_train = stateTransitionTrainModel(configurer=train_config)\n",
    "state_train.train() \n",
    "state_train.predict() "
   ]
  },
  {
   "cell_type": "markdown",
   "id": "87e308f7",
   "metadata": {},
   "source": [
    "Once the model is trained we can perform inference on a new dataset using:"
   ]
  },
  {
   "cell_type": "code",
   "execution_count": 10,
   "id": "80638e64",
   "metadata": {},
   "outputs": [
    {
     "name": "stderr",
     "output_type": "stream",
     "text": [
      "INFO:helical.models.state.state_transition:Using checkpoint: competition/first_run/final.ckpt\n",
      "INFO:helical.models.state.state_transition:Model device: cpu\n",
      "INFO:helical.models.state.state_transition:Model cell_set_len (max sequence length): 128\n",
      "INFO:helical.models.state.state_transition:Model uses batch encoder: False\n",
      "INFO:helical.models.state.state_transition:Model output space: all\n",
      "INFO:helical.models.state.state_transition:Grouping by cell type column: cell_type\n",
      "INFO:helical.models.state.state_transition:Using adata.X as input features\n",
      "INFO:helical.models.state.state_transition:Cells: total=98927, control=38176, non-control=60751\n",
      "INFO:helical.models.state.state_transition:Running virtual experiment (homogeneous per-perturbation forward passes; controls included)...\n",
      "Group H1: 100%|██████████| 51/51 [00:28<00:00,  1.81it/s, Pert: non-targeting           ]\n",
      "INFO:helical.models.state.state_transition:\n",
      "=== Inference complete ===\n",
      "INFO:helical.models.state.state_transition:Input cells:         98927\n",
      "INFO:helical.models.state.state_transition:Controls simulated:  38176\n",
      "INFO:helical.models.state.state_transition:Treated simulated:   60751\n",
      "INFO:helical.models.state.state_transition:Wrote predictions to adata.X\n",
      "INFO:helical.models.state.state_transition:Saved:               competition/prediction.h5ad\n"
     ]
    }
   ],
   "source": [
    "from helical.models.state import stateTransitionModel\n",
    "\n",
    "state_config = stateConfig(\n",
    "    output = \"competition/prediction.h5ad\",\n",
    "    model_dir = \"competition/first_run\",\n",
    "    model_config = \"model_dir/config.yaml\",\n",
    "    pert_col = \"target_gene\",\n",
    ")\n",
    "\n",
    "adata = sc.read_h5ad(\"competition_support_set/competition_val_template.h5ad\")\n",
    "\n",
    "state_transition = stateTransitionModel(configurer=state_config)\n",
    "adata = state_transition.process_data(adata)\n",
    "embeds = state_transition.get_embeddings(adata)"
   ]
  },
  {
   "cell_type": "markdown",
   "id": "0ed628ad",
   "metadata": {},
   "source": [
    "# Creating a Virtual Cell Challenge Submission"
   ]
  },
  {
   "cell_type": "markdown",
   "id": "dff8d420",
   "metadata": {},
   "source": [
    "To create a submission for the Virtual Cell Challenge we pass our previous prediction file into `helical.models.state.vcc_eval` which uses the `cell-eval` package. This will generate a `.vcc` file that can be uploaded to the public leaderboard."
   ]
  },
  {
   "cell_type": "code",
   "execution_count": null,
   "id": "d274d004",
   "metadata": {},
   "outputs": [],
   "source": [
    "# evaluate the model - underlying function uses cell-eval package \n",
    "# (https://github.com/ArcInstitute/cell-eval)\n",
    "from helical.models.state import vcc_eval\n",
    "\n",
    "# default configs for competition dataset\n",
    "EXPECTED_GENE_DIM = 18080\n",
    "MAX_CELL_DIM = 100000\n",
    "DEFAULT_PERT_COL = \"target_gene\"\n",
    "DEFAULT_CTRL = \"non-targeting\"\n",
    "DEFAULT_COUNTS_COL = \"n_cells\"\n",
    "DEFAULT_CELLTYPE_COL = \"celltype\"\n",
    "DEFAULT_NTC_NAME = \"non-targeting\"\n",
    "\n",
    "configs = {\n",
    "    # path to the prediction file\n",
    "    \"input\": \"competition/prediction.h5ad\",\n",
    "    # path to the gene names file\n",
    "    \"genes\": \"competition_support_set/gene_names.csv\",\n",
    "    # path to the output file - if None will be created with default naming\n",
    "    \"output\": None,\n",
    "    \"pert_col\": DEFAULT_PERT_COL,\n",
    "    \"celltype_col\": None,\n",
    "    \"ntc_name\": DEFAULT_NTC_NAME,\n",
    "    \"output_pert_col\": DEFAULT_PERT_COL,\n",
    "    \"output_celltype_col\": DEFAULT_CELLTYPE_COL,\n",
    "    \"encoding\": 32,\n",
    "    \"allow_discrete\": False,\n",
    "    \"expected_gene_dim\": EXPECTED_GENE_DIM,\n",
    "    \"max_cell_dim\": MAX_CELL_DIM,\n",
    "}\n",
    "\n",
    "# this creates a submission file in the output directory which can be uploaded to the challenge leaderboard\n",
    "vcc_eval(configs)"
   ]
  },
  {
   "cell_type": "markdown",
   "id": "9d230564",
   "metadata": {},
   "source": [
    "# Finetuning Example"
   ]
  },
  {
   "cell_type": "markdown",
   "id": "dbeb5a23",
   "metadata": {},
   "source": [
    "We can further finetune the model. This can start with a model directory containing a `.ckpt` file. If the model directory does not exists, one will be created and so will a new model instance. The finetuning will produce model weights and head weights that will be saved and training will resume from these `.pt` files in the directory (if present)."
   ]
  },
  {
   "cell_type": "code",
   "execution_count": 11,
   "id": "611a46bf",
   "metadata": {},
   "outputs": [
    {
     "name": "stderr",
     "output_type": "stream",
     "text": [
      "INFO:helical.models.state.state_finetune:Loading existing config.yaml from: model_dir/config.yaml\n",
      "INFO:helical.models.state.state_finetune:Loading pre-trained model from: competition/first_run/final.ckpt\n",
      "INFO:helical.models.state.state_finetune:Backbone model frozen - only fine-tuning head will be trained\n",
      "INFO:helical.models.state.state_finetune:Processing data for state model fine-tuning.\n",
      "INFO:helical.models.state.state_finetune:Loaded perturbation mapping with 19792 perturbations\n",
      "INFO:helical.models.state.state_finetune:Successfully processed the data for state model fine-tuning.\n",
      "INFO:helical.models.state.state_finetune:Optimizer set up for fine-tuning head only\n",
      "INFO:helical.models.state.state_finetune:Starting Fine-Tuning\n",
      "Fine-Tuning: epoch 1/1: 100%|██████████| 12366/12366 [00:13<00:00, 922.64it/s, loss=0]\n",
      "INFO:helical.models.state.state_finetune:Fine-Tuning Complete. Epochs: 1\n"
     ]
    }
   ],
   "source": [
    "from helical.models.state import stateFineTuningModel\n",
    "\n",
    "# Load the desired dataset\n",
    "adata = sc.read_h5ad(\"competition_support_set/competition_val_template.h5ad\")\n",
    "\n",
    "# Get the desired label class\n",
    "cell_types = list(adata.obs.cell_type)\n",
    "label_set = set(cell_types)\n",
    "\n",
    "# Create the fine-tuning model (no need to specify var_dims location)\n",
    "config = stateConfig(\n",
    "    batch_size=8,\n",
    "    model_dir=\"competition/first_run\",\n",
    "    model_config=\"model_dir/config.yaml\",\n",
    "    freeze_backbone=True\n",
    ")\n",
    "\n",
    "model = stateFineTuningModel(\n",
    "    configurer=config, \n",
    "    fine_tuning_head=\"classification\", \n",
    "    output_size=len(label_set),\n",
    ")\n",
    "\n",
    "# Process the data for training\n",
    "data = model.process_data(adata)\n",
    "\n",
    "# Create a dictionary mapping the classes to unique integers for training\n",
    "class_id_dict = dict(zip(label_set, [i for i in range(len(label_set))]))\n",
    "\n",
    "for i in range(len(cell_types)):\n",
    "    cell_types[i] = class_id_dict[cell_types[i]]\n",
    "\n",
    "# Fine-tune\n",
    "model.train(train_input_data=data, train_labels=cell_types)"
   ]
  }
 ],
 "metadata": {
  "kernelspec": {
   "display_name": "helical",
   "language": "python",
   "name": "python3"
  },
  "language_info": {
   "codemirror_mode": {
    "name": "ipython",
    "version": 3
   },
   "file_extension": ".py",
   "mimetype": "text/x-python",
   "name": "python",
   "nbconvert_exporter": "python",
   "pygments_lexer": "ipython3",
   "version": "3.11.13"
  }
 },
 "nbformat": 4,
 "nbformat_minor": 5
}
