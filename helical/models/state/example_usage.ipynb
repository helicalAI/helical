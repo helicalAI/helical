{
 "cells": [
  {
   "cell_type": "markdown",
   "id": "932b1523",
   "metadata": {},
   "source": [
    "# Example state embeddings"
   ]
  },
  {
   "cell_type": "code",
   "execution_count": null,
   "id": "4d25cf18",
   "metadata": {},
   "outputs": [],
   "source": [
    "from helical.models.state import stateEmbeddingsModel\n",
    "from helical.models.state import stateConfig\n",
    "\n",
    "state_config = stateConfig()\n",
    "state_embed = stateEmbeddingsModel(configurer=state_config)"
   ]
  },
  {
   "cell_type": "code",
   "execution_count": null,
   "id": "ab21f895",
   "metadata": {},
   "outputs": [],
   "source": [
    "processed_data = state_embed.process_data(ann_data_path=\"competition_val_template.h5ad\")\n",
    "embeddings = state_embed.get_embeddings(processed_data)"
   ]
  },
  {
   "cell_type": "markdown",
   "id": "fa2e859e",
   "metadata": {},
   "source": [
    "# Example state transition model inference"
   ]
  },
  {
   "cell_type": "code",
   "execution_count": null,
   "id": "f08f122d",
   "metadata": {},
   "outputs": [],
   "source": [
    "from helical.models.state import stateTransitionModel\n",
    "import scanpy as sc\n",
    "\n",
    "state_transition = stateTransitionModel(configurer=state_config)\n",
    "\n",
    "adata = sc.read_h5ad(\"example_data.h5ad\")\n",
    "adata = state_transition.process_data(adata)\n",
    "# embeddings after perturbation \n",
    "adata = state_transition.get_embeddings(adata)"
   ]
  },
  {
   "cell_type": "markdown",
   "id": "17832779",
   "metadata": {},
   "source": [
    "# Example finetuning head on ST model"
   ]
  },
  {
   "cell_type": "code",
   "execution_count": 1,
   "id": "76634c36",
   "metadata": {},
   "outputs": [
    {
     "name": "stderr",
     "output_type": "stream",
     "text": [
      "INFO:datasets:PyTorch version 2.6.0 available.\n",
      "INFO:datasets:Polars version 1.33.0 available.\n"
     ]
    },
    {
     "name": "stdout",
     "output_type": "stream",
     "text": [
      "{'H1'}\n"
     ]
    },
    {
     "name": "stderr",
     "output_type": "stream",
     "text": [
      "INFO:helical.models.state.state_finetune:Backbone model frozen - only fine-tuning head will be trained\n",
      "INFO:helical.models.state.state_finetune:Created label mapping: {'H1': 0}\n",
      "INFO:helical.models.state.state_finetune:Converted string labels to integers: 1 classes\n"
     ]
    },
    {
     "name": "stdout",
     "output_type": "stream",
     "text": [
      "stateFineTuningModel(\n",
      "  (fine_tuning_head): ClassificationHead(\n",
      "    (dropout): Dropout(p=0.02, inplace=False)\n",
      "    (linear): Linear(in_features=18080, out_features=1, bias=True)\n",
      "  )\n",
      "  (model): StateTransitionPerturbationModel(\n",
      "    (loss_fn): SamplesLoss()\n",
      "    (pert_encoder): Sequential(\n",
      "      (0): Linear(in_features=5120, out_features=672, bias=True)\n",
      "      (1): GELU(approximate='none')\n",
      "      (2): Dropout(p=0.1, inplace=False)\n",
      "      (3): Linear(in_features=672, out_features=672, bias=True)\n",
      "      (4): GELU(approximate='none')\n",
      "      (5): Dropout(p=0.1, inplace=False)\n",
      "      (6): Linear(in_features=672, out_features=672, bias=True)\n",
      "      (7): GELU(approximate='none')\n",
      "      (8): Dropout(p=0.1, inplace=False)\n",
      "      (9): Linear(in_features=672, out_features=672, bias=True)\n",
      "    )\n",
      "    (basal_encoder): Linear(in_features=18080, out_features=672, bias=True)\n",
      "    (transformer_backbone): LlamaBidirectionalModel(\n",
      "      (embed_tokens): Embedding(32000, 672, padding_idx=0)\n",
      "      (layers): ModuleList(\n",
      "        (0-3): 4 x LlamaDecoderLayer(\n",
      "          (self_attn): LlamaAttention(\n",
      "            (q_proj): Linear(in_features=672, out_features=672, bias=False)\n",
      "            (k_proj): Linear(in_features=672, out_features=672, bias=False)\n",
      "            (v_proj): Linear(in_features=672, out_features=672, bias=False)\n",
      "            (o_proj): Linear(in_features=672, out_features=672, bias=False)\n",
      "          )\n",
      "          (mlp): LlamaMLP(\n",
      "            (gate_proj): Linear(in_features=672, out_features=2688, bias=False)\n",
      "            (up_proj): Linear(in_features=672, out_features=2688, bias=False)\n",
      "            (down_proj): Linear(in_features=2688, out_features=672, bias=False)\n",
      "            (act_fn): SiLU()\n",
      "          )\n",
      "          (input_layernorm): LlamaRMSNorm((672,), eps=1e-06)\n",
      "          (post_attention_layernorm): LlamaRMSNorm((672,), eps=1e-06)\n",
      "        )\n",
      "      )\n",
      "      (norm): LlamaRMSNorm((672,), eps=1e-06)\n",
      "      (rotary_emb): NoRoPE()\n",
      "    )\n",
      "    (project_out): Sequential(\n",
      "      (0): Linear(in_features=672, out_features=672, bias=True)\n",
      "      (1): GELU(approximate='none')\n",
      "      (2): Dropout(p=0.1, inplace=False)\n",
      "      (3): Linear(in_features=672, out_features=672, bias=True)\n",
      "      (4): GELU(approximate='none')\n",
      "      (5): Dropout(p=0.1, inplace=False)\n",
      "      (6): Linear(in_features=672, out_features=672, bias=True)\n",
      "      (7): GELU(approximate='none')\n",
      "      (8): Dropout(p=0.1, inplace=False)\n",
      "      (9): Linear(in_features=672, out_features=18080, bias=True)\n",
      "    )\n",
      "    (final_down_then_up): Sequential(\n",
      "      (0): Linear(in_features=18080, out_features=2260, bias=True)\n",
      "      (1): GELU(approximate='none')\n",
      "      (2): Linear(in_features=2260, out_features=18080, bias=True)\n",
      "    )\n",
      "    (relu): ReLU()\n",
      "  )\n",
      ")\n"
     ]
    },
    {
     "name": "stderr",
     "output_type": "stream",
     "text": [
      "INFO:helical.models.state.state_finetune:Optimizer set up for fine-tuning head only\n",
      "INFO:helical.models.state.state_finetune:Starting Fine-Tuning\n",
      "Fine-Tuning: epoch 1/1: 100%|██████████| 6183/6183 [00:08<00:00, 714.68it/s, loss=0]\n",
      "INFO:helical.models.state.state_finetune:Fine-Tuning Complete. Epochs: 1\n"
     ]
    }
   ],
   "source": [
    "from helical.models.state import stateFineTuningModel, stateConfig\n",
    "import scanpy as sc\n",
    "# Load the desired dataset\n",
    "adata = sc.read_h5ad(\"competition_val_template.h5ad\")\n",
    "\n",
    "# Get the desired label class\n",
    "cell_types = list(adata.obs.cell_type)\n",
    "\n",
    "# Get unique labels\n",
    "label_set = set(cell_types)\n",
    "print(label_set)\n",
    "\n",
    "# Create the fine-tuning model with the relevant configs\n",
    "config = stateConfig()\n",
    "model = stateFineTuningModel(\n",
    "    configurer=config, \n",
    "    fine_tuning_head=\"classification\", \n",
    "    output_size=len(label_set),\n",
    "    freeze_backbone=True\n",
    ")\n",
    "\n",
    "print(model)\n",
    "\n",
    "# Fine-tune\n",
    "model.train(train_input_data=adata, train_labels=cell_types)"
   ]
  },
  {
   "cell_type": "markdown",
   "id": "d53936df",
   "metadata": {},
   "source": [
    "# Creating a Virtual Cell Challenge Submission using Helical"
   ]
  },
  {
   "cell_type": "code",
   "execution_count": null,
   "id": "af0c290e",
   "metadata": {},
   "outputs": [],
   "source": [
    "'''\n",
    "Download the dataset\n",
    "\n",
    "(taken from Colab Notebook by Adduri et al.\n",
    "https://colab.research.google.com/drive/1QKOtYP7bMpdgDJEipDxaJqOchv7oQ-_l#scrollTo=h0aSjKX7Rtyw)\n",
    "'''\n",
    "\n",
    "import requests\n",
    "from tqdm.auto import tqdm  # picks the best bar for the environment\n",
    "from zipfile import ZipFile\n",
    "from tqdm.auto import tqdm\n",
    "import os\n",
    "\n",
    "# Download the Replogle-Nadig training dataset.\n",
    "url = \"https://storage.googleapis.com/vcc_data_prod/datasets/state/competition_support_set.zip\"\n",
    "output_path = \"competition_support_set.zip\"\n",
    "\n",
    "# stream the download so we can track progress\n",
    "response = requests.get(url, stream=True)\n",
    "total = int(response.headers.get(\"content-length\", 0))\n",
    "\n",
    "with open(output_path, \"wb\") as f, tqdm(\n",
    "    total=total, unit='B', unit_scale=True, desc=\"Downloading\"\n",
    ") as bar:\n",
    "    for chunk in response.iter_content(chunk_size=8192):\n",
    "        if not chunk:\n",
    "            break\n",
    "        f.write(chunk)\n",
    "        bar.update(len(chunk))\n",
    "\n",
    "out_dir  = \"competition_support_set\"\n",
    "os.makedirs(out_dir, exist_ok=True)\n",
    "with ZipFile(output_path, 'r') as z:\n",
    "    for member in tqdm(z.infolist(), desc=\"Unzipping\", unit=\"file\"):\n",
    "        z.extract(member, out_dir)"
   ]
  },
  {
   "cell_type": "code",
   "execution_count": null,
   "id": "f0896132",
   "metadata": {},
   "outputs": [],
   "source": [
    "# train the model on the training data\n",
    "from helical.models.state import stateTransitionTrainModel\n",
    "from helical.models.state.train_configs import trainingConfig\n",
    "\n",
    "train_config = trainingConfig(\n",
    "    toml_config_path=\"competition_support_set/starter.toml\",\n",
    "    num_workers=4,\n",
    "    batch_col=\"batch_var\",\n",
    "    pert_col=\"target_gene\",\n",
    "    cell_type_key=\"cell_type\",\n",
    "    control_pert=\"non-targeting\",\n",
    "    perturbation_features_file=\"competition_support_set/ESM2_pert_features.pt\",\n",
    "    max_steps=40000,\n",
    "    ckpt_every_n_steps=20000,\n",
    "    model=\"state\")\n",
    "\n",
    "state_train = stateTransitionTrainModel(configurer = train_config)\n",
    "state_train.train() \n",
    "state_train.predict() "
   ]
  },
  {
   "cell_type": "markdown",
   "id": "87e308f7",
   "metadata": {},
   "source": [
    "Once the model is trained we can perform inference on a new dataset as done with the class before"
   ]
  },
  {
   "cell_type": "code",
   "execution_count": null,
   "id": "80638e64",
   "metadata": {},
   "outputs": [],
   "source": [
    "from helical.models.state import stateConfig\n",
    "from helical.models.state import stateTransitionModel\n",
    "import scanpy as sc\n",
    "\n",
    "state_config = stateConfig(\n",
    "    output = \"competition/prediction.h5ad\",\n",
    "    model_dir = \"competition/first_run\",\n",
    "    checkpoint = \"competition/first_run/checkpoints/final.ckpt\",\n",
    "    pert_col = \"target_gene\",\n",
    "    embed_key = None,\n",
    "    celltype_col = None,\n",
    "    celltypes = None,\n",
    "    batch_col = None,\n",
    "    control_pert = None,\n",
    "    seed = 42,\n",
    "    max_set_len = None,\n",
    "    tsv = None\n",
    ")\n",
    "\n",
    "adata = sc.read_h5ad(\"competition_support_set/competition_val_template.h5ad\")\n",
    "\n",
    "state_transition = stateTransitionModel(configurer=state_config)\n",
    "adata = state_transition.process_data(adata)\n",
    "embeds = state_transition.get_embeddings(adata)"
   ]
  },
  {
   "cell_type": "code",
   "execution_count": null,
   "id": "9f1e27c8",
   "metadata": {},
   "outputs": [],
   "source": [
    "import scanpy as sc\n",
    "\n",
    "adata = sc.read_h5ad(\"competition_val_template.h5ad\")\n",
    "\n",
    "\n",
    "# Print the AnnData object structure and keys\n",
    "print(\"AnnData object:\")\n",
    "print(adata)\n",
    "print(\"\\nobs columns:\", adata.obs.columns.tolist())\n",
    "print(\"var columns:\", adata.var.columns.tolist())\n",
    "print(\"uns keys:\", list(adata.uns.keys()))\n",
    "print(\"obsm keys:\", list(adata.obsm.keys()))\n",
    "print(\"varm keys:\", list(adata.varm.keys()))\n"
   ]
  },
  {
   "cell_type": "markdown",
   "id": "1f7f46f2",
   "metadata": {},
   "source": [
    "Now we can evaluate the model"
   ]
  },
  {
   "cell_type": "code",
   "execution_count": null,
   "id": "d274d004",
   "metadata": {},
   "outputs": [],
   "source": [
    "# evaluate the model - underlying function uses cell-eval package \n",
    "# (https://github.com/ArcInstitute/cell-eval)\n",
    "from helical.models.state import vcc_eval\n",
    "\n",
    "# default configs for competition dataset\n",
    "EXPECTED_GENE_DIM = 18080\n",
    "MAX_CELL_DIM = 100000\n",
    "DEFAULT_PERT_COL = \"target_gene\"\n",
    "DEFAULT_CTRL = \"non-targeting\"\n",
    "DEFAULT_COUNTS_COL = \"n_cells\"\n",
    "DEFAULT_CELLTYPE_COL = \"celltype\"\n",
    "DEFAULT_NTC_NAME = \"non-targeting\"\n",
    "\n",
    "configs = {\n",
    "    # path to the prediction file\n",
    "    \"input\": \"competition/prediction.h5ad\",\n",
    "    # path to the gene names file\n",
    "    \"genes\": \"competition_support_set/gene_names.csv\",\n",
    "    # path to the output file - if None will be created with default naming\n",
    "    \"output\": None,\n",
    "    \"pert_col\": DEFAULT_PERT_COL,\n",
    "    \"celltype_col\": None,\n",
    "    \"ntc_name\": DEFAULT_NTC_NAME,\n",
    "    \"output_pert_col\": DEFAULT_PERT_COL,\n",
    "    \"output_celltype_col\": DEFAULT_CELLTYPE_COL,\n",
    "    \"encoding\": 32,\n",
    "    \"allow_discrete\": False,\n",
    "    \"expected_gene_dim\": EXPECTED_GENE_DIM,\n",
    "    \"max_cell_dim\": MAX_CELL_DIM,\n",
    "}\n",
    "\n",
    "# this creates a submission file in the output directory which can be uploaded to the challenge leaderboard\n",
    "vcc_eval(configs)"
   ]
  }
 ],
 "metadata": {
  "kernelspec": {
   "display_name": "helical",
   "language": "python",
   "name": "python3"
  },
  "language_info": {
   "codemirror_mode": {
    "name": "ipython",
    "version": 3
   },
   "file_extension": ".py",
   "mimetype": "text/x-python",
   "name": "python",
   "nbconvert_exporter": "python",
   "pygments_lexer": "ipython3",
   "version": "3.11.13"
  }
 },
 "nbformat": 4,
 "nbformat_minor": 5
}
