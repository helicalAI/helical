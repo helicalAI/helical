{
 "cells": [
  {
   "cell_type": "markdown",
   "metadata": {
    "id": "yXsc6JTIw0HX"
   },
   "source": [
    "# Cell type annotation prediction\n",
    "\n",
    "Run this notebook on google colab to use a free GPU!\n",
    "\n",
    "[![Open In Colab](https://colab.research.google.com/assets/colab-badge.svg)](https://colab.research.google.com/github/helicalAI/helical/blob/main/examples/notebooks/Cell-Type-Annotation.ipynb)\n",
    "\n",
    "In this notebook, an [scGPT](https://www.nature.com/articles/s41592-024-02201-0) model is used to predict a cell type annotation with a given gene expression profile.\n",
    "\n",
    "This follows the tutorial from scGPT [here](https://github.com/bowang-lab/scGPT/blob/main/tutorials/Tutorial_Annotation.ipynb), but instead of fine-tuning the entire model, a smaller neural network is trained, using the embeddings of the gene expressions as inputs, to make a prediction.\n",
    "\n",
    "The same approach is made with the [Geneformer](https://www.nature.com/articles/s41586-023-06139-9.epdf?sharing_token=u_5LUGVkd3A8zR-f73lU59RgN0jAjWel9jnR3ZoTv0N2UB4yyXENUK50s6uqjXH69sDxh4Z3J4plYCKlVME-W2WSuRiS96vx6t5ex2-krVDS46JkoVvAvJyWtYXIyj74pDWn_DutZq1oAlDaxfvBpUfSKDdBPJ8SKlTId8uT47M%3D) model and the results are compared against each other.\n",
    "\n",
    "This approach greatly reduces time and complexity."
   ]
  },
  {
   "cell_type": "code",
   "execution_count": 1,
   "metadata": {
    "colab": {
     "base_uri": "https://localhost:8080/"
    },
    "id": "VVhpT3bSxAML",
    "outputId": "49cc4e8e-7599-4320-c9db-d7a35eba6f1f"
   },
   "outputs": [],
   "source": [
    "# !pip install helical"
   ]
  },
  {
   "cell_type": "code",
   "execution_count": 2,
   "metadata": {},
   "outputs": [],
   "source": [
    "# !pip install datasets --upgrade"
   ]
  },
  {
   "cell_type": "code",
   "execution_count": 3,
   "metadata": {
    "colab": {
     "base_uri": "https://localhost:8080/"
    },
    "id": "aDf6LsRIZ80C",
    "outputId": "b7ef3182-a30f-4946-a2d5-72b6c9082b87"
   },
   "outputs": [
    {
     "name": "stderr",
     "output_type": "stream",
     "text": [
      "INFO:datasets:PyTorch version 2.3.0 available.\n",
      "INFO:datasets:Polars version 0.20.31 available.\n",
      "INFO:datasets:JAX version 0.4.31 available.\n"
     ]
    }
   ],
   "source": [
    "from sklearn.metrics import accuracy_score, precision_score, f1_score, recall_score\n",
    "from sklearn.preprocessing import LabelEncoder\n",
    "import numpy as np\n",
    "import pandas as pd\n",
    "from sklearn.model_selection import train_test_split\n",
    "import anndata as ad\n",
    "import torch\n",
    "from torch.utils.data import DataLoader, TensorDataset\n",
    "from torch import nn\n",
    "from scipy.sparse import lil_matrix\n",
    "import torch.optim as optim\n",
    "from helical.models.scgpt.model import scGPT, scGPTConfig\n",
    "from helical.models.geneformer.model import Geneformer, GeneformerConfig\n",
    "from copy import deepcopy   \n",
    "from torch.nn.functional import one_hot"
   ]
  },
  {
   "cell_type": "markdown",
   "metadata": {},
   "source": [
    "We load the our dataset from the EMBL [website](https://www.ebi.ac.uk/biostudies/arrayexpress/studies/E-MTAB-11673). To download the dataset, we are leveraging Huggingface's optimized library!"
   ]
  },
  {
   "cell_type": "code",
   "execution_count": 4,
   "metadata": {},
   "outputs": [
    {
     "name": "stderr",
     "output_type": "stream",
     "text": [
      "Generating train split: 100%|██████████| 25344/25344 [00:14<00:00, 1693.62 examples/s]\n",
      "Generating test split: 100%|██████████| 6336/6336 [00:02<00:00, 2115.23 examples/s]\n"
     ]
    }
   ],
   "source": [
    "from datasets import load_dataset\n",
    "ds = load_dataset(\"helical-ai/yolksac_human\",trust_remote_code=True, split=\"train[:65%]\",download_mode=\"reuse_cache_if_exists\")"
   ]
  },
  {
   "cell_type": "code",
   "execution_count": 5,
   "metadata": {
    "colab": {
     "base_uri": "https://localhost:8080/"
    },
    "id": "TpvpV2yZpZBO",
    "outputId": "0caaa74e-f0ff-4122-bd27-32af6d85d155"
   },
   "outputs": [],
   "source": [
    "observation_columns = [obs for obs in list(ds.features.keys()) if not obs == 'raw_counts']\n",
    "obs_data = pd.DataFrame(ds.select_columns(observation_columns).data.to_pandas(),columns=observation_columns)\n",
    "lil = lil_matrix((len(ds),ds[0]['size']))\n",
    "lil.data = np.array(ds['raw_counts'],dtype=\"object\")\n",
    "lil.rows = np.array(ds['rows'],dtype=\"object\")\n",
    "adata = ad.AnnData(lil.tocsr(),obs=obs_data)\n",
    "adata.var_names = ds.features['raw_counts'].id.split(\",\")\n",
    "adata.var['gene_name'] = adata.var_names.str.upper()"
   ]
  },
  {
   "cell_type": "markdown",
   "metadata": {
    "id": "XME3WOUl-BSf"
   },
   "source": [
    "Let's familiarise ourselves with the data!\n",
    "\n",
    "We are interested in the names of the cells we want to predict. They are saved in `adata.obs[\"LVL1\"]`.\n",
    "\n",
    "Additionally, we need to know how many distinct cell types/classes we have."
   ]
  },
  {
   "cell_type": "code",
   "execution_count": 6,
   "metadata": {
    "id": "sjo5qHPFw0HY"
   },
   "outputs": [],
   "source": [
    "# get labels: the celltype\n",
    "num_types = adata.obs[\"LVL1\"].unique().shape[0]\n",
    "id2type = dict(enumerate(adata.obs[\"LVL1\"].astype(\"category\").cat.categories))\n",
    "\n",
    "celltypes_labels = np.array(adata.obs[\"LVL1\"].tolist())"
   ]
  },
  {
   "cell_type": "markdown",
   "metadata": {
    "id": "VzPLNqRr-BSg"
   },
   "source": [
    "This is all summarized in this dictionary:"
   ]
  },
  {
   "cell_type": "code",
   "execution_count": 7,
   "metadata": {
    "colab": {
     "base_uri": "https://localhost:8080/"
    },
    "id": "_j-x6weFm6UO",
    "outputId": "5d0c52f1-553e-460f-def7-7cf372b9bc89"
   },
   "outputs": [
    {
     "data": {
      "text/plain": [
       "{0: 'ERYTHROID',\n",
       " 1: 'LYMPHOID',\n",
       " 2: 'MK',\n",
       " 3: 'MYELOID',\n",
       " 4: 'PROGENITOR',\n",
       " 5: 'STROMA'}"
      ]
     },
     "execution_count": 7,
     "metadata": {},
     "output_type": "execute_result"
    }
   ],
   "source": [
    "id2type"
   ]
  },
  {
   "cell_type": "markdown",
   "metadata": {
    "id": "HayHZKTC-BSi"
   },
   "source": [
    "Use the Helical package to get the embeddings of the gene expression profile.\n",
    "\n",
    "The only thing we need to specify is the column containing the names of the genes. (`gene_name` in this case)\n",
    "\n",
    "The resulting embeddings are the input features `x` for our smaller NN model."
   ]
  },
  {
   "cell_type": "markdown",
   "metadata": {
    "id": "_cXrEgxHC-Wi"
   },
   "source": [
    "# scGPT"
   ]
  },
  {
   "cell_type": "code",
   "execution_count": 8,
   "metadata": {
    "colab": {
     "base_uri": "https://localhost:8080/"
    },
    "id": "t0hNoTJdw0Ha",
    "outputId": "26c17bfa-13de-4ccb-beb4-a725a40dd97f"
   },
   "outputs": [
    {
     "name": "stderr",
     "output_type": "stream",
     "text": [
      "INFO:helical.utils.downloader:File: '/home/benoit/.cache/helical/models/scgpt/scGPT_CP/vocab.json' exists already. File is not overwritten and nothing is downloaded.\n",
      "INFO:helical.utils.downloader:File saved to: '/home/benoit/.cache/helical/models/scgpt/scGPT_CP/vocab.json'\n",
      "INFO:helical.utils.downloader:File: '/home/benoit/.cache/helical/models/scgpt/scGPT_CP/best_model.pt' exists already. File is not overwritten and nothing is downloaded.\n",
      "INFO:helical.utils.downloader:File saved to: '/home/benoit/.cache/helical/models/scgpt/scGPT_CP/best_model.pt'\n",
      "INFO:helical.models.scgpt.model:Model finished initializing.\n",
      "INFO:helical.models.scgpt.model:Filtering out 11163 genes to a total of 26155 genes with an id in the scGPT vocabulary.\n",
      "INFO:helical.models.scgpt.model:Inference started:\n",
      "Embedding cells: 100%|██████████| 330/330 [00:33<00:00,  9.84it/s]\n"
     ]
    },
    {
     "data": {
      "text/plain": [
       "(16474, 512)"
      ]
     },
     "execution_count": 8,
     "metadata": {},
     "output_type": "execute_result"
    }
   ],
   "source": [
    "device = \"cuda\" if torch.cuda.is_available() else \"cpu\"\n",
    "\n",
    "scgpt_config = scGPTConfig(batch_size=50, device=device)\n",
    "scgpt = scGPT(configurer = scgpt_config)\n",
    "data = scgpt.process_data(adata, gene_names = \"gene_name\")\n",
    "x_scgpt = scgpt.get_embeddings(data)\n",
    "x_scgpt.shape"
   ]
  },
  {
   "cell_type": "markdown",
   "metadata": {
    "id": "YxtVwacW-BSj"
   },
   "source": [
    "With the input features, we also need the corresponding labels `y`.\n",
    "\n",
    "They correspond to the cell type labels.\n",
    "\n",
    "As we have a categorical prediction, we transform the cell type labels to integer labels to work with CrossEntropyLoss later."
   ]
  },
  {
   "cell_type": "code",
   "execution_count": 9,
   "metadata": {
    "colab": {
     "base_uri": "https://localhost:8080/"
    },
    "id": "zHMZ7VX8m6UQ",
    "outputId": "d40c15bd-4ea5-4821-def3-7f253a3af469"
   },
   "outputs": [],
   "source": [
    "y = celltypes_labels\n",
    "num_classes = num_types\n",
    "\n",
    "encoder = LabelEncoder()\n",
    "y_encoded = encoder.fit_transform(y)\n",
    "y_encoded = one_hot(torch.tensor(y_encoded),num_classes).float()"
   ]
  },
  {
   "cell_type": "markdown",
   "metadata": {
    "id": "wQpfYP2z-BSk"
   },
   "source": [
    "## Define and train the model"
   ]
  },
  {
   "cell_type": "code",
   "execution_count": 10,
   "metadata": {
    "colab": {
     "base_uri": "https://localhost:8080/"
    },
    "id": "iVtFwjSp4rgs",
    "outputId": "4b68dd99-6615-4912-97bb-8267135c40d5"
   },
   "outputs": [
    {
     "name": "stdout",
     "output_type": "stream",
     "text": [
      "Sequential(\n",
      "  (0): Linear(in_features=512, out_features=128, bias=True)\n",
      "  (1): ReLU()\n",
      "  (2): Dropout(p=0.4, inplace=False)\n",
      "  (3): Linear(in_features=128, out_features=32, bias=True)\n",
      "  (4): ReLU()\n",
      "  (5): Dropout(p=0.4, inplace=False)\n",
      "  (6): Linear(in_features=32, out_features=6, bias=True)\n",
      ")\n"
     ]
    }
   ],
   "source": [
    "input_shape = 512\n",
    "\n",
    "# Define the model architecture\n",
    "head_model = nn.Sequential(\n",
    "    nn.Linear(input_shape, 128),\n",
    "    nn.ReLU(),\n",
    "    nn.Dropout(0.4),\n",
    "    nn.Linear(128, 32),\n",
    "    nn.ReLU(),\n",
    "    nn.Dropout(0.4),\n",
    "    nn.Linear(32, num_classes)\n",
    "    )\n",
    "\n",
    "print(head_model)"
   ]
  },
  {
   "cell_type": "code",
   "execution_count": 11,
   "metadata": {},
   "outputs": [],
   "source": [
    "def train_model(model: nn.Sequential,\n",
    "                X_train: torch.Tensor,  \n",
    "                y_train: torch.Tensor,  \n",
    "                X_val: torch.Tensor, \n",
    "                y_val: torch.Tensor, \n",
    "                optimizer = optim.Adam, \n",
    "                loss_fn = nn.CrossEntropyLoss(),\n",
    "                num_epochs = 50, \n",
    "                batch = 64):    \n",
    "\n",
    "    # Create DataLoader for batching\n",
    "    train_dataset = TensorDataset(X_train, y_train)\n",
    "    train_loader = DataLoader(train_dataset, batch_size=batch, shuffle=True)\n",
    "\n",
    "    # Validation dataset\n",
    "    val_dataset = TensorDataset(X_val, y_val)\n",
    "    val_loader = DataLoader(val_dataset, batch_size=batch, shuffle=False)\n",
    "\n",
    "    # Ensure model is in training mode\n",
    "    model.train()\n",
    "\n",
    "    for epoch in range(num_epochs):\n",
    "        for batch_X, batch_y in train_loader:\n",
    "            # Zero the parameter gradients\n",
    "            optimizer.zero_grad()\n",
    "            \n",
    "            # Forward pass\n",
    "            outputs = model(batch_X)\n",
    "            \n",
    "            # Compute loss\n",
    "            loss = loss_fn(outputs, batch_y)\n",
    "            \n",
    "            # Backward pass and optimize\n",
    "            loss.backward()\n",
    "            optimizer.step()\n",
    "            optimizer.zero_grad()\n",
    "        \n",
    "        # Validation phase (optional)\n",
    "        model.eval()\n",
    "        with torch.no_grad():\n",
    "            val_losses = []\n",
    "            for val_X, val_y in val_loader:\n",
    "                val_outputs = model(val_X)\n",
    "                val_loss = loss_fn(val_outputs, val_y)\n",
    "                val_losses.append(val_loss.item())\n",
    "            \n",
    "            print(f\"Epoch {epoch+1}, Validation Loss: {sum(val_losses)/len(val_losses)}\")\n",
    "        \n",
    "        # Set back to training mode for next epoch\n",
    "        model.train()\n",
    "        \n",
    "    model.eval()   \n",
    "    return model"
   ]
  },
  {
   "cell_type": "code",
   "execution_count": 12,
   "metadata": {
    "colab": {
     "base_uri": "https://localhost:8080/"
    },
    "id": "m_MksIuNw0Hb",
    "outputId": "1c316b1e-87b3-4ad5-d283-e6e810c44d19"
   },
   "outputs": [
    {
     "name": "stdout",
     "output_type": "stream",
     "text": [
      "Epoch 1, Validation Loss: 0.10509900515899062\n",
      "Epoch 2, Validation Loss: 0.09210213305106243\n",
      "Epoch 3, Validation Loss: 0.08708009730952863\n",
      "Epoch 4, Validation Loss: 0.08486809238988477\n",
      "Epoch 5, Validation Loss: 0.07630292710830243\n",
      "Epoch 6, Validation Loss: 0.07355103734880686\n",
      "Epoch 7, Validation Loss: 0.06611681672690722\n",
      "Epoch 8, Validation Loss: 0.06312987544627574\n",
      "Epoch 9, Validation Loss: 0.056430156445668005\n",
      "Epoch 10, Validation Loss: 0.05318047078505445\n",
      "Epoch 11, Validation Loss: 0.05370905570005281\n",
      "Epoch 12, Validation Loss: 0.050026227198451616\n",
      "Epoch 13, Validation Loss: 0.04953212696441019\n",
      "Epoch 14, Validation Loss: 0.04679244866397662\n",
      "Epoch 15, Validation Loss: 0.05049864224341805\n",
      "Epoch 16, Validation Loss: 0.04329267257260373\n",
      "Epoch 17, Validation Loss: 0.05164720463262011\n",
      "Epoch 18, Validation Loss: 0.044551525596314326\n",
      "Epoch 19, Validation Loss: 0.04502302069494572\n",
      "Epoch 20, Validation Loss: 0.040517984640945755\n",
      "Epoch 21, Validation Loss: 0.04486050424971976\n",
      "Epoch 22, Validation Loss: 0.044199613513998114\n",
      "Epoch 23, Validation Loss: 0.04122369681135751\n",
      "Epoch 24, Validation Loss: 0.03933001797346291\n",
      "Epoch 25, Validation Loss: 0.042462229007819235\n",
      "Epoch 26, Validation Loss: 0.04435293143167375\n",
      "Epoch 27, Validation Loss: 0.04156974930755006\n",
      "Epoch 28, Validation Loss: 0.03967876623657783\n",
      "Epoch 29, Validation Loss: 0.03859212029671583\n",
      "Epoch 30, Validation Loss: 0.041997895730533995\n",
      "Epoch 31, Validation Loss: 0.03875408053639918\n",
      "Epoch 32, Validation Loss: 0.041402942252506576\n",
      "Epoch 33, Validation Loss: 0.04364953876714795\n",
      "Epoch 34, Validation Loss: 0.03740719119937589\n",
      "Epoch 35, Validation Loss: 0.03878503382908933\n",
      "Epoch 36, Validation Loss: 0.04403487707839723\n",
      "Epoch 37, Validation Loss: 0.045056324614471614\n",
      "Epoch 38, Validation Loss: 0.04669451509499385\n",
      "Epoch 39, Validation Loss: 0.04211538765230216\n",
      "Epoch 40, Validation Loss: 0.046166509291372046\n",
      "Epoch 41, Validation Loss: 0.0411657914261853\n",
      "Epoch 42, Validation Loss: 0.038813597457752064\n",
      "Epoch 43, Validation Loss: 0.03979039859125176\n",
      "Epoch 44, Validation Loss: 0.038490781341142095\n",
      "Epoch 45, Validation Loss: 0.03988477771837587\n",
      "Epoch 46, Validation Loss: 0.04218148411578463\n",
      "Epoch 47, Validation Loss: 0.04319032455588548\n",
      "Epoch 48, Validation Loss: 0.043836868794572256\n",
      "Epoch 49, Validation Loss: 0.046494297688835874\n",
      "Epoch 50, Validation Loss: 0.040836334969543926\n"
     ]
    }
   ],
   "source": [
    "X_train, X_test, y_train, y_test = train_test_split(x_scgpt, y_encoded, test_size=0.1, random_state=42)\n",
    "\n",
    "head_model_scgpt = deepcopy(head_model)\n",
    "head_model_scgpt = train_model(head_model_scgpt, \n",
    "                               torch.from_numpy(X_train), \n",
    "                               y_train, \n",
    "                               torch.from_numpy(X_test), \n",
    "                               y_test,\n",
    "                               optim.Adam(head_model_scgpt.parameters(), lr=0.001),\n",
    "                               nn.CrossEntropyLoss())"
   ]
  },
  {
   "cell_type": "code",
   "execution_count": 13,
   "metadata": {
    "colab": {
     "base_uri": "https://localhost:8080/"
    },
    "id": "UX4bwC0xw0Hc",
    "outputId": "d726323c-ce91-4be6-a09c-608f1dda4bd7"
   },
   "outputs": [],
   "source": [
    "predictions_nn = head_model_scgpt(torch.Tensor(X_test))\n",
    "y_pred = np.array(torch.argmax(predictions_nn, dim=1))\n",
    "y_true = np.array(y_test.argmax(axis=1))"
   ]
  },
  {
   "cell_type": "markdown",
   "metadata": {
    "id": "Uy8_LASN-BSl"
   },
   "source": [
    "## Present the results\n",
    "- on the test set and,\n",
    "- a separate, unseen evaluation set"
   ]
  },
  {
   "cell_type": "code",
   "execution_count": 14,
   "metadata": {
    "id": "_Lkv-mfDuKUP"
   },
   "outputs": [],
   "source": [
    "def get_evaluations(name_data_set, y_true, y_pred) -> dict:\n",
    "  accuracy = accuracy_score(y_true, y_pred)\n",
    "  precision = precision_score(y_true, y_pred, average='macro')\n",
    "  f1 = f1_score(y_true, y_pred, average='macro')\n",
    "  recall = recall_score(y_true, y_pred, average='macro')\n",
    "  print(f\"{name_data_set} accuracy: {(accuracy*100):.1f}%\")\n",
    "  print(f\"{name_data_set} precision: {(precision*100):.1f}%\")\n",
    "  print(f\"{name_data_set} f1: {(f1*100):.1f}%\")\n",
    "  print(f\"{name_data_set} recall: {(recall*100):.1f}%\")\n",
    "  return {\n",
    "      \"accuracy\": accuracy,\n",
    "      \"precision\": precision,\n",
    "      \"f1\": f1,\n",
    "      \"recall\": recall,\n",
    "  }"
   ]
  },
  {
   "cell_type": "code",
   "execution_count": 15,
   "metadata": {
    "colab": {
     "base_uri": "https://localhost:8080/"
    },
    "id": "q3THhrm7uS99",
    "outputId": "6737b828-df9c-4507-c577-80082247918b"
   },
   "outputs": [
    {
     "name": "stdout",
     "output_type": "stream",
     "text": [
      "Test set accuracy: 99.3%\n",
      "Test set precision: 97.8%\n",
      "Test set f1: 97.4%\n",
      "Test set recall: 97.2%\n"
     ]
    },
    {
     "data": {
      "text/plain": [
       "{'accuracy': 0.9927184466019418,\n",
       " 'precision': 0.9775860337484131,\n",
       " 'f1': 0.9743593343813646,\n",
       " 'recall': 0.9720213390843576}"
      ]
     },
     "execution_count": 15,
     "metadata": {},
     "output_type": "execute_result"
    }
   ],
   "source": [
    "get_evaluations(\"Test set\", y_true, y_pred)"
   ]
  },
  {
   "cell_type": "markdown",
   "metadata": {
    "id": "PGwcZiNaLkBv"
   },
   "source": [
    "Load the unseen evaluation set:"
   ]
  },
  {
   "cell_type": "code",
   "execution_count": 16,
   "metadata": {},
   "outputs": [
    {
     "name": "stderr",
     "output_type": "stream",
     "text": [
      "Generating train split: 100%|██████████| 25344/25344 [00:14<00:00, 1777.43 examples/s]\n",
      "Generating test split: 100%|██████████| 6336/6336 [00:02<00:00, 2123.87 examples/s]\n"
     ]
    }
   ],
   "source": [
    "ds = load_dataset(\"helical-ai/yolksac_human\",trust_remote_code=True, split=\"train[70%:]\",download_mode=\"reuse_cache_if_exists\")"
   ]
  },
  {
   "cell_type": "code",
   "execution_count": 17,
   "metadata": {},
   "outputs": [],
   "source": [
    "observation_columns = [obs for obs in list(ds.features.keys()) if not obs == 'raw_counts']\n",
    "obs_data = pd.DataFrame(ds.select_columns(observation_columns).data.to_pandas(),columns=observation_columns)\n",
    "lil = lil_matrix((len(ds),ds[0]['size']))\n",
    "lil.data = np.array(ds['raw_counts'],dtype=\"object\")\n",
    "lil.rows = np.array(ds['rows'],dtype=\"object\")\n",
    "adata_unseen = ad.AnnData(lil.tocsr(),obs=obs_data)\n",
    "adata_unseen.var_names = ds.features['raw_counts'].id.split(\",\")\n",
    "adata_unseen.var['gene_name'] = adata_unseen.var_names.str.upper()"
   ]
  },
  {
   "cell_type": "code",
   "execution_count": 18,
   "metadata": {
    "colab": {
     "base_uri": "https://localhost:8080/"
    },
    "id": "18bomcpxlxtY",
    "outputId": "ab17404e-20c0-4590-b730-492de07e55bd"
   },
   "outputs": [
    {
     "name": "stderr",
     "output_type": "stream",
     "text": [
      "INFO:helical.models.scgpt.model:Filtering out 11163 genes to a total of 26155 genes with an id in the scGPT vocabulary.\n"
     ]
    },
    {
     "name": "stderr",
     "output_type": "stream",
     "text": [
      "INFO:helical.models.scgpt.model:Inference started:\n",
      "Embedding cells: 100%|██████████| 153/153 [00:15<00:00,  9.72it/s]\n"
     ]
    }
   ],
   "source": [
    "data_unseen = scgpt.process_data(adata_unseen, gene_names=\"gene_name\")\n",
    "x_unseen = scgpt.get_embeddings(data_unseen)\n",
    "predictions_nn_unseen = head_model_scgpt(torch.Tensor(x_unseen))"
   ]
  },
  {
   "cell_type": "markdown",
   "metadata": {
    "id": "CTDOE-0uLFAq"
   },
   "source": [
    "We should double check that the cell types are mapped to the correct id numbers for both the training data and this new data set."
   ]
  },
  {
   "cell_type": "code",
   "execution_count": 19,
   "metadata": {
    "colab": {
     "base_uri": "https://localhost:8080/"
    },
    "id": "h0Z6ZTBEJuuY",
    "outputId": "afab8809-b893-42fc-865d-4149f181a3ab"
   },
   "outputs": [
    {
     "data": {
      "text/plain": [
       "True"
      ]
     },
     "execution_count": 19,
     "metadata": {},
     "output_type": "execute_result"
    }
   ],
   "source": [
    "num_types = adata_unseen.obs[\"LVL1\"].unique().shape[0]\n",
    "id2type_unseen = dict(enumerate(adata_unseen.obs[\"LVL1\"].astype(\"category\").cat.categories))\n",
    "id2type_unseen == id2type"
   ]
  },
  {
   "cell_type": "code",
   "execution_count": 20,
   "metadata": {
    "colab": {
     "base_uri": "https://localhost:8080/"
    },
    "id": "loLEKJr3qZvL",
    "outputId": "32ec87e0-96d3-4d5e-a1ae-6d3244e80ddb"
   },
   "outputs": [
    {
     "name": "stdout",
     "output_type": "stream",
     "text": [
      "Evaluation set accuracy: 99.2%\n",
      "Evaluation set precision: 90.8%\n",
      "Evaluation set f1: 79.1%\n",
      "Evaluation set recall: 80.7%\n"
     ]
    }
   ],
   "source": [
    "y_true_unseen = np.array(adata_unseen.obs[\"LVL1\"].tolist())\n",
    "y_pred_unseen = [id2type[prediction] for prediction in np.array(torch.argmax(predictions_nn_unseen, dim=1))]\n",
    "\n",
    "scgpt_results = get_evaluations(\"Evaluation set\", y_true_unseen, y_pred_unseen)"
   ]
  },
  {
   "cell_type": "markdown",
   "metadata": {
    "id": "RgMbzX-z-BSm"
   },
   "source": [
    "Plot a confusion matrix to visualise the classification performance for each the cell type. This is done for the evalation set."
   ]
  },
  {
   "cell_type": "code",
   "execution_count": 21,
   "metadata": {
    "colab": {
     "base_uri": "https://localhost:8080/",
     "height": 1000
    },
    "id": "3f-apdJ4-BSm",
    "outputId": "3a195685-3539-4eb3-a90c-f029ecaf7949"
   },
   "outputs": [
    {
     "data": {
      "text/plain": [
       "<Axes: >"
      ]
     },
     "execution_count": 21,
     "metadata": {},
     "output_type": "execute_result"
    },
    {
     "data": {
      "image/png": "[encoded data removed]",
      "text/plain": [
       "<Figure size 1200x1200 with 2 Axes>"
      ]
     },
     "metadata": {},
     "output_type": "display_data"
    }
   ],
   "source": [
    "from sklearn.metrics import confusion_matrix\n",
    "import pandas as pd\n",
    "import seaborn as sns\n",
    "import matplotlib.pyplot as plt\n",
    "\n",
    "set_predicted_cell_types = list(adata_unseen.obs[\"LVL1\"].unique())\n",
    "for i in set(y_pred_unseen):\n",
    "    if i not in set_predicted_cell_types:\n",
    "        set_predicted_cell_types.remove(i)\n",
    "\n",
    "cm = confusion_matrix(y_true_unseen, y_pred_unseen)\n",
    "cm = cm.astype(\"float\") / cm.sum(axis=1)[:, np.newaxis]\n",
    "cm = pd.DataFrame(cm, index=set_predicted_cell_types[:cm.shape[0]], columns=set_predicted_cell_types[:cm.shape[1]])\n",
    "plt.figure(figsize=(12, 12))\n",
    "sns.heatmap(cm, annot=True, fmt=\".1f\", cmap=\"Blues\")"
   ]
  },
  {
   "cell_type": "markdown",
   "metadata": {
    "id": "XdG0swPrC5sh"
   },
   "source": [
    "# Geneformer"
   ]
  },
  {
   "cell_type": "markdown",
   "metadata": {},
   "source": [
    "Let's do the same with the Geneformer."
   ]
  },
  {
   "cell_type": "code",
   "execution_count": 22,
   "metadata": {
    "colab": {
     "base_uri": "https://localhost:8080/",
     "height": 285,
     "referenced_widgets": [
      "9be7ad77cfbb4aebbf850bce0d703286",
      "96cf6bd80b23485a91309f97fceae386",
      "6793d6aa02fe4992b2a3079935804e68",
      "8b87146682714f9394465afb70fb6296",
      "8602ffeb4a5548f3b88e0011ff526b60",
      "dd28b99c3789438ba123044f9d8bd481",
      "11d0b1de79104633bd46099d3fc9f845",
      "b0387ec16b2346d6a690f8bd8ef7aae9",
      "0fcbdfa61d8c47499ea91c045e6bdb88",
      "475e8bc25e844eb7bda64024f6fd328b",
      "06b297ce68a54494925355922e6a3e60",
      "129fbaa5b93146839d3e095e066689b2",
      "75250bb34c7a4816bb50bab813367823",
      "18e7db16f29b4c5fb37b12b7ecabd994",
      "811ae6f2713942459f44a8ad0b78f1c8",
      "8333081f6e6844fb9872d9d14b9798f4",
      "1a9866fd593a4773a9336548d9fb4e7c",
      "6105972c9a224bb2b83c39d498d82694",
      "ac8fd8833f8b434c98ebf9de7fd7c956",
      "746baf43caea4ee2831817691b968573",
      "94072eee12234d52906f701dbaec4ea7",
      "0ba9a6eb6f0c4d63ae804a09f5d3b7a5"
     ]
    },
    "id": "5P_7jNYDqbYp",
    "outputId": "2fcd4258-77bb-47f1-94fd-6e9742f02e04"
   },
   "outputs": [
    {
     "name": "stderr",
     "output_type": "stream",
     "text": [
      "INFO:helical.utils.downloader:File: '/home/benoit/.cache/helical/models/geneformer/v1/gene_median_dictionary.pkl' exists already. File is not overwritten and nothing is downloaded.\n",
      "INFO:helical.utils.downloader:File saved to: '/home/benoit/.cache/helical/models/geneformer/v1/gene_median_dictionary.pkl'\n",
      "INFO:helical.utils.downloader:File: '/home/benoit/.cache/helical/models/geneformer/v1/token_dictionary.pkl' exists already. File is not overwritten and nothing is downloaded.\n",
      "INFO:helical.utils.downloader:File saved to: '/home/benoit/.cache/helical/models/geneformer/v1/token_dictionary.pkl'\n",
      "INFO:helical.utils.downloader:File: '/home/benoit/.cache/helical/models/geneformer/v1/ensembl_mapping_dict.pkl' exists already. File is not overwritten and nothing is downloaded.\n",
      "INFO:helical.utils.downloader:File saved to: '/home/benoit/.cache/helical/models/geneformer/v1/ensembl_mapping_dict.pkl'\n",
      "INFO:helical.utils.downloader:File: '/home/benoit/.cache/helical/models/geneformer/v1/gf-12L-30M-i2048/config.json' exists already. File is not overwritten and nothing is downloaded.\n",
      "INFO:helical.utils.downloader:File saved to: '/home/benoit/.cache/helical/models/geneformer/v1/gf-12L-30M-i2048/config.json'\n",
      "INFO:helical.utils.downloader:File: '/home/benoit/.cache/helical/models/geneformer/v1/gf-12L-30M-i2048/training_args.bin' exists already. File is not overwritten and nothing is downloaded.\n",
      "INFO:helical.utils.downloader:File saved to: '/home/benoit/.cache/helical/models/geneformer/v1/gf-12L-30M-i2048/training_args.bin'\n",
      "INFO:helical.utils.downloader:File: '/home/benoit/.cache/helical/models/geneformer/v1/gf-12L-30M-i2048/pytorch_model.bin' exists already. File is not overwritten and nothing is downloaded.\n",
      "INFO:helical.utils.downloader:File saved to: '/home/benoit/.cache/helical/models/geneformer/v1/gf-12L-30M-i2048/pytorch_model.bin'\n",
      "INFO:helical.models.geneformer.model:Model finished initializing.\n",
      "INFO:pyensembl.sequence_data:Loaded sequence dictionary from /home/benoit/.cache/pyensembl/GRCh38/ensembl110/Homo_sapiens.GRCh38.cdna.all.fa.gz.pickle\n",
      "INFO:pyensembl.sequence_data:Loaded sequence dictionary from /home/benoit/.cache/pyensembl/GRCh38/ensembl110/Homo_sapiens.GRCh38.ncrna.fa.gz.pickle\n",
      "INFO:pyensembl.sequence_data:Loaded sequence dictionary from /home/benoit/.cache/pyensembl/GRCh38/ensembl110/Homo_sapiens.GRCh38.pep.all.fa.gz.pickle\n",
      "INFO:helical.utils.mapping:Mapped 21111 genes to Ensembl IDs from a total of 37318 genes.\n",
      "INFO:helical.models.geneformer.geneformer_tokenizer:AnnData object with n_obs × n_vars = 16474 × 37318\n",
      "    obs: 'rows', 'size', 'LVL1', 'LVL2', 'LVL3', 'total_counts'\n",
      "    var: 'gene_name', 'id_in_vocab', 'ensembl_id', 'gene_ids_collapsed' has no column attribute 'filter_pass'; tokenizing all cells.\n",
      "INFO:helical.models.geneformer.geneformer_tokenizer:Creating dataset.\n",
      "Map: 100%|██████████| 16474/16474 [00:05<00:00, 3025.41 examples/s]\n",
      "INFO:helical.models.geneformer.model:Inference started:\n",
      "100%|██████████| 330/330 [05:07<00:00,  1.07it/s]\n"
     ]
    },
    {
     "data": {
      "text/plain": [
       "(16474, 512)"
      ]
     },
     "execution_count": 22,
     "metadata": {},
     "output_type": "execute_result"
    }
   ],
   "source": [
    "device = \"cuda\" if torch.cuda.is_available() else \"cpu\"\n",
    "if 'rows' in adata.obs:\n",
    "    adata.obs['rows'] = adata.obs['rows'].astype(str)\n",
    "geneformer_config = GeneformerConfig(batch_size=50, device=device)\n",
    "geneformer = Geneformer(configurer = geneformer_config)\n",
    "\n",
    "data_geneformer = geneformer.process_data(adata, gene_names = \"gene_name\")\n",
    "x_geneformer = geneformer.get_embeddings(data_geneformer)\n",
    "x_geneformer.shape"
   ]
  },
  {
   "cell_type": "code",
   "execution_count": 23,
   "metadata": {
    "colab": {
     "base_uri": "https://localhost:8080/"
    },
    "id": "ITj-Gd-TDIcu",
    "outputId": "4946c091-3340-4332-e208-2ab2fc46f15e"
   },
   "outputs": [
    {
     "name": "stdout",
     "output_type": "stream",
     "text": [
      "Epoch 1, Validation Loss: 0.21696129383949134\n",
      "Epoch 2, Validation Loss: 0.10857223622644177\n",
      "Epoch 3, Validation Loss: 0.09659991732153755\n",
      "Epoch 4, Validation Loss: 0.09191516814126562\n",
      "Epoch 5, Validation Loss: 0.08651317040829991\n",
      "Epoch 6, Validation Loss: 0.08288597050033367\n",
      "Epoch 7, Validation Loss: 0.07626076801142727\n",
      "Epoch 8, Validation Loss: 0.07917614357295231\n",
      "Epoch 9, Validation Loss: 0.07136841879065077\n",
      "Epoch 10, Validation Loss: 0.07527488532426875\n",
      "Epoch 11, Validation Loss: 0.06889283100966938\n",
      "Epoch 12, Validation Loss: 0.07603136524546873\n",
      "Epoch 13, Validation Loss: 0.07237893132080969\n",
      "Epoch 14, Validation Loss: 0.0707903919716885\n",
      "Epoch 15, Validation Loss: 0.06682811810214144\n",
      "Epoch 16, Validation Loss: 0.06787337761488743\n",
      "Epoch 17, Validation Loss: 0.06565282110554668\n",
      "Epoch 18, Validation Loss: 0.07381324346072059\n",
      "Epoch 19, Validation Loss: 0.0704241120183724\n",
      "Epoch 20, Validation Loss: 0.06702452171773005\n",
      "Epoch 21, Validation Loss: 0.06794494667925531\n",
      "Epoch 22, Validation Loss: 0.06038204437041154\n",
      "Epoch 23, Validation Loss: 0.060252198385289654\n",
      "Epoch 24, Validation Loss: 0.06358248780060631\n",
      "Epoch 25, Validation Loss: 0.06292168345176972\n",
      "Epoch 26, Validation Loss: 0.06266387048078916\n",
      "Epoch 27, Validation Loss: 0.061681864904060676\n",
      "Epoch 28, Validation Loss: 0.058782341822874375\n",
      "Epoch 29, Validation Loss: 0.05916480725416197\n",
      "Epoch 30, Validation Loss: 0.05904467829924005\n",
      "Epoch 31, Validation Loss: 0.05701122948084958\n",
      "Epoch 32, Validation Loss: 0.05678210777785772\n",
      "Epoch 33, Validation Loss: 0.06069203816206517\n",
      "Epoch 34, Validation Loss: 0.05833638691043374\n",
      "Epoch 35, Validation Loss: 0.060886409481799304\n",
      "Epoch 36, Validation Loss: 0.05711668227852967\n",
      "Epoch 37, Validation Loss: 0.06182696464496145\n",
      "Epoch 38, Validation Loss: 0.05757013989093069\n",
      "Epoch 39, Validation Loss: 0.056393348726067834\n",
      "Epoch 40, Validation Loss: 0.0600513292447431\n",
      "Epoch 41, Validation Loss: 0.06829129664290051\n",
      "Epoch 42, Validation Loss: 0.062308046387512986\n",
      "Epoch 43, Validation Loss: 0.055768700710569434\n",
      "Epoch 44, Validation Loss: 0.05563147523431466\n",
      "Epoch 45, Validation Loss: 0.06237108943661532\n",
      "Epoch 46, Validation Loss: 0.05813543734928736\n",
      "Epoch 47, Validation Loss: 0.05794153505569109\n",
      "Epoch 48, Validation Loss: 0.06292974418521716\n",
      "Epoch 49, Validation Loss: 0.06411586219977695\n",
      "Epoch 50, Validation Loss: 0.05854638515917871\n"
     ]
    }
   ],
   "source": [
    "X_train, X_test, y_train, y_test = train_test_split(x_geneformer, y_encoded, test_size=0.1, random_state=42)\n",
    "\n",
    "head_model_geneformer = deepcopy(head_model)\n",
    "head_model_geneformer = train_model(head_model_geneformer, \n",
    "                                    torch.tensor(X_train), \n",
    "                                    y_train, \n",
    "                                    torch.tensor(X_test), \n",
    "                                    y_test,\n",
    "                                    optim.Adam(head_model_geneformer.parameters(), lr=0.001),\n",
    "                                    nn.CrossEntropyLoss())"
   ]
  },
  {
   "cell_type": "code",
   "execution_count": 24,
   "metadata": {
    "colab": {
     "base_uri": "https://localhost:8080/",
     "height": 156,
     "referenced_widgets": [
      "042588def40e42848c464da311dfa395",
      "9f06f76e74ba4d4493a2b3810fa78501",
      "afde76acb7cd4642967e74fc01cc5e60",
      "bed90884638d44a1a0e8f2002485a49c",
      "577aff58497a41afb68c49c4e4a3483c",
      "e6639753498c44abbb25f2dd39f224a6",
      "0ae5dd4c69154c36ac6409002dbfdbe3",
      "98077a70b5aa4738b2f9ce21fc8a76f8",
      "6c0eae3868aa4ea98c7c1106aba4cb84",
      "08d07e9439494aa895b90bda386cd2d9",
      "c284a26712fc46a49f40081765203b11",
      "9e58f857ee8a43ac94614686ba82cf82",
      "21078359f8b64f1f9e5b70fbb559ac5e",
      "0536305995ae41b989c00348dec37a50",
      "da40c55164824b2e81fef416cea0bdf3",
      "45e0ffdc378040c8b8fb62172c321be5",
      "031f15e503284b6e989e599834bc0cfc",
      "d6a09da0033a4fff88ce7ad041ea5151",
      "44164c48e4774fd28c8e7514e26dfec3",
      "7fba8d16f48b451ba2695e7d8d0c605b",
      "8f571f239ad54eb19d35da67e47ddea9",
      "fb07aa128c734c1396a8d2e8e46dfd7e"
     ]
    },
    "id": "ycWcn3Ra1YbG",
    "outputId": "8e38e24d-261d-4d77-b704-a8d3c6df9b73"
   },
   "outputs": [
    {
     "name": "stderr",
     "output_type": "stream",
     "text": [
      "INFO:pyensembl.sequence_data:Loaded sequence dictionary from /home/benoit/.cache/pyensembl/GRCh38/ensembl110/Homo_sapiens.GRCh38.cdna.all.fa.gz.pickle\n",
      "INFO:pyensembl.sequence_data:Loaded sequence dictionary from /home/benoit/.cache/pyensembl/GRCh38/ensembl110/Homo_sapiens.GRCh38.ncrna.fa.gz.pickle\n",
      "INFO:pyensembl.sequence_data:Loaded sequence dictionary from /home/benoit/.cache/pyensembl/GRCh38/ensembl110/Homo_sapiens.GRCh38.pep.all.fa.gz.pickle\n",
      "INFO:helical.utils.mapping:Mapped 21111 genes to Ensembl IDs from a total of 37318 genes.\n",
      "INFO:helical.models.geneformer.geneformer_tokenizer:AnnData object with n_obs × n_vars = 7603 × 37318\n",
      "    obs: 'rows', 'size', 'LVL1', 'LVL2', 'LVL3', 'total_counts'\n",
      "    var: 'gene_name', 'id_in_vocab', 'ensembl_id', 'gene_ids_collapsed' has no column attribute 'filter_pass'; tokenizing all cells.\n",
      "INFO:helical.models.geneformer.geneformer_tokenizer:Creating dataset.\n",
      "Map: 100%|██████████| 7603/7603 [00:03<00:00, 2071.15 examples/s]\n",
      "INFO:helical.models.geneformer.model:Inference started:\n",
      "100%|██████████| 153/153 [02:21<00:00,  1.08it/s]\n"
     ]
    }
   ],
   "source": [
    "data_unseen_geneformer = geneformer.process_data(adata_unseen, gene_names = \"gene_name\")\n",
    "x_unseen_geneformer = geneformer.get_embeddings(data_unseen_geneformer)\n",
    "predictions_nn_unseen_geneformer = head_model_geneformer(torch.Tensor(x_unseen_geneformer))"
   ]
  },
  {
   "cell_type": "code",
   "execution_count": 25,
   "metadata": {
    "colab": {
     "base_uri": "https://localhost:8080/"
    },
    "id": "eR8jNVcrEMRR",
    "outputId": "5d4ff27a-3bbb-409d-db36-61f787dc1b0e"
   },
   "outputs": [
    {
     "name": "stdout",
     "output_type": "stream",
     "text": [
      "Evaluation set accuracy: 98.9%\n",
      "Evaluation set precision: 71.6%\n",
      "Evaluation set f1: 73.6%\n",
      "Evaluation set recall: 77.3%\n"
     ]
    }
   ],
   "source": [
    "y_true_unseen = np.array(adata_unseen.obs[\"LVL1\"].tolist())\n",
    "y_pred_unseen = [id2type[prediction] for prediction in np.array(torch.argmax(predictions_nn_unseen_geneformer, dim=1))]\n",
    "\n",
    "geneformer_results = get_evaluations(\"Evaluation set\", y_true_unseen, y_pred_unseen)"
   ]
  },
  {
   "cell_type": "code",
   "execution_count": 26,
   "metadata": {
    "colab": {
     "base_uri": "https://localhost:8080/",
     "height": 990
    },
    "id": "sK4UqSqQFSaS",
    "outputId": "b1d94806-ed84-4061-d50b-d6b567df66f4"
   },
   "outputs": [
    {
     "data": {
      "image/png": "[encoded data removed]",
      "text/plain": [
       "<Figure size 1000x1000 with 4 Axes>"
      ]
     },
     "metadata": {},
     "output_type": "display_data"
    }
   ],
   "source": [
    "import matplotlib.pyplot as plt\n",
    "\n",
    "fig, axs = plt.subplots(2, 2, figsize=(10, 10))\n",
    "\n",
    "values_1 = [scgpt_results[\"accuracy\"], geneformer_results[\"accuracy\"]]\n",
    "x = [\"scGPT\", \"Geneformer\"]\n",
    "axs[0, 0].bar(x, values_1, width=0.4)\n",
    "axs[0, 0].set_title(\"Accuracy\")\n",
    "axs[0, 0].set_ylim([0, 1])\n",
    "\n",
    "values_2 = [scgpt_results[\"precision\"], geneformer_results[\"precision\"]]\n",
    "axs[0, 1].bar(x, values_2, width=0.4)\n",
    "axs[0, 1].set_title(\"Precision\")\n",
    "axs[0, 1].set_ylim([0, 1])\n",
    "\n",
    "values_3 = [scgpt_results[\"f1\"], geneformer_results[\"f1\"]]\n",
    "axs[1, 0].bar(x, values_3, width=0.4)\n",
    "axs[1, 0].set_title(\"F1\")\n",
    "axs[1, 0].set_ylim([0, 1])\n",
    "\n",
    "values_4 = [scgpt_results[\"recall\"], geneformer_results[\"recall\"]]\n",
    "axs[1, 1].bar(x, values_4, width=0.4)\n",
    "axs[1, 1].set_title(\"Recall\")\n",
    "axs[1, 1].set_ylim([0, 1])\n",
    "\n",
    "fig.suptitle(\"scGPT vs. Geneformer \\n Probing Comparison\")\n",
    "fig.tight_layout()\n",
    "plt.show()\n"
   ]
  },
  {
   "cell_type": "markdown",
   "metadata": {
    "id": "W4yqDgBPMNhX"
   },
   "source": [
    "\n",
    "## scGPT\n",
    "- Accuracy: 99.2%\n",
    "- Precision: 90.8%\n",
    "- Recall: 79.1%\n",
    "- Macro F1: 80.7%\n",
    "\n",
    "## Geneformer\n",
    "- Accuracy: 98.9%\n",
    "- Precision: 71.6%\n",
    "- Recall: 73.6%\n",
    "- Macro F1: 77.3%"
   ]
  },
  {
   "cell_type": "markdown",
   "metadata": {},
   "source": [
    " (c) Helical 2024 - Developed by the Helical Team"
   ]
  }
 ],
 "metadata": {
  "accelerator": "GPU",
  "colab": {
   "gpuType": "T4",
   "provenance": []
  },
  "kernelspec": {
   "display_name": "helical-package",
   "language": "python",
   "name": "python3"
  },
  "language_info": {
   "codemirror_mode": {
    "name": "ipython",
    "version": 3
   },
   "file_extension": ".py",
   "mimetype": "text/x-python",
   "name": "python",
   "nbconvert_exporter": "python",
   "pygments_lexer": "ipython3",
   "version": "3.11.8"
  },
  "widgets": {
   "application/vnd.jupyter.widget-state+json": {
    "031f15e503284b6e989e599834bc0cfc": {
     "model_module": "@jupyter-widgets/base",
     "model_module_version": "1.2.0",
     "model_name": "LayoutModel",
     "state": {
      "_model_module": "@jupyter-widgets/base",
      "_model_module_version": "1.2.0",
      "_model_name": "LayoutModel",
      "_view_count": null,
      "_view_module": "@jupyter-widgets/base",
      "_view_module_version": "1.2.0",
      "_view_name": "LayoutView",
      "align_content": null,
      "align_items": null,
      "align_self": null,
      "border": null,
      "bottom": null,
      "display": null,
      "flex": null,
      "flex_flow": null,
      "grid_area": null,
      "grid_auto_columns": null,
      "grid_auto_flow": null,
      "grid_auto_rows": null,
      "grid_column": null,
      "grid_gap": null,
      "grid_row": null,
      "grid_template_areas": null,
      "grid_template_columns": null,
      "grid_template_rows": null,
      "height": null,
      "justify_content": null,
      "justify_items": null,
      "left": null,
      "margin": null,
      "max_height": null,
      "max_width": null,
      "min_height": null,
      "min_width": null,
      "object_fit": null,
      "object_position": null,
      "order": null,
      "overflow": null,
      "overflow_x": null,
      "overflow_y": null,
      "padding": null,
      "right": null,
      "top": null,
      "visibility": null,
      "width": null
     }
    },
    "042588def40e42848c464da311dfa395": {
     "model_module": "@jupyter-widgets/controls",
     "model_module_version": "1.5.0",
     "model_name": "HBoxModel",
     "state": {
      "_dom_classes": [],
      "_model_module": "@jupyter-widgets/controls",
      "_model_module_version": "1.5.0",
      "_model_name": "HBoxModel",
      "_view_count": null,
      "_view_module": "@jupyter-widgets/controls",
      "_view_module_version": "1.5.0",
      "_view_name": "HBoxView",
      "box_style": "",
      "children": [
       "IPY_MODEL_9f06f76e74ba4d4493a2b3810fa78501",
       "IPY_MODEL_afde76acb7cd4642967e74fc01cc5e60",
       "IPY_MODEL_bed90884638d44a1a0e8f2002485a49c"
      ],
      "layout": "IPY_MODEL_577aff58497a41afb68c49c4e4a3483c"
     }
    },
    "0536305995ae41b989c00348dec37a50": {
     "model_module": "@jupyter-widgets/controls",
     "model_module_version": "1.5.0",
     "model_name": "FloatProgressModel",
     "state": {
      "_dom_classes": [],
      "_model_module": "@jupyter-widgets/controls",
      "_model_module_version": "1.5.0",
      "_model_name": "FloatProgressModel",
      "_view_count": null,
      "_view_module": "@jupyter-widgets/controls",
      "_view_module_version": "1.5.0",
      "_view_name": "ProgressView",
      "bar_style": "success",
      "description": "",
      "description_tooltip": null,
      "layout": "IPY_MODEL_44164c48e4774fd28c8e7514e26dfec3",
      "max": 157,
      "min": 0,
      "orientation": "horizontal",
      "style": "IPY_MODEL_7fba8d16f48b451ba2695e7d8d0c605b",
      "value": 157
     }
    },
    "06b297ce68a54494925355922e6a3e60": {
     "model_module": "@jupyter-widgets/controls",
     "model_module_version": "1.5.0",
     "model_name": "DescriptionStyleModel",
     "state": {
      "_model_module": "@jupyter-widgets/controls",
      "_model_module_version": "1.5.0",
      "_model_name": "DescriptionStyleModel",
      "_view_count": null,
      "_view_module": "@jupyter-widgets/base",
      "_view_module_version": "1.2.0",
      "_view_name": "StyleView",
      "description_width": ""
     }
    },
    "08d07e9439494aa895b90bda386cd2d9": {
     "model_module": "@jupyter-widgets/base",
     "model_module_version": "1.2.0",
     "model_name": "LayoutModel",
     "state": {
      "_model_module": "@jupyter-widgets/base",
      "_model_module_version": "1.2.0",
      "_model_name": "LayoutModel",
      "_view_count": null,
      "_view_module": "@jupyter-widgets/base",
      "_view_module_version": "1.2.0",
      "_view_name": "LayoutView",
      "align_content": null,
      "align_items": null,
      "align_self": null,
      "border": null,
      "bottom": null,
      "display": null,
      "flex": null,
      "flex_flow": null,
      "grid_area": null,
      "grid_auto_columns": null,
      "grid_auto_flow": null,
      "grid_auto_rows": null,
      "grid_column": null,
      "grid_gap": null,
      "grid_row": null,
      "grid_template_areas": null,
      "grid_template_columns": null,
      "grid_template_rows": null,
      "height": null,
      "justify_content": null,
      "justify_items": null,
      "left": null,
      "margin": null,
      "max_height": null,
      "max_width": null,
      "min_height": null,
      "min_width": null,
      "object_fit": null,
      "object_position": null,
      "order": null,
      "overflow": null,
      "overflow_x": null,
      "overflow_y": null,
      "padding": null,
      "right": null,
      "top": null,
      "visibility": null,
      "width": null
     }
    },
    "0ae5dd4c69154c36ac6409002dbfdbe3": {
     "model_module": "@jupyter-widgets/controls",
     "model_module_version": "1.5.0",
     "model_name": "DescriptionStyleModel",
     "state": {
      "_model_module": "@jupyter-widgets/controls",
      "_model_module_version": "1.5.0",
      "_model_name": "DescriptionStyleModel",
      "_view_count": null,
      "_view_module": "@jupyter-widgets/base",
      "_view_module_version": "1.2.0",
      "_view_name": "StyleView",
      "description_width": ""
     }
    },
    "0ba9a6eb6f0c4d63ae804a09f5d3b7a5": {
     "model_module": "@jupyter-widgets/controls",
     "model_module_version": "1.5.0",
     "model_name": "DescriptionStyleModel",
     "state": {
      "_model_module": "@jupyter-widgets/controls",
      "_model_module_version": "1.5.0",
      "_model_name": "DescriptionStyleModel",
      "_view_count": null,
      "_view_module": "@jupyter-widgets/base",
      "_view_module_version": "1.2.0",
      "_view_name": "StyleView",
      "description_width": ""
     }
    },
    "0fcbdfa61d8c47499ea91c045e6bdb88": {
     "model_module": "@jupyter-widgets/controls",
     "model_module_version": "1.5.0",
     "model_name": "ProgressStyleModel",
     "state": {
      "_model_module": "@jupyter-widgets/controls",
      "_model_module_version": "1.5.0",
      "_model_name": "ProgressStyleModel",
      "_view_count": null,
      "_view_module": "@jupyter-widgets/base",
      "_view_module_version": "1.2.0",
      "_view_name": "StyleView",
      "bar_color": null,
      "description_width": ""
     }
    },
    "11d0b1de79104633bd46099d3fc9f845": {
     "model_module": "@jupyter-widgets/controls",
     "model_module_version": "1.5.0",
     "model_name": "DescriptionStyleModel",
     "state": {
      "_model_module": "@jupyter-widgets/controls",
      "_model_module_version": "1.5.0",
      "_model_name": "DescriptionStyleModel",
      "_view_count": null,
      "_view_module": "@jupyter-widgets/base",
      "_view_module_version": "1.2.0",
      "_view_name": "StyleView",
      "description_width": ""
     }
    },
    "129fbaa5b93146839d3e095e066689b2": {
     "model_module": "@jupyter-widgets/controls",
     "model_module_version": "1.5.0",
     "model_name": "HBoxModel",
     "state": {
      "_dom_classes": [],
      "_model_module": "@jupyter-widgets/controls",
      "_model_module_version": "1.5.0",
      "_model_name": "HBoxModel",
      "_view_count": null,
      "_view_module": "@jupyter-widgets/controls",
      "_view_module_version": "1.5.0",
      "_view_name": "HBoxView",
      "box_style": "",
      "children": [
       "IPY_MODEL_75250bb34c7a4816bb50bab813367823",
       "IPY_MODEL_18e7db16f29b4c5fb37b12b7ecabd994",
       "IPY_MODEL_811ae6f2713942459f44a8ad0b78f1c8"
      ],
      "layout": "IPY_MODEL_8333081f6e6844fb9872d9d14b9798f4"
     }
    },
    "18e7db16f29b4c5fb37b12b7ecabd994": {
     "model_module": "@jupyter-widgets/controls",
     "model_module_version": "1.5.0",
     "model_name": "FloatProgressModel",
     "state": {
      "_dom_classes": [],
      "_model_module": "@jupyter-widgets/controls",
      "_model_module_version": "1.5.0",
      "_model_name": "FloatProgressModel",
      "_view_count": null,
      "_view_module": "@jupyter-widgets/controls",
      "_view_module_version": "1.5.0",
      "_view_name": "ProgressView",
      "bar_style": "success",
      "description": "",
      "description_tooltip": null,
      "layout": "IPY_MODEL_ac8fd8833f8b434c98ebf9de7fd7c956",
      "max": 157,
      "min": 0,
      "orientation": "horizontal",
      "style": "IPY_MODEL_746baf43caea4ee2831817691b968573",
      "value": 157
     }
    },
    "1a9866fd593a4773a9336548d9fb4e7c": {
     "model_module": "@jupyter-widgets/base",
     "model_module_version": "1.2.0",
     "model_name": "LayoutModel",
     "state": {
      "_model_module": "@jupyter-widgets/base",
      "_model_module_version": "1.2.0",
      "_model_name": "LayoutModel",
      "_view_count": null,
      "_view_module": "@jupyter-widgets/base",
      "_view_module_version": "1.2.0",
      "_view_name": "LayoutView",
      "align_content": null,
      "align_items": null,
      "align_self": null,
      "border": null,
      "bottom": null,
      "display": null,
      "flex": null,
      "flex_flow": null,
      "grid_area": null,
      "grid_auto_columns": null,
      "grid_auto_flow": null,
      "grid_auto_rows": null,
      "grid_column": null,
      "grid_gap": null,
      "grid_row": null,
      "grid_template_areas": null,
      "grid_template_columns": null,
      "grid_template_rows": null,
      "height": null,
      "justify_content": null,
      "justify_items": null,
      "left": null,
      "margin": null,
      "max_height": null,
      "max_width": null,
      "min_height": null,
      "min_width": null,
      "object_fit": null,
      "object_position": null,
      "order": null,
      "overflow": null,
      "overflow_x": null,
      "overflow_y": null,
      "padding": null,
      "right": null,
      "top": null,
      "visibility": null,
      "width": null
     }
    },
    "21078359f8b64f1f9e5b70fbb559ac5e": {
     "model_module": "@jupyter-widgets/controls",
     "model_module_version": "1.5.0",
     "model_name": "HTMLModel",
     "state": {
      "_dom_classes": [],
      "_model_module": "@jupyter-widgets/controls",
      "_model_module_version": "1.5.0",
      "_model_name": "HTMLModel",
      "_view_count": null,
      "_view_module": "@jupyter-widgets/controls",
      "_view_module_version": "1.5.0",
      "_view_name": "HTMLView",
      "description": "",
      "description_tooltip": null,
      "layout": "IPY_MODEL_031f15e503284b6e989e599834bc0cfc",
      "placeholder": "​",
      "style": "IPY_MODEL_d6a09da0033a4fff88ce7ad041ea5151",
      "value": "100%"
     }
    },
    "44164c48e4774fd28c8e7514e26dfec3": {
     "model_module": "@jupyter-widgets/base",
     "model_module_version": "1.2.0",
     "model_name": "LayoutModel",
     "state": {
      "_model_module": "@jupyter-widgets/base",
      "_model_module_version": "1.2.0",
      "_model_name": "LayoutModel",
      "_view_count": null,
      "_view_module": "@jupyter-widgets/base",
      "_view_module_version": "1.2.0",
      "_view_name": "LayoutView",
      "align_content": null,
      "align_items": null,
      "align_self": null,
      "border": null,
      "bottom": null,
      "display": null,
      "flex": null,
      "flex_flow": null,
      "grid_area": null,
      "grid_auto_columns": null,
      "grid_auto_flow": null,
      "grid_auto_rows": null,
      "grid_column": null,
      "grid_gap": null,
      "grid_row": null,
      "grid_template_areas": null,
      "grid_template_columns": null,
      "grid_template_rows": null,
      "height": null,
      "justify_content": null,
      "justify_items": null,
      "left": null,
      "margin": null,
      "max_height": null,
      "max_width": null,
      "min_height": null,
      "min_width": null,
      "object_fit": null,
      "object_position": null,
      "order": null,
      "overflow": null,
      "overflow_x": null,
      "overflow_y": null,
      "padding": null,
      "right": null,
      "top": null,
      "visibility": null,
      "width": null
     }
    },
    "45e0ffdc378040c8b8fb62172c321be5": {
     "model_module": "@jupyter-widgets/base",
     "model_module_version": "1.2.0",
     "model_name": "LayoutModel",
     "state": {
      "_model_module": "@jupyter-widgets/base",
      "_model_module_version": "1.2.0",
      "_model_name": "LayoutModel",
      "_view_count": null,
      "_view_module": "@jupyter-widgets/base",
      "_view_module_version": "1.2.0",
      "_view_name": "LayoutView",
      "align_content": null,
      "align_items": null,
      "align_self": null,
      "border": null,
      "bottom": null,
      "display": null,
      "flex": null,
      "flex_flow": null,
      "grid_area": null,
      "grid_auto_columns": null,
      "grid_auto_flow": null,
      "grid_auto_rows": null,
      "grid_column": null,
      "grid_gap": null,
      "grid_row": null,
      "grid_template_areas": null,
      "grid_template_columns": null,
      "grid_template_rows": null,
      "height": null,
      "justify_content": null,
      "justify_items": null,
      "left": null,
      "margin": null,
      "max_height": null,
      "max_width": null,
      "min_height": null,
      "min_width": null,
      "object_fit": null,
      "object_position": null,
      "order": null,
      "overflow": null,
      "overflow_x": null,
      "overflow_y": null,
      "padding": null,
      "right": null,
      "top": null,
      "visibility": null,
      "width": null
     }
    },
    "475e8bc25e844eb7bda64024f6fd328b": {
     "model_module": "@jupyter-widgets/base",
     "model_module_version": "1.2.0",
     "model_name": "LayoutModel",
     "state": {
      "_model_module": "@jupyter-widgets/base",
      "_model_module_version": "1.2.0",
      "_model_name": "LayoutModel",
      "_view_count": null,
      "_view_module": "@jupyter-widgets/base",
      "_view_module_version": "1.2.0",
      "_view_name": "LayoutView",
      "align_content": null,
      "align_items": null,
      "align_self": null,
      "border": null,
      "bottom": null,
      "display": null,
      "flex": null,
      "flex_flow": null,
      "grid_area": null,
      "grid_auto_columns": null,
      "grid_auto_flow": null,
      "grid_auto_rows": null,
      "grid_column": null,
      "grid_gap": null,
      "grid_row": null,
      "grid_template_areas": null,
      "grid_template_columns": null,
      "grid_template_rows": null,
      "height": null,
      "justify_content": null,
      "justify_items": null,
      "left": null,
      "margin": null,
      "max_height": null,
      "max_width": null,
      "min_height": null,
      "min_width": null,
      "object_fit": null,
      "object_position": null,
      "order": null,
      "overflow": null,
      "overflow_x": null,
      "overflow_y": null,
      "padding": null,
      "right": null,
      "top": null,
      "visibility": null,
      "width": null
     }
    },
    "577aff58497a41afb68c49c4e4a3483c": {
     "model_module": "@jupyter-widgets/base",
     "model_module_version": "1.2.0",
     "model_name": "LayoutModel",
     "state": {
      "_model_module": "@jupyter-widgets/base",
      "_model_module_version": "1.2.0",
      "_model_name": "LayoutModel",
      "_view_count": null,
      "_view_module": "@jupyter-widgets/base",
      "_view_module_version": "1.2.0",
      "_view_name": "LayoutView",
      "align_content": null,
      "align_items": null,
      "align_self": null,
      "border": null,
      "bottom": null,
      "display": null,
      "flex": null,
      "flex_flow": null,
      "grid_area": null,
      "grid_auto_columns": null,
      "grid_auto_flow": null,
      "grid_auto_rows": null,
      "grid_column": null,
      "grid_gap": null,
      "grid_row": null,
      "grid_template_areas": null,
      "grid_template_columns": null,
      "grid_template_rows": null,
      "height": null,
      "justify_content": null,
      "justify_items": null,
      "left": null,
      "margin": null,
      "max_height": null,
      "max_width": null,
      "min_height": null,
      "min_width": null,
      "object_fit": null,
      "object_position": null,
      "order": null,
      "overflow": null,
      "overflow_x": null,
      "overflow_y": null,
      "padding": null,
      "right": null,
      "top": null,
      "visibility": null,
      "width": null
     }
    },
    "6105972c9a224bb2b83c39d498d82694": {
     "model_module": "@jupyter-widgets/controls",
     "model_module_version": "1.5.0",
     "model_name": "DescriptionStyleModel",
     "state": {
      "_model_module": "@jupyter-widgets/controls",
      "_model_module_version": "1.5.0",
      "_model_name": "DescriptionStyleModel",
      "_view_count": null,
      "_view_module": "@jupyter-widgets/base",
      "_view_module_version": "1.2.0",
      "_view_name": "StyleView",
      "description_width": ""
     }
    },
    "6793d6aa02fe4992b2a3079935804e68": {
     "model_module": "@jupyter-widgets/controls",
     "model_module_version": "1.5.0",
     "model_name": "FloatProgressModel",
     "state": {
      "_dom_classes": [],
      "_model_module": "@jupyter-widgets/controls",
      "_model_module_version": "1.5.0",
      "_model_name": "FloatProgressModel",
      "_view_count": null,
      "_view_module": "@jupyter-widgets/controls",
      "_view_module_version": "1.5.0",
      "_view_name": "ProgressView",
      "bar_style": "success",
      "description": "",
      "description_tooltip": null,
      "layout": "IPY_MODEL_b0387ec16b2346d6a690f8bd8ef7aae9",
      "max": 7844,
      "min": 0,
      "orientation": "horizontal",
      "style": "IPY_MODEL_0fcbdfa61d8c47499ea91c045e6bdb88",
      "value": 7844
     }
    },
    "6c0eae3868aa4ea98c7c1106aba4cb84": {
     "model_module": "@jupyter-widgets/controls",
     "model_module_version": "1.5.0",
     "model_name": "ProgressStyleModel",
     "state": {
      "_model_module": "@jupyter-widgets/controls",
      "_model_module_version": "1.5.0",
      "_model_name": "ProgressStyleModel",
      "_view_count": null,
      "_view_module": "@jupyter-widgets/base",
      "_view_module_version": "1.2.0",
      "_view_name": "StyleView",
      "bar_color": null,
      "description_width": ""
     }
    },
    "746baf43caea4ee2831817691b968573": {
     "model_module": "@jupyter-widgets/controls",
     "model_module_version": "1.5.0",
     "model_name": "ProgressStyleModel",
     "state": {
      "_model_module": "@jupyter-widgets/controls",
      "_model_module_version": "1.5.0",
      "_model_name": "ProgressStyleModel",
      "_view_count": null,
      "_view_module": "@jupyter-widgets/base",
      "_view_module_version": "1.2.0",
      "_view_name": "StyleView",
      "bar_color": null,
      "description_width": ""
     }
    },
    "75250bb34c7a4816bb50bab813367823": {
     "model_module": "@jupyter-widgets/controls",
     "model_module_version": "1.5.0",
     "model_name": "HTMLModel",
     "state": {
      "_dom_classes": [],
      "_model_module": "@jupyter-widgets/controls",
      "_model_module_version": "1.5.0",
      "_model_name": "HTMLModel",
      "_view_count": null,
      "_view_module": "@jupyter-widgets/controls",
      "_view_module_version": "1.5.0",
      "_view_name": "HTMLView",
      "description": "",
      "description_tooltip": null,
      "layout": "IPY_MODEL_1a9866fd593a4773a9336548d9fb4e7c",
      "placeholder": "​",
      "style": "IPY_MODEL_6105972c9a224bb2b83c39d498d82694",
      "value": "100%"
     }
    },
    "7fba8d16f48b451ba2695e7d8d0c605b": {
     "model_module": "@jupyter-widgets/controls",
     "model_module_version": "1.5.0",
     "model_name": "ProgressStyleModel",
     "state": {
      "_model_module": "@jupyter-widgets/controls",
      "_model_module_version": "1.5.0",
      "_model_name": "ProgressStyleModel",
      "_view_count": null,
      "_view_module": "@jupyter-widgets/base",
      "_view_module_version": "1.2.0",
      "_view_name": "StyleView",
      "bar_color": null,
      "description_width": ""
     }
    },
    "811ae6f2713942459f44a8ad0b78f1c8": {
     "model_module": "@jupyter-widgets/controls",
     "model_module_version": "1.5.0",
     "model_name": "HTMLModel",
     "state": {
      "_dom_classes": [],
      "_model_module": "@jupyter-widgets/controls",
      "_model_module_version": "1.5.0",
      "_model_name": "HTMLModel",
      "_view_count": null,
      "_view_module": "@jupyter-widgets/controls",
      "_view_module_version": "1.5.0",
      "_view_name": "HTMLView",
      "description": "",
      "description_tooltip": null,
      "layout": "IPY_MODEL_94072eee12234d52906f701dbaec4ea7",
      "placeholder": "​",
      "style": "IPY_MODEL_0ba9a6eb6f0c4d63ae804a09f5d3b7a5",
      "value": " 157/157 [03:35&lt;00:00,  1.17s/it]"
     }
    },
    "8333081f6e6844fb9872d9d14b9798f4": {
     "model_module": "@jupyter-widgets/base",
     "model_module_version": "1.2.0",
     "model_name": "LayoutModel",
     "state": {
      "_model_module": "@jupyter-widgets/base",
      "_model_module_version": "1.2.0",
      "_model_name": "LayoutModel",
      "_view_count": null,
      "_view_module": "@jupyter-widgets/base",
      "_view_module_version": "1.2.0",
      "_view_name": "LayoutView",
      "align_content": null,
      "align_items": null,
      "align_self": null,
      "border": null,
      "bottom": null,
      "display": null,
      "flex": null,
      "flex_flow": null,
      "grid_area": null,
      "grid_auto_columns": null,
      "grid_auto_flow": null,
      "grid_auto_rows": null,
      "grid_column": null,
      "grid_gap": null,
      "grid_row": null,
      "grid_template_areas": null,
      "grid_template_columns": null,
      "grid_template_rows": null,
      "height": null,
      "justify_content": null,
      "justify_items": null,
      "left": null,
      "margin": null,
      "max_height": null,
      "max_width": null,
      "min_height": null,
      "min_width": null,
      "object_fit": null,
      "object_position": null,
      "order": null,
      "overflow": null,
      "overflow_x": null,
      "overflow_y": null,
      "padding": null,
      "right": null,
      "top": null,
      "visibility": null,
      "width": null
     }
    },
    "8602ffeb4a5548f3b88e0011ff526b60": {
     "model_module": "@jupyter-widgets/base",
     "model_module_version": "1.2.0",
     "model_name": "LayoutModel",
     "state": {
      "_model_module": "@jupyter-widgets/base",
      "_model_module_version": "1.2.0",
      "_model_name": "LayoutModel",
      "_view_count": null,
      "_view_module": "@jupyter-widgets/base",
      "_view_module_version": "1.2.0",
      "_view_name": "LayoutView",
      "align_content": null,
      "align_items": null,
      "align_self": null,
      "border": null,
      "bottom": null,
      "display": null,
      "flex": null,
      "flex_flow": null,
      "grid_area": null,
      "grid_auto_columns": null,
      "grid_auto_flow": null,
      "grid_auto_rows": null,
      "grid_column": null,
      "grid_gap": null,
      "grid_row": null,
      "grid_template_areas": null,
      "grid_template_columns": null,
      "grid_template_rows": null,
      "height": null,
      "justify_content": null,
      "justify_items": null,
      "left": null,
      "margin": null,
      "max_height": null,
      "max_width": null,
      "min_height": null,
      "min_width": null,
      "object_fit": null,
      "object_position": null,
      "order": null,
      "overflow": null,
      "overflow_x": null,
      "overflow_y": null,
      "padding": null,
      "right": null,
      "top": null,
      "visibility": null,
      "width": null
     }
    },
    "8b87146682714f9394465afb70fb6296": {
     "model_module": "@jupyter-widgets/controls",
     "model_module_version": "1.5.0",
     "model_name": "HTMLModel",
     "state": {
      "_dom_classes": [],
      "_model_module": "@jupyter-widgets/controls",
      "_model_module_version": "1.5.0",
      "_model_name": "HTMLModel",
      "_view_count": null,
      "_view_module": "@jupyter-widgets/controls",
      "_view_module_version": "1.5.0",
      "_view_name": "HTMLView",
      "description": "",
      "description_tooltip": null,
      "layout": "IPY_MODEL_475e8bc25e844eb7bda64024f6fd328b",
      "placeholder": "​",
      "style": "IPY_MODEL_06b297ce68a54494925355922e6a3e60",
      "value": " 7844/7844 [00:02&lt;00:00, 3109.57 examples/s]"
     }
    },
    "8f571f239ad54eb19d35da67e47ddea9": {
     "model_module": "@jupyter-widgets/base",
     "model_module_version": "1.2.0",
     "model_name": "LayoutModel",
     "state": {
      "_model_module": "@jupyter-widgets/base",
      "_model_module_version": "1.2.0",
      "_model_name": "LayoutModel",
      "_view_count": null,
      "_view_module": "@jupyter-widgets/base",
      "_view_module_version": "1.2.0",
      "_view_name": "LayoutView",
      "align_content": null,
      "align_items": null,
      "align_self": null,
      "border": null,
      "bottom": null,
      "display": null,
      "flex": null,
      "flex_flow": null,
      "grid_area": null,
      "grid_auto_columns": null,
      "grid_auto_flow": null,
      "grid_auto_rows": null,
      "grid_column": null,
      "grid_gap": null,
      "grid_row": null,
      "grid_template_areas": null,
      "grid_template_columns": null,
      "grid_template_rows": null,
      "height": null,
      "justify_content": null,
      "justify_items": null,
      "left": null,
      "margin": null,
      "max_height": null,
      "max_width": null,
      "min_height": null,
      "min_width": null,
      "object_fit": null,
      "object_position": null,
      "order": null,
      "overflow": null,
      "overflow_x": null,
      "overflow_y": null,
      "padding": null,
      "right": null,
      "top": null,
      "visibility": null,
      "width": null
     }
    },
    "94072eee12234d52906f701dbaec4ea7": {
     "model_module": "@jupyter-widgets/base",
     "model_module_version": "1.2.0",
     "model_name": "LayoutModel",
     "state": {
      "_model_module": "@jupyter-widgets/base",
      "_model_module_version": "1.2.0",
      "_model_name": "LayoutModel",
      "_view_count": null,
      "_view_module": "@jupyter-widgets/base",
      "_view_module_version": "1.2.0",
      "_view_name": "LayoutView",
      "align_content": null,
      "align_items": null,
      "align_self": null,
      "border": null,
      "bottom": null,
      "display": null,
      "flex": null,
      "flex_flow": null,
      "grid_area": null,
      "grid_auto_columns": null,
      "grid_auto_flow": null,
      "grid_auto_rows": null,
      "grid_column": null,
      "grid_gap": null,
      "grid_row": null,
      "grid_template_areas": null,
      "grid_template_columns": null,
      "grid_template_rows": null,
      "height": null,
      "justify_content": null,
      "justify_items": null,
      "left": null,
      "margin": null,
      "max_height": null,
      "max_width": null,
      "min_height": null,
      "min_width": null,
      "object_fit": null,
      "object_position": null,
      "order": null,
      "overflow": null,
      "overflow_x": null,
      "overflow_y": null,
      "padding": null,
      "right": null,
      "top": null,
      "visibility": null,
      "width": null
     }
    },
    "96cf6bd80b23485a91309f97fceae386": {
     "model_module": "@jupyter-widgets/controls",
     "model_module_version": "1.5.0",
     "model_name": "HTMLModel",
     "state": {
      "_dom_classes": [],
      "_model_module": "@jupyter-widgets/controls",
      "_model_module_version": "1.5.0",
      "_model_name": "HTMLModel",
      "_view_count": null,
      "_view_module": "@jupyter-widgets/controls",
      "_view_module_version": "1.5.0",
      "_view_name": "HTMLView",
      "description": "",
      "description_tooltip": null,
      "layout": "IPY_MODEL_dd28b99c3789438ba123044f9d8bd481",
      "placeholder": "​",
      "style": "IPY_MODEL_11d0b1de79104633bd46099d3fc9f845",
      "value": "Map: 100%"
     }
    },
    "98077a70b5aa4738b2f9ce21fc8a76f8": {
     "model_module": "@jupyter-widgets/base",
     "model_module_version": "1.2.0",
     "model_name": "LayoutModel",
     "state": {
      "_model_module": "@jupyter-widgets/base",
      "_model_module_version": "1.2.0",
      "_model_name": "LayoutModel",
      "_view_count": null,
      "_view_module": "@jupyter-widgets/base",
      "_view_module_version": "1.2.0",
      "_view_name": "LayoutView",
      "align_content": null,
      "align_items": null,
      "align_self": null,
      "border": null,
      "bottom": null,
      "display": null,
      "flex": null,
      "flex_flow": null,
      "grid_area": null,
      "grid_auto_columns": null,
      "grid_auto_flow": null,
      "grid_auto_rows": null,
      "grid_column": null,
      "grid_gap": null,
      "grid_row": null,
      "grid_template_areas": null,
      "grid_template_columns": null,
      "grid_template_rows": null,
      "height": null,
      "justify_content": null,
      "justify_items": null,
      "left": null,
      "margin": null,
      "max_height": null,
      "max_width": null,
      "min_height": null,
      "min_width": null,
      "object_fit": null,
      "object_position": null,
      "order": null,
      "overflow": null,
      "overflow_x": null,
      "overflow_y": null,
      "padding": null,
      "right": null,
      "top": null,
      "visibility": null,
      "width": null
     }
    },
    "9be7ad77cfbb4aebbf850bce0d703286": {
     "model_module": "@jupyter-widgets/controls",
     "model_module_version": "1.5.0",
     "model_name": "HBoxModel",
     "state": {
      "_dom_classes": [],
      "_model_module": "@jupyter-widgets/controls",
      "_model_module_version": "1.5.0",
      "_model_name": "HBoxModel",
      "_view_count": null,
      "_view_module": "@jupyter-widgets/controls",
      "_view_module_version": "1.5.0",
      "_view_name": "HBoxView",
      "box_style": "",
      "children": [
       "IPY_MODEL_96cf6bd80b23485a91309f97fceae386",
       "IPY_MODEL_6793d6aa02fe4992b2a3079935804e68",
       "IPY_MODEL_8b87146682714f9394465afb70fb6296"
      ],
      "layout": "IPY_MODEL_8602ffeb4a5548f3b88e0011ff526b60"
     }
    },
    "9e58f857ee8a43ac94614686ba82cf82": {
     "model_module": "@jupyter-widgets/controls",
     "model_module_version": "1.5.0",
     "model_name": "HBoxModel",
     "state": {
      "_dom_classes": [],
      "_model_module": "@jupyter-widgets/controls",
      "_model_module_version": "1.5.0",
      "_model_name": "HBoxModel",
      "_view_count": null,
      "_view_module": "@jupyter-widgets/controls",
      "_view_module_version": "1.5.0",
      "_view_name": "HBoxView",
      "box_style": "",
      "children": [
       "IPY_MODEL_21078359f8b64f1f9e5b70fbb559ac5e",
       "IPY_MODEL_0536305995ae41b989c00348dec37a50",
       "IPY_MODEL_da40c55164824b2e81fef416cea0bdf3"
      ],
      "layout": "IPY_MODEL_45e0ffdc378040c8b8fb62172c321be5"
     }
    },
    "9f06f76e74ba4d4493a2b3810fa78501": {
     "model_module": "@jupyter-widgets/controls",
     "model_module_version": "1.5.0",
     "model_name": "HTMLModel",
     "state": {
      "_dom_classes": [],
      "_model_module": "@jupyter-widgets/controls",
      "_model_module_version": "1.5.0",
      "_model_name": "HTMLModel",
      "_view_count": null,
      "_view_module": "@jupyter-widgets/controls",
      "_view_module_version": "1.5.0",
      "_view_name": "HTMLView",
      "description": "",
      "description_tooltip": null,
      "layout": "IPY_MODEL_e6639753498c44abbb25f2dd39f224a6",
      "placeholder": "​",
      "style": "IPY_MODEL_0ae5dd4c69154c36ac6409002dbfdbe3",
      "value": "Map: 100%"
     }
    },
    "ac8fd8833f8b434c98ebf9de7fd7c956": {
     "model_module": "@jupyter-widgets/base",
     "model_module_version": "1.2.0",
     "model_name": "LayoutModel",
     "state": {
      "_model_module": "@jupyter-widgets/base",
      "_model_module_version": "1.2.0",
      "_model_name": "LayoutModel",
      "_view_count": null,
      "_view_module": "@jupyter-widgets/base",
      "_view_module_version": "1.2.0",
      "_view_name": "LayoutView",
      "align_content": null,
      "align_items": null,
      "align_self": null,
      "border": null,
      "bottom": null,
      "display": null,
      "flex": null,
      "flex_flow": null,
      "grid_area": null,
      "grid_auto_columns": null,
      "grid_auto_flow": null,
      "grid_auto_rows": null,
      "grid_column": null,
      "grid_gap": null,
      "grid_row": null,
      "grid_template_areas": null,
      "grid_template_columns": null,
      "grid_template_rows": null,
      "height": null,
      "justify_content": null,
      "justify_items": null,
      "left": null,
      "margin": null,
      "max_height": null,
      "max_width": null,
      "min_height": null,
      "min_width": null,
      "object_fit": null,
      "object_position": null,
      "order": null,
      "overflow": null,
      "overflow_x": null,
      "overflow_y": null,
      "padding": null,
      "right": null,
      "top": null,
      "visibility": null,
      "width": null
     }
    },
    "afde76acb7cd4642967e74fc01cc5e60": {
     "model_module": "@jupyter-widgets/controls",
     "model_module_version": "1.5.0",
     "model_name": "FloatProgressModel",
     "state": {
      "_dom_classes": [],
      "_model_module": "@jupyter-widgets/controls",
      "_model_module_version": "1.5.0",
      "_model_name": "FloatProgressModel",
      "_view_count": null,
      "_view_module": "@jupyter-widgets/controls",
      "_view_module_version": "1.5.0",
      "_view_name": "ProgressView",
      "bar_style": "success",
      "description": "",
      "description_tooltip": null,
      "layout": "IPY_MODEL_98077a70b5aa4738b2f9ce21fc8a76f8",
      "max": 7844,
      "min": 0,
      "orientation": "horizontal",
      "style": "IPY_MODEL_6c0eae3868aa4ea98c7c1106aba4cb84",
      "value": 7844
     }
    },
    "b0387ec16b2346d6a690f8bd8ef7aae9": {
     "model_module": "@jupyter-widgets/base",
     "model_module_version": "1.2.0",
     "model_name": "LayoutModel",
     "state": {
      "_model_module": "@jupyter-widgets/base",
      "_model_module_version": "1.2.0",
      "_model_name": "LayoutModel",
      "_view_count": null,
      "_view_module": "@jupyter-widgets/base",
      "_view_module_version": "1.2.0",
      "_view_name": "LayoutView",
      "align_content": null,
      "align_items": null,
      "align_self": null,
      "border": null,
      "bottom": null,
      "display": null,
      "flex": null,
      "flex_flow": null,
      "grid_area": null,
      "grid_auto_columns": null,
      "grid_auto_flow": null,
      "grid_auto_rows": null,
      "grid_column": null,
      "grid_gap": null,
      "grid_row": null,
      "grid_template_areas": null,
      "grid_template_columns": null,
      "grid_template_rows": null,
      "height": null,
      "justify_content": null,
      "justify_items": null,
      "left": null,
      "margin": null,
      "max_height": null,
      "max_width": null,
      "min_height": null,
      "min_width": null,
      "object_fit": null,
      "object_position": null,
      "order": null,
      "overflow": null,
      "overflow_x": null,
      "overflow_y": null,
      "padding": null,
      "right": null,
      "top": null,
      "visibility": null,
      "width": null
     }
    },
    "bed90884638d44a1a0e8f2002485a49c": {
     "model_module": "@jupyter-widgets/controls",
     "model_module_version": "1.5.0",
     "model_name": "HTMLModel",
     "state": {
      "_dom_classes": [],
      "_model_module": "@jupyter-widgets/controls",
      "_model_module_version": "1.5.0",
      "_model_name": "HTMLModel",
      "_view_count": null,
      "_view_module": "@jupyter-widgets/controls",
      "_view_module_version": "1.5.0",
      "_view_name": "HTMLView",
      "description": "",
      "description_tooltip": null,
      "layout": "IPY_MODEL_08d07e9439494aa895b90bda386cd2d9",
      "placeholder": "​",
      "style": "IPY_MODEL_c284a26712fc46a49f40081765203b11",
      "value": " 7844/7844 [00:02&lt;00:00, 4942.70 examples/s]"
     }
    },
    "c284a26712fc46a49f40081765203b11": {
     "model_module": "@jupyter-widgets/controls",
     "model_module_version": "1.5.0",
     "model_name": "DescriptionStyleModel",
     "state": {
      "_model_module": "@jupyter-widgets/controls",
      "_model_module_version": "1.5.0",
      "_model_name": "DescriptionStyleModel",
      "_view_count": null,
      "_view_module": "@jupyter-widgets/base",
      "_view_module_version": "1.2.0",
      "_view_name": "StyleView",
      "description_width": ""
     }
    },
    "d6a09da0033a4fff88ce7ad041ea5151": {
     "model_module": "@jupyter-widgets/controls",
     "model_module_version": "1.5.0",
     "model_name": "DescriptionStyleModel",
     "state": {
      "_model_module": "@jupyter-widgets/controls",
      "_model_module_version": "1.5.0",
      "_model_name": "DescriptionStyleModel",
      "_view_count": null,
      "_view_module": "@jupyter-widgets/base",
      "_view_module_version": "1.2.0",
      "_view_name": "StyleView",
      "description_width": ""
     }
    },
    "da40c55164824b2e81fef416cea0bdf3": {
     "model_module": "@jupyter-widgets/controls",
     "model_module_version": "1.5.0",
     "model_name": "HTMLModel",
     "state": {
      "_dom_classes": [],
      "_model_module": "@jupyter-widgets/controls",
      "_model_module_version": "1.5.0",
      "_model_name": "HTMLModel",
      "_view_count": null,
      "_view_module": "@jupyter-widgets/controls",
      "_view_module_version": "1.5.0",
      "_view_name": "HTMLView",
      "description": "",
      "description_tooltip": null,
      "layout": "IPY_MODEL_8f571f239ad54eb19d35da67e47ddea9",
      "placeholder": "​",
      "style": "IPY_MODEL_fb07aa128c734c1396a8d2e8e46dfd7e",
      "value": " 157/157 [03:34&lt;00:00,  1.17s/it]"
     }
    },
    "dd28b99c3789438ba123044f9d8bd481": {
     "model_module": "@jupyter-widgets/base",
     "model_module_version": "1.2.0",
     "model_name": "LayoutModel",
     "state": {
      "_model_module": "@jupyter-widgets/base",
      "_model_module_version": "1.2.0",
      "_model_name": "LayoutModel",
      "_view_count": null,
      "_view_module": "@jupyter-widgets/base",
      "_view_module_version": "1.2.0",
      "_view_name": "LayoutView",
      "align_content": null,
      "align_items": null,
      "align_self": null,
      "border": null,
      "bottom": null,
      "display": null,
      "flex": null,
      "flex_flow": null,
      "grid_area": null,
      "grid_auto_columns": null,
      "grid_auto_flow": null,
      "grid_auto_rows": null,
      "grid_column": null,
      "grid_gap": null,
      "grid_row": null,
      "grid_template_areas": null,
      "grid_template_columns": null,
      "grid_template_rows": null,
      "height": null,
      "justify_content": null,
      "justify_items": null,
      "left": null,
      "margin": null,
      "max_height": null,
      "max_width": null,
      "min_height": null,
      "min_width": null,
      "object_fit": null,
      "object_position": null,
      "order": null,
      "overflow": null,
      "overflow_x": null,
      "overflow_y": null,
      "padding": null,
      "right": null,
      "top": null,
      "visibility": null,
      "width": null
     }
    },
    "e6639753498c44abbb25f2dd39f224a6": {
     "model_module": "@jupyter-widgets/base",
     "model_module_version": "1.2.0",
     "model_name": "LayoutModel",
     "state": {
      "_model_module": "@jupyter-widgets/base",
      "_model_module_version": "1.2.0",
      "_model_name": "LayoutModel",
      "_view_count": null,
      "_view_module": "@jupyter-widgets/base",
      "_view_module_version": "1.2.0",
      "_view_name": "LayoutView",
      "align_content": null,
      "align_items": null,
      "align_self": null,
      "border": null,
      "bottom": null,
      "display": null,
      "flex": null,
      "flex_flow": null,
      "grid_area": null,
      "grid_auto_columns": null,
      "grid_auto_flow": null,
      "grid_auto_rows": null,
      "grid_column": null,
      "grid_gap": null,
      "grid_row": null,
      "grid_template_areas": null,
      "grid_template_columns": null,
      "grid_template_rows": null,
      "height": null,
      "justify_content": null,
      "justify_items": null,
      "left": null,
      "margin": null,
      "max_height": null,
      "max_width": null,
      "min_height": null,
      "min_width": null,
      "object_fit": null,
      "object_position": null,
      "order": null,
      "overflow": null,
      "overflow_x": null,
      "overflow_y": null,
      "padding": null,
      "right": null,
      "top": null,
      "visibility": null,
      "width": null
     }
    },
    "fb07aa128c734c1396a8d2e8e46dfd7e": {
     "model_module": "@jupyter-widgets/controls",
     "model_module_version": "1.5.0",
     "model_name": "DescriptionStyleModel",
     "state": {
      "_model_module": "@jupyter-widgets/controls",
      "_model_module_version": "1.5.0",
      "_model_name": "DescriptionStyleModel",
      "_view_count": null,
      "_view_module": "@jupyter-widgets/base",
      "_view_module_version": "1.2.0",
      "_view_name": "StyleView",
      "description_width": ""
     }
    }
   }
  }
 },
 "nbformat": 4,
 "nbformat_minor": 0
}
