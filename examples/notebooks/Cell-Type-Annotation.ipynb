{
  "cells": [
    {
      "cell_type": "markdown",
      "metadata": {
        "id": "yXsc6JTIw0HX"
      },
      "source": [
        "# Cell type annotation prediction\n",
        "\n",
        "Run this notebook on google colab to use a free GPU!\n",
        "\n",
        "[![Open In Colab](https://colab.research.google.com/assets/colab-badge.svg)](https://colab.research.google.com/github/helicalAI/helical/blob/main/examples/notebooks/Cell-Type-Annotation.ipynb)\n",
        "\n",
        "In this notebook, we aim to predict cell type annotations based on gene expression profiles using Foundation Models. \n",
        "\n",
        "Following a tutorial from [scGPT](https://github.com/bowang-lab/scGPT/blob/main/tutorials/Tutorial_Annotation.ipynb), we will:\n",
        "\n",
        "* Use the pre-trained scGPT model to generate embeddings from gene expression profiles.\n",
        "* Train a smaller neural network on these embeddings to predict cell types, rather than fine-tuning the entire scGPT model.\n",
        "\n",
        "Comparison with [Geneformer](https://www.nature.com/articles/s41586-023-06139-9.epdf?sharing_token=u_5LUGVkd3A8zR-f73lU59RgN0jAjWel9jnR3ZoTv0N2UB4yyXENUK50s6uqjXH69sDxh4Z3J4plYCKlVME-W2WSuRiS96vx6t5ex2-krVDS46JkoVvAvJyWtYXIyj74pDWn_DutZq1oAlDaxfvBpUfSKDdBPJ8SKlTId8uT47M%3D):\n",
        "* We will apply the same approach to another Foundation Model, Geneformer, and compare the prediction results from both models to evaluate their performance.\n",
        "\n",
        "This approach significantly reduces the time and computational resources required, making it more efficient while still achieving reliable predictions."
      ]
    },
    {
      "cell_type": "markdown",
      "metadata": {},
      "source": [
        "### Installing required packages and importing libraries"
      ]
    },
    {
      "cell_type": "code",
      "execution_count": 1,
      "metadata": {
        "colab": {
          "base_uri": "https://localhost:8080/"
        },
        "id": "VVhpT3bSxAML",
        "outputId": "49cc4e8e-7599-4320-c9db-d7a35eba6f1f"
      },
      "outputs": [
        {
          "name": "stdout",
          "output_type": "stream",
          "text": [
            "Requirement already satisfied: tensorflow_addons in /Users/marianaquirogalondono/miniconda3/envs/helical-package/lib/python3.11/site-packages (0.23.0)\n",
            "Requirement already satisfied: typeguard<3.0.0,>=2.7 in /Users/marianaquirogalondono/miniconda3/envs/helical-package/lib/python3.11/site-packages (from tensorflow_addons) (2.13.3)\n",
            "Requirement already satisfied: packaging in /Users/marianaquirogalondono/miniconda3/envs/helical-package/lib/python3.11/site-packages (from tensorflow_addons) (24.1)\n",
            "  Running command git clone --filter=blob:none --quiet https://github.com/helicalAI/helical.git /private/var/folders/dl/jdlpx0rd1sngyrhc_xk9zmdw0000gn/T/pip-req-build-to1qs2ry\n",
            "  Running command git checkout -b main --track origin/main\n",
            "  Switched to a new branch 'main'\n",
            "  branch 'main' set up to track 'origin/main'.\n",
            "Requirement already satisfied: oauthlib>=3.0.0 in /Users/marianaquirogalondono/miniconda3/envs/helical-package/lib/python3.11/site-packages (from requests-oauthlib>=0.7.0->google-auth-oauthlib<1.1,>=0.5->tensorboard<2.14,>=2.13->tensorflow-macos==2.13.0-rc1->tensorflow==2.13.0rc1->helical==0.0.0) (3.2.2)\n"
          ]
        }
      ],
      "source": [
        "!pip install tensorflow_addons\n",
        "!pip install git+https://github.com/helicalAI/helical.git@main | tail -n 1"
      ]
    },
    {
      "cell_type": "code",
      "execution_count": 2,
      "metadata": {
        "colab": {
          "base_uri": "https://localhost:8080/"
        },
        "id": "7dVEvWbbH3Kr",
        "outputId": "30970f82-78bb-4b8f-f240-1e8e03c2a90c"
      },
      "outputs": [
        {
          "name": "stdout",
          "output_type": "stream",
          "text": [
            "Requirement already satisfied: tensorboard in /Users/marianaquirogalondono/miniconda3/envs/helical-package/lib/python3.11/site-packages (2.13.0)\n",
            "Requirement already satisfied: absl-py>=0.4 in /Users/marianaquirogalondono/miniconda3/envs/helical-package/lib/python3.11/site-packages (from tensorboard) (2.1.0)\n",
            "Requirement already satisfied: grpcio>=1.48.2 in /Users/marianaquirogalondono/miniconda3/envs/helical-package/lib/python3.11/site-packages (from tensorboard) (1.64.1)\n",
            "Requirement already satisfied: google-auth<3,>=1.6.3 in /Users/marianaquirogalondono/miniconda3/envs/helical-package/lib/python3.11/site-packages (from tensorboard) (2.31.0)\n",
            "Requirement already satisfied: google-auth-oauthlib<1.1,>=0.5 in /Users/marianaquirogalondono/miniconda3/envs/helical-package/lib/python3.11/site-packages (from tensorboard) (1.0.0)\n",
            "Requirement already satisfied: markdown>=2.6.8 in /Users/marianaquirogalondono/miniconda3/envs/helical-package/lib/python3.11/site-packages (from tensorboard) (3.6)\n",
            "Requirement already satisfied: numpy>=1.12.0 in /Users/marianaquirogalondono/miniconda3/envs/helical-package/lib/python3.11/site-packages (from tensorboard) (1.26.4)\n",
            "Requirement already satisfied: protobuf>=3.19.6 in /Users/marianaquirogalondono/miniconda3/envs/helical-package/lib/python3.11/site-packages (from tensorboard) (4.25.3)\n",
            "Requirement already satisfied: requests<3,>=2.21.0 in /Users/marianaquirogalondono/miniconda3/envs/helical-package/lib/python3.11/site-packages (from tensorboard) (2.31.0)\n",
            "Requirement already satisfied: setuptools>=41.0.0 in /Users/marianaquirogalondono/miniconda3/envs/helical-package/lib/python3.11/site-packages (from tensorboard) (69.5.1)\n",
            "Requirement already satisfied: tensorboard-data-server<0.8.0,>=0.7.0 in /Users/marianaquirogalondono/miniconda3/envs/helical-package/lib/python3.11/site-packages (from tensorboard) (0.7.2)\n",
            "Requirement already satisfied: werkzeug>=1.0.1 in /Users/marianaquirogalondono/miniconda3/envs/helical-package/lib/python3.11/site-packages (from tensorboard) (3.0.3)\n",
            "Requirement already satisfied: wheel>=0.26 in /Users/marianaquirogalondono/miniconda3/envs/helical-package/lib/python3.11/site-packages (from tensorboard) (0.43.0)\n",
            "Requirement already satisfied: cachetools<6.0,>=2.0.0 in /Users/marianaquirogalondono/miniconda3/envs/helical-package/lib/python3.11/site-packages (from google-auth<3,>=1.6.3->tensorboard) (5.3.3)\n",
            "Requirement already satisfied: pyasn1-modules>=0.2.1 in /Users/marianaquirogalondono/miniconda3/envs/helical-package/lib/python3.11/site-packages (from google-auth<3,>=1.6.3->tensorboard) (0.4.0)\n",
            "Requirement already satisfied: rsa<5,>=3.1.4 in /Users/marianaquirogalondono/miniconda3/envs/helical-package/lib/python3.11/site-packages (from google-auth<3,>=1.6.3->tensorboard) (4.9)\n",
            "Requirement already satisfied: requests-oauthlib>=0.7.0 in /Users/marianaquirogalondono/miniconda3/envs/helical-package/lib/python3.11/site-packages (from google-auth-oauthlib<1.1,>=0.5->tensorboard) (2.0.0)\n",
            "Requirement already satisfied: charset-normalizer<4,>=2 in /Users/marianaquirogalondono/miniconda3/envs/helical-package/lib/python3.11/site-packages (from requests<3,>=2.21.0->tensorboard) (3.3.2)\n",
            "Requirement already satisfied: idna<4,>=2.5 in /Users/marianaquirogalondono/miniconda3/envs/helical-package/lib/python3.11/site-packages (from requests<3,>=2.21.0->tensorboard) (3.7)\n",
            "Requirement already satisfied: urllib3<3,>=1.21.1 in /Users/marianaquirogalondono/miniconda3/envs/helical-package/lib/python3.11/site-packages (from requests<3,>=2.21.0->tensorboard) (2.2.2)\n",
            "Requirement already satisfied: certifi>=2017.4.17 in /Users/marianaquirogalondono/miniconda3/envs/helical-package/lib/python3.11/site-packages (from requests<3,>=2.21.0->tensorboard) (2024.6.2)\n",
            "Requirement already satisfied: MarkupSafe>=2.1.1 in /Users/marianaquirogalondono/miniconda3/envs/helical-package/lib/python3.11/site-packages (from werkzeug>=1.0.1->tensorboard) (2.1.5)\n",
            "Requirement already satisfied: pyasn1<0.7.0,>=0.4.6 in /Users/marianaquirogalondono/miniconda3/envs/helical-package/lib/python3.11/site-packages (from pyasn1-modules>=0.2.1->google-auth<3,>=1.6.3->tensorboard) (0.6.0)\n",
            "Requirement already satisfied: oauthlib>=3.0.0 in /Users/marianaquirogalondono/miniconda3/envs/helical-package/lib/python3.11/site-packages (from requests-oauthlib>=0.7.0->google-auth-oauthlib<1.1,>=0.5->tensorboard) (3.2.2)\n"
          ]
        }
      ],
      "source": [
        "!pip install tensorboard"
      ]
    },
    {
      "cell_type": "code",
      "execution_count": 3,
      "metadata": {
        "id": "WE2lzI1-IXnP"
      },
      "outputs": [],
      "source": [
        "# %load_ext tensorboard # uncomment to use tensorboard"
      ]
    },
    {
      "cell_type": "code",
      "execution_count": 4,
      "metadata": {
        "colab": {
          "base_uri": "https://localhost:8080/"
        },
        "id": "aDf6LsRIZ80C",
        "outputId": "b7ef3182-a30f-4946-a2d5-72b6c9082b87"
      },
      "outputs": [
        {
          "name": "stderr",
          "output_type": "stream",
          "text": [
            "/Users/marianaquirogalondono/miniconda3/envs/helical-package/lib/python3.11/site-packages/tensorflow_addons/utils/tfa_eol_msg.py:23: UserWarning: \n",
            "\n",
            "TensorFlow Addons (TFA) has ended development and introduction of new features.\n",
            "TFA has entered a minimal maintenance and release mode until a planned end of life in May 2024.\n",
            "Please modify downstream libraries to take dependencies from other repositories in our TensorFlow community (e.g. Keras, Keras-CV, and Keras-NLP). \n",
            "\n",
            "For more information see: https://github.com/tensorflow/addons/issues/2807 \n",
            "\n",
            "  warnings.warn(\n",
            "/Users/marianaquirogalondono/miniconda3/envs/helical-package/lib/python3.11/site-packages/tensorflow_addons/utils/ensure_tf_install.py:53: UserWarning: Tensorflow Addons supports using Python ops for all Tensorflow versions above or equal to 2.13.0 and strictly below 2.16.0 (nightly versions are not supported). \n",
            " The versions of TensorFlow you are currently using is 2.13.0-rc1 and is not supported. \n",
            "Some things might work, some things might not.\n",
            "If you were to encounter a bug, do not file an issue.\n",
            "If you want to make sure you're using a tested and supported configuration, either change the TensorFlow version or the TensorFlow Addons's version. \n",
            "You can find the compatibility matrix in TensorFlow Addon's readme:\n",
            "https://github.com/tensorflow/addons\n",
            "  warnings.warn(\n",
            "/Users/marianaquirogalondono/miniconda3/envs/helical-package/lib/python3.11/site-packages/tqdm/auto.py:21: TqdmWarning: IProgress not found. Please update jupyter and ipywidgets. See https://ipywidgets.readthedocs.io/en/stable/user_install.html\n",
            "  from .autonotebook import tqdm as notebook_tqdm\n",
            "OMP: Info #276: omp_set_nested routine deprecated, please use omp_set_max_active_levels instead.\n",
            "/Users/marianaquirogalondono/miniconda3/envs/helical-package/lib/python3.11/site-packages/helical/models/scgpt/model_dir/multiomic_model.py:19: UserWarning: flash_attn is not installed\n",
            "  warnings.warn(\"flash_attn is not installed\")\n"
          ]
        }
      ],
      "source": [
        "from tensorflow.keras.models import Sequential\n",
        "from tensorflow.keras.layers import Dense, Dropout\n",
        "from tensorflow.keras.callbacks import TensorBoard\n",
        "from tensorflow.keras.optimizers import Adam\n",
        "from tensorflow.keras.utils import to_categorical\n",
        "from sklearn.metrics import accuracy_score, precision_score, f1_score, recall_score\n",
        "from sklearn.preprocessing import LabelEncoder\n",
        "import numpy as np\n",
        "import datetime\n",
        "from sklearn.model_selection import train_test_split\n",
        "from tensorflow_addons.metrics import F1Score\n",
        "import os\n",
        "import requests\n",
        "import numpy as np\n",
        "import scanpy as sc\n",
        "import torch\n",
        "\n",
        "from helical.models.scgpt.model import scGPT, scGPTConfig\n",
        "from helical.models.geneformer.model import Geneformer, GeneformerConfig"
      ]
    },
    {
      "cell_type": "markdown",
      "metadata": {},
      "source": [
        "### Downloading the training and evaluation sets"
      ]
    },
    {
      "cell_type": "markdown",
      "metadata": {
        "id": "DjC76_rI-BSe"
      },
      "source": [
        "To build and assess the performance of our machine learning models, we need to work with two types of datasets: a training set and an evaluation set.\n",
        "\n",
        "- **Training set**  `c_data.h5ad`: This dataset is used to train the model. During training, the model learns to understand the patterns and relationships within the data, allowing it to make predictions.\n",
        "- **Evaluation set**  `ms_default.h5ad`: This dataset is used to evaluate the model's performance. It helps us understand how well the model generalizes to new, unseen data by providing an unbiased assessment of its predictive capabilities.\n",
        "\n",
        "Following the methodology from a [paper](https://www.biorxiv.org/content/10.1101/2023.10.24.563625v1) comparing scGPT and Geneformer, we will download these datasets. The evaluation set was retrieved from their [Google Drive](https://drive.google.com/drive/folders/1bNOrB0ukkAuGtcocdvctSVOaAUG6uJ8l), and the training set was obtained from scGPT [here](https://drive.google.com/drive/folders/1Qd42YNabzyr2pWt9xoY4cVMTAxsNBt4v).\n"
      ]
    },
    {
      "cell_type": "code",
      "execution_count": 5,
      "metadata": {
        "id": "ckfPXCZrm6UM"
      },
      "outputs": [],
      "source": [
        "def download_files(files: list[str])-> None:\n",
        "\n",
        "    for filename in files:\n",
        "        url = f\"https://helicalpackage.blob.core.windows.net/helicalpackage/data/{filename}\"\n",
        "\n",
        "        # Check if the file already exists in the current directory\n",
        "        if os.path.exists(filename):\n",
        "            print(f\"Files already exist. Skipping downloads.\")\n",
        "        else:\n",
        "            response = requests.get(url)\n",
        "            if response.status_code == 200:\n",
        "                with open(filename, \"wb\") as file:\n",
        "                    file.write(response.content)\n",
        "                print(f\"Downloaded {filename} successfully.\")\n",
        "            else:\n",
        "                print(f\"Failed to download {filename}.\")"
      ]
    },
    {
      "cell_type": "code",
      "execution_count": 6,
      "metadata": {
        "colab": {
          "base_uri": "https://localhost:8080/"
        },
        "id": "TpvpV2yZpZBO",
        "outputId": "0caaa74e-f0ff-4122-bd27-32af6d85d155"
      },
      "outputs": [
        {
          "name": "stdout",
          "output_type": "stream",
          "text": [
            "Files already exist. Skipping downloads.\n",
            "Files already exist. Skipping downloads.\n"
          ]
        }
      ],
      "source": [
        "files = [\"c_data.h5ad\", \"ms_default.h5ad\"]\n",
        "download_files(files)"
      ]
    },
    {
      "cell_type": "markdown",
      "metadata": {},
      "source": [
        "### Familiarizing ourselves with the data"
      ]
    },
    {
      "cell_type": "markdown",
      "metadata": {
        "id": "XME3WOUl-BSf"
      },
      "source": [
        "\n",
        "Before we start training our models, it's important to understand the structure of our data. We are particularly interested in the names of the cell types we want to predict, which are saved in `adata.obs[\"celltype\"]`.\n",
        "\n",
        "Additionally, we need to determine the number of distinct cell types present in our dataset. This information is needed for setting up our model correctly, and for downstream evaluation metrics calculation."
      ]
    },
    {
      "cell_type": "code",
      "execution_count": 7,
      "metadata": {
        "id": "sjo5qHPFw0HY"
      },
      "outputs": [],
      "source": [
        "adata = sc.read(\"c_data.h5ad\")\n",
        "\n",
        "# get labels: the celltype\n",
        "num_types = adata.obs[\"celltype\"].unique().shape[0]\n",
        "id2type = dict(enumerate(adata.obs[\"celltype\"].astype(\"category\").cat.categories))\n",
        "\n",
        "celltypes_labels = np.array(adata.obs[\"celltype\"].tolist())"
      ]
    },
    {
      "cell_type": "markdown",
      "metadata": {
        "id": "VzPLNqRr-BSg"
      },
      "source": [
        "This is all summarized in this dictionary:"
      ]
    },
    {
      "cell_type": "code",
      "execution_count": 8,
      "metadata": {
        "colab": {
          "base_uri": "https://localhost:8080/"
        },
        "id": "_j-x6weFm6UO",
        "outputId": "5d0c52f1-553e-460f-def7-7cf372b9bc89"
      },
      "outputs": [
        {
          "data": {
            "text/plain": [
              "{0: 'PVALB-expressing interneuron',\n",
              " 1: 'SST-expressing interneuron',\n",
              " 2: 'SV2C-expressing interneuron',\n",
              " 3: 'VIP-expressing interneuron',\n",
              " 4: 'astrocyte',\n",
              " 5: 'cortical layer 2-3 excitatory neuron A',\n",
              " 6: 'cortical layer 2-3 excitatory neuron B',\n",
              " 7: 'cortical layer 4 excitatory neuron',\n",
              " 8: 'cortical layer 5-6 excitatory neuron',\n",
              " 9: 'endothelial cell',\n",
              " 10: 'microglial cell',\n",
              " 11: 'mixed excitatory neuron',\n",
              " 12: 'mixed glial cell?',\n",
              " 13: 'oligodendrocyte A',\n",
              " 14: 'oligodendrocyte C',\n",
              " 15: 'oligodendrocyte precursor cell',\n",
              " 16: 'phagocyte',\n",
              " 17: 'pyramidal neuron?'}"
            ]
          },
          "execution_count": 8,
          "metadata": {},
          "output_type": "execute_result"
        }
      ],
      "source": [
        "id2type"
      ]
    },
    {
      "cell_type": "markdown",
      "metadata": {
        "id": "HayHZKTC-BSi"
      },
      "source": [
        "\n",
        "Next, we'll use the Helical package to obtain the embeddings of the gene expression profiles. These embeddings will serve as the input features $X$ for our smaller neural network model.\n",
        "\n",
        "The only thing we need to specify is the gene names (`gene_name` in this case).\n"
      ]
    },
    {
      "cell_type": "markdown",
      "metadata": {
        "id": "_cXrEgxHC-Wi"
      },
      "source": [
        "# scGPT"
      ]
    },
    {
      "cell_type": "markdown",
      "metadata": {},
      "source": [
        "We will set up the environment to use a GPU if available, configure the scGPT model, and process the data to obtain the embeddings."
      ]
    },
    {
      "cell_type": "code",
      "execution_count": 9,
      "metadata": {
        "colab": {
          "base_uri": "https://localhost:8080/"
        },
        "id": "t0hNoTJdw0Ha",
        "outputId": "26c17bfa-13de-4ccb-beb4-a725a40dd97f"
      },
      "outputs": [
        {
          "name": "stderr",
          "output_type": "stream",
          "text": [
            "2024-07-11, 11:36:41.468 helical.services.downloader INFO File: '/Users/marianaquirogalondono/.cache/helical/models/scgpt/scGPT_CP/vocab.json' exists already. File is not overwritten and nothing is downloaded.\n",
            "2024-07-11, 11:36:41.469 helical.services.downloader INFO File saved to: '/Users/marianaquirogalondono/.cache/helical/models/scgpt/scGPT_CP/vocab.json'\n",
            "2024-07-11, 11:36:41.469 helical.services.downloader INFO File: '/Users/marianaquirogalondono/.cache/helical/models/scgpt/scGPT_CP/best_model.pt' exists already. File is not overwritten and nothing is downloaded.\n",
            "2024-07-11, 11:36:41.470 helical.services.downloader INFO File saved to: '/Users/marianaquirogalondono/.cache/helical/models/scgpt/scGPT_CP/best_model.pt'\n",
            "2024-07-11, 11:36:42.022 helical.models.scgpt.model INFO Model finished initializing.\n",
            "2024-07-11, 11:36:42.025 helical.models.scgpt.model INFO Filtering out 192 genes to a total of 2808 genes with an id in the scGPT vocabulary.\n",
            "2024-07-11, 11:36:42.051 helical.models.scgpt.model INFO Inference started:\n",
            "/Users/marianaquirogalondono/miniconda3/envs/helical-package/lib/python3.11/site-packages/torch/amp/autocast_mode.py:250: UserWarning: User provided device_type of 'cuda', but CUDA is not available. Disabling\n",
            "  warnings.warn(\n",
            "Embedding cells:   0%|          | 0/157 [00:00<?, ?it/s]/Users/marianaquirogalondono/miniconda3/envs/helical-package/lib/python3.11/site-packages/torch/nn/modules/transformer.py:408: UserWarning: The PyTorch API of nested tensors is in prototype stage and will change in the near future. (Triggered internally at /Users/runner/work/pytorch/pytorch/pytorch/aten/src/ATen/NestedTensorImpl.cpp:180.)\n",
            "  output = torch._nested_tensor_from_mask(output, src_key_padding_mask.logical_not(), mask_check=False)\n",
            "Embedding cells: 100%|██████████| 157/157 [26:55<00:00, 10.29s/it]\n"
          ]
        },
        {
          "data": {
            "text/plain": [
              "(7844, 512)"
            ]
          },
          "execution_count": 9,
          "metadata": {},
          "output_type": "execute_result"
        }
      ],
      "source": [
        "device = \"cuda\" if torch.cuda.is_available() else \"cpu\"\n",
        "\n",
        "scgpt_config = scGPTConfig(batch_size=50, device=device)\n",
        "scgpt = scGPT(configurer = scgpt_config)\n",
        "data = scgpt.process_data(adata, gene_names = \"gene_name\")\n",
        "x_scgpt = scgpt.get_embeddings(data)\n",
        "x_scgpt.shape"
      ]
    },
    {
      "cell_type": "markdown",
      "metadata": {
        "id": "YxtVwacW-BSj"
      },
      "source": [
        "We have already prepared the numerical data (embeddings) that represent the gene expression profiles. We also need the correct answers (labels) for this data, which are the names of the cell types. Since we have 18 different cell types in this dataset and each type is a category, we convert these category labels into a format that our model can understand (one-hot encoding)."
      ]
    },
    {
      "cell_type": "code",
      "execution_count": 10,
      "metadata": {
        "colab": {
          "base_uri": "https://localhost:8080/"
        },
        "id": "zHMZ7VX8m6UQ",
        "outputId": "d40c15bd-4ea5-4821-def3-7f253a3af469"
      },
      "outputs": [
        {
          "data": {
            "text/plain": [
              "(7844, 18)"
            ]
          },
          "execution_count": 10,
          "metadata": {},
          "output_type": "execute_result"
        }
      ],
      "source": [
        "y = celltypes_labels\n",
        "num_classes = num_types\n",
        "\n",
        "encoder = LabelEncoder()\n",
        "y_encoded = encoder.fit_transform(y)\n",
        "y_encoded = to_categorical(y_encoded, num_classes=num_classes)\n",
        "y_encoded.shape"
      ]
    },
    {
      "cell_type": "markdown",
      "metadata": {
        "id": "wQpfYP2z-BSk"
      },
      "source": [
        "### Defining and training the model"
      ]
    },
    {
      "cell_type": "markdown",
      "metadata": {},
      "source": [
        "Now we will define a neural network model and train it using the embeddings and labels we prepared."
      ]
    },
    {
      "cell_type": "markdown",
      "metadata": {},
      "source": [
        "##### Defining the model"
      ]
    },
    {
      "cell_type": "code",
      "execution_count": 11,
      "metadata": {
        "colab": {
          "base_uri": "https://localhost:8080/"
        },
        "id": "iVtFwjSp4rgs",
        "outputId": "4b68dd99-6615-4912-97bb-8267135c40d5"
      },
      "outputs": [
        {
          "name": "stderr",
          "output_type": "stream",
          "text": [
            "2024-07-11, 12:03:37.426 absl WARNING At this time, the v2.11+ optimizer `tf.keras.optimizers.Adam` runs slowly on M1/M2 Macs, please use the legacy Keras optimizer instead, located at `tf.keras.optimizers.legacy.Adam`.\n",
            "2024-07-11, 12:03:37.436 absl WARNING There is a known slowdown when using v2.11+ Keras optimizers on M1/M2 Macs. Falling back to the legacy Keras optimizer, i.e., `tf.keras.optimizers.legacy.Adam`.\n"
          ]
        },
        {
          "name": "stdout",
          "output_type": "stream",
          "text": [
            "Model: \"sequential\"\n",
            "_________________________________________________________________\n",
            " Layer (type)                Output Shape              Param #   \n",
            "=================================================================\n",
            " dense (Dense)               (None, 128)               65664     \n",
            "                                                                 \n",
            " dropout (Dropout)           (None, 128)               0         \n",
            "                                                                 \n",
            " dense_1 (Dense)             (None, 32)                4128      \n",
            "                                                                 \n",
            " dropout_1 (Dropout)         (None, 32)                0         \n",
            "                                                                 \n",
            " dense_2 (Dense)             (None, 18)                594       \n",
            "                                                                 \n",
            "=================================================================\n",
            "Total params: 70386 (274.95 KB)\n",
            "Trainable params: 70386 (274.95 KB)\n",
            "Non-trainable params: 0 (0.00 Byte)\n",
            "_________________________________________________________________\n"
          ]
        }
      ],
      "source": [
        "input_shape = (512,)\n",
        "\n",
        "# define the model\n",
        "head_model = Sequential()\n",
        "head_model.add(Dense(128, activation='relu', input_shape=input_shape))\n",
        "head_model.add(Dropout(0.4))\n",
        "head_model.add(Dense(32, activation='relu'))\n",
        "head_model.add(Dropout(0.4))\n",
        "head_model.add(Dense(num_classes, activation='softmax'))\n",
        "optimizer = Adam(learning_rate=0.001)\n",
        "f1_metric = F1Score(num_classes, average='macro')\n",
        "head_model.compile(loss='categorical_crossentropy', optimizer=optimizer, metrics=f1_metric)\n",
        "head_model.summary()"
      ]
    },
    {
      "cell_type": "markdown",
      "metadata": {},
      "source": [
        "##### Training the model"
      ]
    },
    {
      "cell_type": "code",
      "execution_count": 12,
      "metadata": {
        "colab": {
          "base_uri": "https://localhost:8080/"
        },
        "id": "m_MksIuNw0Hb",
        "outputId": "1c316b1e-87b3-4ad5-d283-e6e810c44d19"
      },
      "outputs": [
        {
          "name": "stdout",
          "output_type": "stream",
          "text": [
            "Epoch 1/50\n",
            "111/111 [==============================] - 1s 3ms/step - loss: 2.3276 - f1_score: 0.0449 - val_loss: 1.9067 - val_f1_score: 0.0783\n",
            "Epoch 2/50\n",
            "111/111 [==============================] - 0s 1ms/step - loss: 1.7895 - f1_score: 0.1218 - val_loss: 1.3783 - val_f1_score: 0.1638\n",
            "Epoch 3/50\n",
            "111/111 [==============================] - 0s 1ms/step - loss: 1.4370 - f1_score: 0.2037 - val_loss: 1.1336 - val_f1_score: 0.2633\n",
            "Epoch 4/50\n",
            "111/111 [==============================] - 0s 1ms/step - loss: 1.2475 - f1_score: 0.2619 - val_loss: 0.9819 - val_f1_score: 0.3382\n",
            "Epoch 5/50\n",
            "111/111 [==============================] - 0s 1ms/step - loss: 1.1198 - f1_score: 0.3017 - val_loss: 0.8696 - val_f1_score: 0.3452\n",
            "Epoch 6/50\n",
            "111/111 [==============================] - 0s 1ms/step - loss: 1.0490 - f1_score: 0.3250 - val_loss: 0.8132 - val_f1_score: 0.3431\n",
            "Epoch 7/50\n",
            "111/111 [==============================] - 0s 1ms/step - loss: 0.9685 - f1_score: 0.3455 - val_loss: 0.7468 - val_f1_score: 0.3687\n",
            "Epoch 8/50\n",
            "111/111 [==============================] - 0s 1ms/step - loss: 0.9234 - f1_score: 0.3629 - val_loss: 0.7200 - val_f1_score: 0.4042\n",
            "Epoch 9/50\n",
            "111/111 [==============================] - 0s 1ms/step - loss: 0.8744 - f1_score: 0.3794 - val_loss: 0.6972 - val_f1_score: 0.4091\n",
            "Epoch 10/50\n",
            "111/111 [==============================] - 0s 1ms/step - loss: 0.8448 - f1_score: 0.4113 - val_loss: 0.6714 - val_f1_score: 0.4696\n",
            "Epoch 11/50\n",
            "111/111 [==============================] - 0s 1ms/step - loss: 0.8195 - f1_score: 0.4101 - val_loss: 0.6410 - val_f1_score: 0.4878\n",
            "Epoch 12/50\n",
            "111/111 [==============================] - 0s 1ms/step - loss: 0.7922 - f1_score: 0.4313 - val_loss: 0.6228 - val_f1_score: 0.5041\n",
            "Epoch 13/50\n",
            "111/111 [==============================] - 0s 2ms/step - loss: 0.7718 - f1_score: 0.4338 - val_loss: 0.6130 - val_f1_score: 0.5451\n",
            "Epoch 14/50\n",
            "111/111 [==============================] - 0s 3ms/step - loss: 0.7443 - f1_score: 0.4777 - val_loss: 0.5991 - val_f1_score: 0.5639\n",
            "Epoch 15/50\n",
            "111/111 [==============================] - 0s 2ms/step - loss: 0.7372 - f1_score: 0.4844 - val_loss: 0.5863 - val_f1_score: 0.5808\n",
            "Epoch 16/50\n",
            "111/111 [==============================] - 0s 2ms/step - loss: 0.7153 - f1_score: 0.4942 - val_loss: 0.5786 - val_f1_score: 0.6064\n",
            "Epoch 17/50\n",
            "111/111 [==============================] - 0s 3ms/step - loss: 0.6983 - f1_score: 0.4926 - val_loss: 0.5699 - val_f1_score: 0.5839\n",
            "Epoch 18/50\n",
            "111/111 [==============================] - 0s 2ms/step - loss: 0.6834 - f1_score: 0.5078 - val_loss: 0.5688 - val_f1_score: 0.6118\n",
            "Epoch 19/50\n",
            "111/111 [==============================] - 0s 2ms/step - loss: 0.6817 - f1_score: 0.5192 - val_loss: 0.5609 - val_f1_score: 0.6155\n",
            "Epoch 20/50\n",
            "111/111 [==============================] - 0s 2ms/step - loss: 0.6684 - f1_score: 0.5268 - val_loss: 0.5572 - val_f1_score: 0.6201\n",
            "Epoch 21/50\n",
            "111/111 [==============================] - 0s 2ms/step - loss: 0.6631 - f1_score: 0.5365 - val_loss: 0.5498 - val_f1_score: 0.6184\n",
            "Epoch 22/50\n",
            "111/111 [==============================] - 0s 2ms/step - loss: 0.6487 - f1_score: 0.5374 - val_loss: 0.5423 - val_f1_score: 0.6219\n",
            "Epoch 23/50\n",
            "111/111 [==============================] - 0s 1ms/step - loss: 0.6390 - f1_score: 0.5430 - val_loss: 0.5412 - val_f1_score: 0.6382\n",
            "Epoch 24/50\n",
            "111/111 [==============================] - 0s 1ms/step - loss: 0.6366 - f1_score: 0.5624 - val_loss: 0.5359 - val_f1_score: 0.6227\n",
            "Epoch 25/50\n",
            "111/111 [==============================] - 0s 1ms/step - loss: 0.6232 - f1_score: 0.5607 - val_loss: 0.5366 - val_f1_score: 0.6255\n",
            "Epoch 26/50\n",
            "111/111 [==============================] - 0s 1ms/step - loss: 0.6143 - f1_score: 0.5662 - val_loss: 0.5300 - val_f1_score: 0.6145\n",
            "Epoch 27/50\n",
            "111/111 [==============================] - 0s 1ms/step - loss: 0.6038 - f1_score: 0.5743 - val_loss: 0.5311 - val_f1_score: 0.6296\n",
            "Epoch 28/50\n",
            "111/111 [==============================] - 0s 1ms/step - loss: 0.6049 - f1_score: 0.5678 - val_loss: 0.5401 - val_f1_score: 0.6356\n",
            "Epoch 29/50\n",
            "111/111 [==============================] - 0s 1ms/step - loss: 0.5969 - f1_score: 0.5766 - val_loss: 0.5261 - val_f1_score: 0.6297\n",
            "Epoch 30/50\n",
            "111/111 [==============================] - 0s 1ms/step - loss: 0.5826 - f1_score: 0.5773 - val_loss: 0.5204 - val_f1_score: 0.6309\n",
            "Epoch 31/50\n",
            "111/111 [==============================] - 0s 2ms/step - loss: 0.5941 - f1_score: 0.5740 - val_loss: 0.5184 - val_f1_score: 0.6376\n",
            "Epoch 32/50\n",
            "111/111 [==============================] - 0s 2ms/step - loss: 0.5693 - f1_score: 0.5891 - val_loss: 0.5272 - val_f1_score: 0.6349\n",
            "Epoch 33/50\n",
            "111/111 [==============================] - 0s 2ms/step - loss: 0.5657 - f1_score: 0.5964 - val_loss: 0.5249 - val_f1_score: 0.6328\n",
            "Epoch 34/50\n",
            "111/111 [==============================] - 0s 2ms/step - loss: 0.5687 - f1_score: 0.5915 - val_loss: 0.5062 - val_f1_score: 0.6264\n",
            "Epoch 35/50\n",
            "111/111 [==============================] - 0s 2ms/step - loss: 0.5614 - f1_score: 0.6019 - val_loss: 0.5141 - val_f1_score: 0.6293\n",
            "Epoch 36/50\n",
            "111/111 [==============================] - 0s 2ms/step - loss: 0.5632 - f1_score: 0.6003 - val_loss: 0.5112 - val_f1_score: 0.6418\n",
            "Epoch 37/50\n",
            "111/111 [==============================] - 0s 1ms/step - loss: 0.5522 - f1_score: 0.6062 - val_loss: 0.5099 - val_f1_score: 0.6344\n",
            "Epoch 38/50\n",
            "111/111 [==============================] - 0s 1ms/step - loss: 0.5540 - f1_score: 0.6135 - val_loss: 0.5121 - val_f1_score: 0.6429\n",
            "Epoch 39/50\n",
            "111/111 [==============================] - 0s 1ms/step - loss: 0.5442 - f1_score: 0.6067 - val_loss: 0.5135 - val_f1_score: 0.6508\n",
            "Epoch 40/50\n",
            "111/111 [==============================] - 0s 1ms/step - loss: 0.5445 - f1_score: 0.6027 - val_loss: 0.5011 - val_f1_score: 0.6200\n",
            "Epoch 41/50\n",
            "111/111 [==============================] - 0s 1ms/step - loss: 0.5240 - f1_score: 0.6159 - val_loss: 0.5075 - val_f1_score: 0.6317\n",
            "Epoch 42/50\n",
            "111/111 [==============================] - 0s 1ms/step - loss: 0.5216 - f1_score: 0.6155 - val_loss: 0.5120 - val_f1_score: 0.6489\n",
            "Epoch 43/50\n",
            "111/111 [==============================] - 0s 1ms/step - loss: 0.5234 - f1_score: 0.6243 - val_loss: 0.5025 - val_f1_score: 0.6449\n",
            "Epoch 44/50\n",
            "111/111 [==============================] - 0s 1ms/step - loss: 0.5278 - f1_score: 0.6175 - val_loss: 0.5069 - val_f1_score: 0.6465\n",
            "Epoch 45/50\n",
            "111/111 [==============================] - 0s 1ms/step - loss: 0.5231 - f1_score: 0.6261 - val_loss: 0.5052 - val_f1_score: 0.6442\n",
            "Epoch 46/50\n",
            "111/111 [==============================] - 0s 2ms/step - loss: 0.5202 - f1_score: 0.6252 - val_loss: 0.4939 - val_f1_score: 0.6470\n",
            "Epoch 47/50\n",
            "111/111 [==============================] - 0s 2ms/step - loss: 0.5146 - f1_score: 0.6169 - val_loss: 0.4994 - val_f1_score: 0.6478\n",
            "Epoch 48/50\n",
            "111/111 [==============================] - 0s 2ms/step - loss: 0.4999 - f1_score: 0.6181 - val_loss: 0.5052 - val_f1_score: 0.6479\n",
            "Epoch 49/50\n",
            "111/111 [==============================] - 0s 2ms/step - loss: 0.5086 - f1_score: 0.6270 - val_loss: 0.4912 - val_f1_score: 0.6480\n",
            "Epoch 50/50\n",
            "111/111 [==============================] - 0s 2ms/step - loss: 0.5030 - f1_score: 0.6230 - val_loss: 0.5042 - val_f1_score: 0.6447\n"
          ]
        }
      ],
      "source": [
        "head_model_scgpt = head_model\n",
        "X_train, X_test, y_train, y_test = train_test_split(x_scgpt, y_encoded, test_size=0.1, random_state=42)\n",
        "\n",
        "# Setup callbacks\n",
        "log_dir = \"logs/fit/\" + datetime.datetime.now().strftime(\"%Y%m%d-%H%M%S\")\n",
        "tensorboard_callback = TensorBoard(log_dir=log_dir, histogram_freq=1)\n",
        "\n",
        "history = head_model_scgpt.fit(X_train, y_train, epochs=50, batch_size=64, validation_data=(X_test, y_test), callbacks=[tensorboard_callback])"
      ]
    },
    {
      "cell_type": "markdown",
      "metadata": {},
      "source": [
        "##### Preparing the model for evaluation"
      ]
    },
    {
      "cell_type": "code",
      "execution_count": 13,
      "metadata": {
        "colab": {
          "base_uri": "https://localhost:8080/"
        },
        "id": "UX4bwC0xw0Hc",
        "outputId": "d726323c-ce91-4be6-a09c-608f1dda4bd7"
      },
      "outputs": [
        {
          "name": "stdout",
          "output_type": "stream",
          "text": [
            "25/25 [==============================] - 0s 626us/step\n"
          ]
        }
      ],
      "source": [
        "predictions_nn = head_model_scgpt.predict(X_test)\n",
        "y_pred = np.argmax(predictions_nn, axis=1)\n",
        "y_true = np.argmax(y_test, axis=1)"
      ]
    },
    {
      "cell_type": "markdown",
      "metadata": {
        "id": "Uy8_LASN-BSl"
      },
      "source": [
        "### Presenting the results"
      ]
    },
    {
      "cell_type": "markdown",
      "metadata": {},
      "source": [
        "After training the model, we need to evaluate its performance on both the test set and a separate, unseen evaluation set. We'll define a function to calculate and present various evaluation metrics."
      ]
    },
    {
      "cell_type": "code",
      "execution_count": 14,
      "metadata": {
        "id": "_Lkv-mfDuKUP"
      },
      "outputs": [],
      "source": [
        "def get_evaluations(name_data_set, y_true, y_pred) -> dict:\n",
        "  accuracy = accuracy_score(y_true, y_pred)\n",
        "  precision = precision_score(y_true, y_pred, average='macro')\n",
        "  f1 = f1_score(y_true, y_pred, average='macro')\n",
        "  recall = recall_score(y_true, y_pred, average='macro')\n",
        "  print(f\"{name_data_set} accuracy: {(accuracy*100):.1f}%\")\n",
        "  print(f\"{name_data_set} precision: {(precision*100):.1f}%\")\n",
        "  print(f\"{name_data_set} f1: {(f1*100):.1f}%\")\n",
        "  print(f\"{name_data_set} recall: {(recall*100):.1f}%\")\n",
        "  return {\n",
        "      \"accuracy\": accuracy,\n",
        "      \"precision\": precision,\n",
        "      \"f1\": f1,\n",
        "      \"recall\": recall,\n",
        "  }"
      ]
    },
    {
      "cell_type": "code",
      "execution_count": 15,
      "metadata": {
        "colab": {
          "base_uri": "https://localhost:8080/"
        },
        "id": "q3THhrm7uS99",
        "outputId": "6737b828-df9c-4507-c577-80082247918b"
      },
      "outputs": [
        {
          "name": "stdout",
          "output_type": "stream",
          "text": [
            "Test set accuracy: 84.1%\n",
            "Test set precision: 75.4%\n",
            "Test set f1: 72.5%\n",
            "Test set recall: 71.2%\n"
          ]
        },
        {
          "name": "stderr",
          "output_type": "stream",
          "text": [
            "/Users/marianaquirogalondono/miniconda3/envs/helical-package/lib/python3.11/site-packages/sklearn/metrics/_classification.py:1344: UndefinedMetricWarning: Precision is ill-defined and being set to 0.0 in labels with no predicted samples. Use `zero_division` parameter to control this behavior.\n",
            "  _warn_prf(average, modifier, msg_start, len(result))\n"
          ]
        },
        {
          "data": {
            "text/plain": [
              "{'accuracy': 0.8407643312101911,\n",
              " 'precision': 0.7543085413399787,\n",
              " 'f1': 0.7252338972017698,\n",
              " 'recall': 0.7123926034045274}"
            ]
          },
          "execution_count": 15,
          "metadata": {},
          "output_type": "execute_result"
        }
      ],
      "source": [
        "get_evaluations(\"Test set\", y_true, y_pred)"
      ]
    },
    {
      "cell_type": "markdown",
      "metadata": {
        "id": "PGwcZiNaLkBv"
      },
      "source": [
        "##### Loading the unseen evaluation set"
      ]
    },
    {
      "cell_type": "markdown",
      "metadata": {},
      "source": [
        "Now, we will load the unseen evaluation set, process it, and make predictions using our trained model."
      ]
    },
    {
      "cell_type": "code",
      "execution_count": 16,
      "metadata": {
        "colab": {
          "base_uri": "https://localhost:8080/"
        },
        "id": "18bomcpxlxtY",
        "outputId": "ab17404e-20c0-4590-b730-492de07e55bd"
      },
      "outputs": [
        {
          "name": "stderr",
          "output_type": "stream",
          "text": [
            "2024-07-11, 12:03:47.691 helical.models.scgpt.model INFO Filtering out 192 genes to a total of 2808 genes with an id in the scGPT vocabulary.\n",
            "2024-07-11, 12:03:47.723 helical.models.scgpt.model INFO Inference started:\n",
            "/Users/marianaquirogalondono/miniconda3/envs/helical-package/lib/python3.11/site-packages/torch/amp/autocast_mode.py:250: UserWarning: User provided device_type of 'cuda', but CUDA is not available. Disabling\n",
            "  warnings.warn(\n",
            "Embedding cells: 100%|██████████| 157/157 [31:04<00:00, 11.87s/it]"
          ]
        },
        {
          "name": "stdout",
          "output_type": "stream",
          "text": [
            "113/246 [============>.................] - ETA: 0s"
          ]
        },
        {
          "name": "stderr",
          "output_type": "stream",
          "text": [
            "\n"
          ]
        },
        {
          "name": "stdout",
          "output_type": "stream",
          "text": [
            "246/246 [==============================] - 0s 785us/step\n"
          ]
        }
      ],
      "source": [
        "adata_unseen = sc.read(\"ms_default.h5ad\")\n",
        "data_unseen = scgpt.process_data(adata_unseen, gene_names=\"gene_name\")\n",
        "x_unseen = scgpt.get_embeddings(data_unseen)\n",
        "predictions_nn_unseen = head_model_scgpt.predict(x_unseen)"
      ]
    },
    {
      "cell_type": "markdown",
      "metadata": {},
      "source": [
        "##### Double checking the cell type mapping"
      ]
    },
    {
      "cell_type": "markdown",
      "metadata": {
        "id": "CTDOE-0uLFAq"
      },
      "source": [
        "We should double check that the cell types are mapped to the correct cell numbers for both the training data (`c_data.h5ad`) and this new data set (`ms_default.h5a`).\n",
        "\n",
        "To assess the performance of our model, we use the following metrics:\n",
        "\n",
        "- **Accuracy**:\n",
        "  - Measures overall effectiveness but can be misleading if the data is imbalanced.\n",
        "  - $ \\text{Accuracy} = \\frac{\\text{Number of Correct Predictions}}{\\text{Total Number of Predictions}} $\n",
        "\n",
        "\n",
        "- **Precision**:\n",
        "  - Indicates how many of the predicted positive instances are actually correct. Useful when the cost of false positives is high.\n",
        "  - $ \\text{Precision} = \\frac{\\text{True Positives}}{\\text{True Positives + False Positives}} $\n",
        "\n",
        "\n",
        "- **Recall (Sensitivity)**:\n",
        "  - Measures how well the model identifies all actual positive instances. Useful when the cost of false negatives is high.\n",
        "  - $ \\text{Recall} = \\frac{\\text{True Positives}}{\\text{True Positives + False Negatives}} $\n",
        "  \n",
        "\n",
        "- **F1 Score**: \n",
        "  - Combines precision and recall into a single metric, providing a balance between the two. Useful for imbalanced classes.\n",
        "  - $ \\text{F1 Score} = 2 \\times \\frac{\\text{Precision} \\times \\text{Recall}}{\\text{Precision + Recall}} $\n",
        "  "
      ]
    },
    {
      "cell_type": "code",
      "execution_count": 17,
      "metadata": {
        "colab": {
          "base_uri": "https://localhost:8080/"
        },
        "id": "h0Z6ZTBEJuuY",
        "outputId": "afab8809-b893-42fc-865d-4149f181a3ab"
      },
      "outputs": [
        {
          "data": {
            "text/plain": [
              "True"
            ]
          },
          "execution_count": 17,
          "metadata": {},
          "output_type": "execute_result"
        }
      ],
      "source": [
        "num_types = adata_unseen.obs[\"celltype\"].unique().shape[0]\n",
        "id2type_unseen = dict(enumerate(adata_unseen.obs[\"celltype\"].astype(\"category\").cat.categories))\n",
        "id2type_unseen == id2type"
      ]
    },
    {
      "cell_type": "code",
      "execution_count": 18,
      "metadata": {
        "colab": {
          "base_uri": "https://localhost:8080/"
        },
        "id": "loLEKJr3qZvL",
        "outputId": "32ec87e0-96d3-4d5e-a1ae-6d3244e80ddb"
      },
      "outputs": [
        {
          "name": "stdout",
          "output_type": "stream",
          "text": [
            "Evaluation set accuracy: 87.2%\n",
            "Evaluation set precision: 68.6%\n",
            "Evaluation set f1: 68.8%\n",
            "Evaluation set recall: 69.3%\n"
          ]
        },
        {
          "name": "stderr",
          "output_type": "stream",
          "text": [
            "/Users/marianaquirogalondono/miniconda3/envs/helical-package/lib/python3.11/site-packages/sklearn/metrics/_classification.py:1344: UndefinedMetricWarning: Precision is ill-defined and being set to 0.0 in labels with no predicted samples. Use `zero_division` parameter to control this behavior.\n",
            "  _warn_prf(average, modifier, msg_start, len(result))\n"
          ]
        }
      ],
      "source": [
        "y_true_unseen = np.array(adata_unseen.obs[\"celltype\"].tolist())\n",
        "y_pred_unseen = [id2type[prediction] for prediction in np.argmax(predictions_nn_unseen, axis=1)]\n",
        "\n",
        "scgpt_results = get_evaluations(\"Evaluation set\", y_true_unseen, y_pred_unseen)"
      ]
    },
    {
      "cell_type": "markdown",
      "metadata": {},
      "source": [
        "##### Understanding the evaluation metrics\n",
        "\n",
        "To make sense of the evaluation metrics, let's look at an example of the results:\n",
        "\n",
        "- **Evaluation set accuracy: 86.8%**\n",
        "  - This means that 86.8% of the total predictions were correct.\n",
        "\n",
        "- **Evaluation set precision: 68.5%**\n",
        "  - This means that 68.5% of the instances predicted as a particular cell type were correctly identified.\n",
        "\n",
        "- **Evaluation set recall: 68.5%**\n",
        "  - This means that 68.5% of the actual positive instances (cell types) were correctly identified by the model.\n",
        "\n",
        "- **Evaluation set f1: 68.3%**\n",
        "  - This means that the F1 score, which balances precision and recall, is 68.3%.\n",
        "\n",
        "These metrics help us understand how well our model is performing in different aspects of classification.\n"
      ]
    },
    {
      "cell_type": "markdown",
      "metadata": {},
      "source": [
        "##### Visualizing the classification performance per cell type"
      ]
    },
    {
      "cell_type": "markdown",
      "metadata": {
        "id": "RgMbzX-z-BSm"
      },
      "source": [
        "To visualize the classification performance for each cell type, we will plot a confusion matrix for the evaluation set."
      ]
    },
    {
      "cell_type": "code",
      "execution_count": 19,
      "metadata": {
        "colab": {
          "base_uri": "https://localhost:8080/",
          "height": 1000
        },
        "id": "3f-apdJ4-BSm",
        "outputId": "3a195685-3539-4eb3-a90c-f029ecaf7949"
      },
      "outputs": [
        {
          "data": {
            "text/plain": [
              "<Axes: >"
            ]
          },
          "execution_count": 19,
          "metadata": {},
          "output_type": "execute_result"
        },
        {
          "data": {
            "image/png": "[encoded data removed]",
            "text/plain": [
              "<Figure size 1200x1200 with 2 Axes>"
            ]
          },
          "metadata": {},
          "output_type": "display_data"
        }
      ],
      "source": [
        "from sklearn.metrics import confusion_matrix\n",
        "import pandas as pd\n",
        "import seaborn as sns\n",
        "import matplotlib.pyplot as plt\n",
        "\n",
        "set_predicted_cell_types = list(adata_unseen.obs[\"celltype\"].unique())\n",
        "for i in set(y_pred_unseen):\n",
        "    if i not in set_predicted_cell_types:\n",
        "        set_predicted_cell_types.remove(i)\n",
        "\n",
        "cm = confusion_matrix(y_true_unseen, y_pred_unseen)\n",
        "cm = cm.astype(\"float\") / cm.sum(axis=1)[:, np.newaxis]\n",
        "cm = pd.DataFrame(cm, index=set_predicted_cell_types[:cm.shape[0]], columns=set_predicted_cell_types[:cm.shape[1]])\n",
        "plt.figure(figsize=(12, 12))\n",
        "sns.heatmap(cm, annot=True, fmt=\".1f\", cmap=\"Blues\")"
      ]
    },
    {
      "cell_type": "markdown",
      "metadata": {
        "id": "XdG0swPrC5sh"
      },
      "source": [
        "# Geneformer"
      ]
    },
    {
      "cell_type": "markdown",
      "metadata": {},
      "source": [
        "As we did with scGPT earlier, we will set up the environment to use a GPU if available, configure the scGPT model, and process the data to obtain the embeddings. For Geneformer, we will need to do a few adjustments: it requires gene names as ensembl IDs `adata.var[\"ensembl_id\"]`, and the number of counts `adata.var[\"n_counts\"]`. Then, we'll train the model and compare their performance."
      ]
    },
    {
      "cell_type": "code",
      "execution_count": 20,
      "metadata": {
        "colab": {
          "base_uri": "https://localhost:8080/",
          "height": 285,
          "referenced_widgets": [
            "9be7ad77cfbb4aebbf850bce0d703286",
            "96cf6bd80b23485a91309f97fceae386",
            "6793d6aa02fe4992b2a3079935804e68",
            "8b87146682714f9394465afb70fb6296",
            "8602ffeb4a5548f3b88e0011ff526b60",
            "dd28b99c3789438ba123044f9d8bd481",
            "11d0b1de79104633bd46099d3fc9f845",
            "b0387ec16b2346d6a690f8bd8ef7aae9",
            "0fcbdfa61d8c47499ea91c045e6bdb88",
            "475e8bc25e844eb7bda64024f6fd328b",
            "06b297ce68a54494925355922e6a3e60",
            "129fbaa5b93146839d3e095e066689b2",
            "75250bb34c7a4816bb50bab813367823",
            "18e7db16f29b4c5fb37b12b7ecabd994",
            "811ae6f2713942459f44a8ad0b78f1c8",
            "8333081f6e6844fb9872d9d14b9798f4",
            "1a9866fd593a4773a9336548d9fb4e7c",
            "6105972c9a224bb2b83c39d498d82694",
            "ac8fd8833f8b434c98ebf9de7fd7c956",
            "746baf43caea4ee2831817691b968573",
            "94072eee12234d52906f701dbaec4ea7",
            "0ba9a6eb6f0c4d63ae804a09f5d3b7a5"
          ]
        },
        "id": "5P_7jNYDqbYp",
        "outputId": "2fcd4258-77bb-47f1-94fd-6e9742f02e04"
      },
      "outputs": [
        {
          "name": "stderr",
          "output_type": "stream",
          "text": [
            "2024-07-11, 12:34:53.132 helical.services.downloader INFO File: '/Users/marianaquirogalondono/.cache/helical/models/geneformer/gene_median_dictionary.pkl' exists already. File is not overwritten and nothing is downloaded.\n",
            "2024-07-11, 12:34:53.132 helical.services.downloader INFO File saved to: '/Users/marianaquirogalondono/.cache/helical/models/geneformer/gene_median_dictionary.pkl'\n",
            "2024-07-11, 12:34:53.133 helical.services.downloader INFO File: '/Users/marianaquirogalondono/.cache/helical/models/geneformer/human_gene_to_ensemble_id.pkl' exists already. File is not overwritten and nothing is downloaded.\n",
            "2024-07-11, 12:34:53.133 helical.services.downloader INFO File saved to: '/Users/marianaquirogalondono/.cache/helical/models/geneformer/human_gene_to_ensemble_id.pkl'\n",
            "2024-07-11, 12:34:53.134 helical.services.downloader INFO File: '/Users/marianaquirogalondono/.cache/helical/models/geneformer/token_dictionary.pkl' exists already. File is not overwritten and nothing is downloaded.\n",
            "2024-07-11, 12:34:53.134 helical.services.downloader INFO File saved to: '/Users/marianaquirogalondono/.cache/helical/models/geneformer/token_dictionary.pkl'\n",
            "2024-07-11, 12:34:53.135 helical.services.downloader INFO File: '/Users/marianaquirogalondono/.cache/helical/models/geneformer/geneformer-12L-30M/config.json' exists already. File is not overwritten and nothing is downloaded.\n",
            "2024-07-11, 12:34:53.135 helical.services.downloader INFO File saved to: '/Users/marianaquirogalondono/.cache/helical/models/geneformer/geneformer-12L-30M/config.json'\n",
            "2024-07-11, 12:34:53.136 helical.services.downloader INFO File: '/Users/marianaquirogalondono/.cache/helical/models/geneformer/geneformer-12L-30M/pytorch_model.bin' exists already. File is not overwritten and nothing is downloaded.\n",
            "2024-07-11, 12:34:53.137 helical.services.downloader INFO File saved to: '/Users/marianaquirogalondono/.cache/helical/models/geneformer/geneformer-12L-30M/pytorch_model.bin'\n",
            "2024-07-11, 12:34:53.138 helical.services.downloader INFO File: '/Users/marianaquirogalondono/.cache/helical/models/geneformer/geneformer-12L-30M/training_args.bin' exists already. File is not overwritten and nothing is downloaded.\n",
            "2024-07-11, 12:34:53.138 helical.services.downloader INFO File saved to: '/Users/marianaquirogalondono/.cache/helical/models/geneformer/geneformer-12L-30M/training_args.bin'\n",
            "2024-07-11, 12:34:53.549 helical.models.geneformer.model INFO Model finished initializing.\n",
            "/Users/marianaquirogalondono/miniconda3/envs/helical-package/lib/python3.11/site-packages/helical/models/geneformer/geneformer_tokenizer.py:366: DeprecationWarning: Calling nonzero on 0d arrays is deprecated, as it behaves surprisingly. Use `atleast_1d(cond).nonzero()` if the old behavior was intended. If the context of this warning is of the form `arr[nonzero(cond)]`, just use `arr[cond]`.\n",
            "  filter_pass_loc = np.where(adata.obs.get(\"filter_pass\", 0) == 1)[0]\n",
            "2024-07-11, 12:34:53.574 helical.models.geneformer.geneformer_tokenizer INFO Anndata has no column attribute 'filter_pass'. Passing all cells for tokenization.\n",
            "2024-07-11, 12:34:54.234 helical.models.geneformer.geneformer_tokenizer INFO Creating dataset.\n",
            "Map: 100%|██████████| 7844/7844 [00:00<00:00, 11597.34 examples/s]\n",
            "2024-07-11, 12:34:54.987 helical.models.geneformer.model INFO Inference started:\n",
            "100%|██████████| 157/157 [1:07:18<00:00, 25.72s/it] \n"
          ]
        },
        {
          "data": {
            "text/plain": [
              "(7844, 512)"
            ]
          },
          "execution_count": 20,
          "metadata": {},
          "output_type": "execute_result"
        }
      ],
      "source": [
        "device = \"cuda\" if torch.cuda.is_available() else \"cpu\"\n",
        "adata.obs['n_counts'] = adata.X.sum(axis=1)\n",
        "adata.obs['cell_type'] = adata.obs['celltype']\n",
        "adata.var[\"ensembl_id\"] = adata.var[\"index_column\"]\n",
        "\n",
        "geneformer_config = GeneformerConfig(batch_size=50, device=device)\n",
        "geneformer = Geneformer(configurer = geneformer_config)\n",
        "\n",
        "data_geneformer = geneformer.process_data(adata, gene_names = \"ensembl_id\")\n",
        "x_geneformer = geneformer.get_embeddings(data_geneformer)\n",
        "x_geneformer.shape"
      ]
    },
    {
      "cell_type": "markdown",
      "metadata": {},
      "source": [
        "##### Training the model"
      ]
    },
    {
      "cell_type": "code",
      "execution_count": 21,
      "metadata": {
        "colab": {
          "base_uri": "https://localhost:8080/"
        },
        "id": "ITj-Gd-TDIcu",
        "outputId": "4946c091-3340-4332-e208-2ab2fc46f15e"
      },
      "outputs": [
        {
          "name": "stdout",
          "output_type": "stream",
          "text": [
            "Epoch 1/50\n",
            "111/111 [==============================] - 0s 2ms/step - loss: 2.9113 - f1_score: 0.0384 - val_loss: 2.0850 - val_f1_score: 0.0238\n",
            "Epoch 2/50\n",
            "111/111 [==============================] - 0s 1ms/step - loss: 2.1368 - f1_score: 0.0540 - val_loss: 1.9143 - val_f1_score: 0.1056\n",
            "Epoch 3/50\n",
            "111/111 [==============================] - 0s 1ms/step - loss: 1.9784 - f1_score: 0.1068 - val_loss: 1.7465 - val_f1_score: 0.1802\n",
            "Epoch 4/50\n",
            "111/111 [==============================] - 0s 1ms/step - loss: 1.8579 - f1_score: 0.1463 - val_loss: 1.6473 - val_f1_score: 0.1536\n",
            "Epoch 5/50\n",
            "111/111 [==============================] - 0s 1ms/step - loss: 1.7795 - f1_score: 0.1471 - val_loss: 1.6104 - val_f1_score: 0.1725\n",
            "Epoch 6/50\n",
            "111/111 [==============================] - 0s 1ms/step - loss: 1.7342 - f1_score: 0.1624 - val_loss: 1.5491 - val_f1_score: 0.1936\n",
            "Epoch 7/50\n",
            "111/111 [==============================] - 0s 1ms/step - loss: 1.6964 - f1_score: 0.1728 - val_loss: 1.5166 - val_f1_score: 0.1984\n",
            "Epoch 8/50\n",
            "111/111 [==============================] - 0s 1ms/step - loss: 1.6473 - f1_score: 0.1959 - val_loss: 1.4898 - val_f1_score: 0.2087\n",
            "Epoch 9/50\n",
            "111/111 [==============================] - 0s 1ms/step - loss: 1.6307 - f1_score: 0.1982 - val_loss: 1.4647 - val_f1_score: 0.2071\n",
            "Epoch 10/50\n",
            "111/111 [==============================] - 0s 1ms/step - loss: 1.6021 - f1_score: 0.2145 - val_loss: 1.4415 - val_f1_score: 0.2553\n",
            "Epoch 11/50\n",
            "111/111 [==============================] - 0s 1ms/step - loss: 1.5733 - f1_score: 0.2132 - val_loss: 1.4424 - val_f1_score: 0.2609\n",
            "Epoch 12/50\n",
            "111/111 [==============================] - 0s 1ms/step - loss: 1.5484 - f1_score: 0.2308 - val_loss: 1.4132 - val_f1_score: 0.2754\n",
            "Epoch 13/50\n",
            "111/111 [==============================] - 0s 1ms/step - loss: 1.5503 - f1_score: 0.2238 - val_loss: 1.4020 - val_f1_score: 0.2699\n",
            "Epoch 14/50\n",
            "111/111 [==============================] - 0s 1ms/step - loss: 1.5338 - f1_score: 0.2416 - val_loss: 1.3987 - val_f1_score: 0.3076\n",
            "Epoch 15/50\n",
            "111/111 [==============================] - 0s 1ms/step - loss: 1.5201 - f1_score: 0.2356 - val_loss: 1.3867 - val_f1_score: 0.3013\n",
            "Epoch 16/50\n",
            "111/111 [==============================] - 0s 1ms/step - loss: 1.4978 - f1_score: 0.2523 - val_loss: 1.3804 - val_f1_score: 0.3115\n",
            "Epoch 17/50\n",
            "111/111 [==============================] - 0s 1ms/step - loss: 1.5058 - f1_score: 0.2579 - val_loss: 1.3782 - val_f1_score: 0.3100\n",
            "Epoch 18/50\n",
            "111/111 [==============================] - 0s 1ms/step - loss: 1.4872 - f1_score: 0.2561 - val_loss: 1.3858 - val_f1_score: 0.3093\n",
            "Epoch 19/50\n",
            "111/111 [==============================] - 0s 1ms/step - loss: 1.4832 - f1_score: 0.2708 - val_loss: 1.3662 - val_f1_score: 0.3175\n",
            "Epoch 20/50\n",
            "111/111 [==============================] - 0s 1ms/step - loss: 1.4693 - f1_score: 0.2596 - val_loss: 1.3579 - val_f1_score: 0.3130\n",
            "Epoch 21/50\n",
            "111/111 [==============================] - 0s 1ms/step - loss: 1.4597 - f1_score: 0.2727 - val_loss: 1.3702 - val_f1_score: 0.3145\n",
            "Epoch 22/50\n",
            "111/111 [==============================] - 0s 1ms/step - loss: 1.4490 - f1_score: 0.2687 - val_loss: 1.3462 - val_f1_score: 0.3251\n",
            "Epoch 23/50\n",
            "111/111 [==============================] - 0s 1ms/step - loss: 1.4535 - f1_score: 0.2773 - val_loss: 1.3499 - val_f1_score: 0.3245\n",
            "Epoch 24/50\n",
            "111/111 [==============================] - 0s 1ms/step - loss: 1.4350 - f1_score: 0.2977 - val_loss: 1.3447 - val_f1_score: 0.3562\n",
            "Epoch 25/50\n",
            "111/111 [==============================] - 0s 1ms/step - loss: 1.4361 - f1_score: 0.2825 - val_loss: 1.3400 - val_f1_score: 0.3487\n",
            "Epoch 26/50\n",
            "111/111 [==============================] - 0s 1ms/step - loss: 1.4232 - f1_score: 0.2877 - val_loss: 1.3328 - val_f1_score: 0.3437\n",
            "Epoch 27/50\n",
            "111/111 [==============================] - 0s 1ms/step - loss: 1.4349 - f1_score: 0.2868 - val_loss: 1.3386 - val_f1_score: 0.3520\n",
            "Epoch 28/50\n",
            "111/111 [==============================] - 0s 1ms/step - loss: 1.4102 - f1_score: 0.2988 - val_loss: 1.3231 - val_f1_score: 0.3592\n",
            "Epoch 29/50\n",
            "111/111 [==============================] - 0s 1ms/step - loss: 1.3986 - f1_score: 0.3071 - val_loss: 1.3260 - val_f1_score: 0.3516\n",
            "Epoch 30/50\n",
            "111/111 [==============================] - 0s 1ms/step - loss: 1.4065 - f1_score: 0.2952 - val_loss: 1.3308 - val_f1_score: 0.3585\n",
            "Epoch 31/50\n",
            "111/111 [==============================] - 0s 1ms/step - loss: 1.3911 - f1_score: 0.3036 - val_loss: 1.3351 - val_f1_score: 0.3517\n",
            "Epoch 32/50\n",
            "111/111 [==============================] - 0s 1ms/step - loss: 1.3818 - f1_score: 0.3045 - val_loss: 1.3198 - val_f1_score: 0.3482\n",
            "Epoch 33/50\n",
            "111/111 [==============================] - 0s 1ms/step - loss: 1.3886 - f1_score: 0.3131 - val_loss: 1.3375 - val_f1_score: 0.3539\n",
            "Epoch 34/50\n",
            "111/111 [==============================] - 0s 1ms/step - loss: 1.3806 - f1_score: 0.3146 - val_loss: 1.3219 - val_f1_score: 0.3462\n",
            "Epoch 35/50\n",
            "111/111 [==============================] - 0s 1ms/step - loss: 1.3683 - f1_score: 0.3249 - val_loss: 1.3183 - val_f1_score: 0.3445\n",
            "Epoch 36/50\n",
            "111/111 [==============================] - 0s 1ms/step - loss: 1.3622 - f1_score: 0.3184 - val_loss: 1.3135 - val_f1_score: 0.3818\n",
            "Epoch 37/50\n",
            "111/111 [==============================] - 0s 1ms/step - loss: 1.3631 - f1_score: 0.3229 - val_loss: 1.3068 - val_f1_score: 0.3914\n",
            "Epoch 38/50\n",
            "111/111 [==============================] - 0s 1ms/step - loss: 1.3537 - f1_score: 0.3324 - val_loss: 1.3136 - val_f1_score: 0.3922\n",
            "Epoch 39/50\n",
            "111/111 [==============================] - 0s 1ms/step - loss: 1.3609 - f1_score: 0.3229 - val_loss: 1.3145 - val_f1_score: 0.3858\n",
            "Epoch 40/50\n",
            "111/111 [==============================] - 0s 1ms/step - loss: 1.3508 - f1_score: 0.3142 - val_loss: 1.3187 - val_f1_score: 0.3904\n",
            "Epoch 41/50\n",
            "111/111 [==============================] - 0s 2ms/step - loss: 1.3477 - f1_score: 0.3493 - val_loss: 1.3050 - val_f1_score: 0.3815\n",
            "Epoch 42/50\n",
            "111/111 [==============================] - 0s 2ms/step - loss: 1.3431 - f1_score: 0.3401 - val_loss: 1.3056 - val_f1_score: 0.3993\n",
            "Epoch 43/50\n",
            "111/111 [==============================] - 0s 2ms/step - loss: 1.3357 - f1_score: 0.3570 - val_loss: 1.3134 - val_f1_score: 0.3902\n",
            "Epoch 44/50\n",
            "111/111 [==============================] - 0s 2ms/step - loss: 1.3280 - f1_score: 0.3441 - val_loss: 1.3038 - val_f1_score: 0.3845\n",
            "Epoch 45/50\n",
            "111/111 [==============================] - 0s 2ms/step - loss: 1.3171 - f1_score: 0.3410 - val_loss: 1.3046 - val_f1_score: 0.3904\n",
            "Epoch 46/50\n",
            "111/111 [==============================] - 0s 2ms/step - loss: 1.3155 - f1_score: 0.3657 - val_loss: 1.3050 - val_f1_score: 0.3799\n",
            "Epoch 47/50\n",
            "111/111 [==============================] - 0s 2ms/step - loss: 1.3049 - f1_score: 0.3609 - val_loss: 1.3048 - val_f1_score: 0.3947\n",
            "Epoch 48/50\n",
            "111/111 [==============================] - 0s 2ms/step - loss: 1.3103 - f1_score: 0.3495 - val_loss: 1.2967 - val_f1_score: 0.4018\n",
            "Epoch 49/50\n",
            "111/111 [==============================] - 0s 2ms/step - loss: 1.3101 - f1_score: 0.3589 - val_loss: 1.3014 - val_f1_score: 0.3971\n",
            "Epoch 50/50\n",
            "111/111 [==============================] - 0s 2ms/step - loss: 1.3121 - f1_score: 0.3400 - val_loss: 1.2856 - val_f1_score: 0.4003\n"
          ]
        }
      ],
      "source": [
        "head_model_geneformer = head_model\n",
        "X_train, X_test, y_train, y_test = train_test_split(x_geneformer, y_encoded, test_size=0.1, random_state=42)\n",
        "\n",
        "# Setup callbacks\n",
        "log_dir = \"logs/fit/\" + datetime.datetime.now().strftime(\"%Y%m%d-%H%M%S\")\n",
        "tensorboard_callback = TensorBoard(log_dir=log_dir, histogram_freq=1)\n",
        "\n",
        "history = head_model_geneformer.fit(X_train, y_train, epochs=50, batch_size=64, validation_data=(X_test, y_test), callbacks=[tensorboard_callback])"
      ]
    },
    {
      "cell_type": "code",
      "execution_count": 22,
      "metadata": {
        "colab": {
          "base_uri": "https://localhost:8080/",
          "height": 276
        },
        "id": "jL-tQg35L_cT",
        "outputId": "bd9c6f55-3a87-4ef7-e693-3c1cb47dd0d5"
      },
      "outputs": [],
      "source": [
        "# %tensorboard --logdir logs/fit # uncomment to use tensorboard"
      ]
    },
    {
      "cell_type": "markdown",
      "metadata": {},
      "source": [
        "##### Loading the unseen evaluation set"
      ]
    },
    {
      "cell_type": "code",
      "execution_count": 23,
      "metadata": {
        "colab": {
          "base_uri": "https://localhost:8080/",
          "height": 156,
          "referenced_widgets": [
            "042588def40e42848c464da311dfa395",
            "9f06f76e74ba4d4493a2b3810fa78501",
            "afde76acb7cd4642967e74fc01cc5e60",
            "bed90884638d44a1a0e8f2002485a49c",
            "577aff58497a41afb68c49c4e4a3483c",
            "e6639753498c44abbb25f2dd39f224a6",
            "0ae5dd4c69154c36ac6409002dbfdbe3",
            "98077a70b5aa4738b2f9ce21fc8a76f8",
            "6c0eae3868aa4ea98c7c1106aba4cb84",
            "08d07e9439494aa895b90bda386cd2d9",
            "c284a26712fc46a49f40081765203b11",
            "9e58f857ee8a43ac94614686ba82cf82",
            "21078359f8b64f1f9e5b70fbb559ac5e",
            "0536305995ae41b989c00348dec37a50",
            "da40c55164824b2e81fef416cea0bdf3",
            "45e0ffdc378040c8b8fb62172c321be5",
            "031f15e503284b6e989e599834bc0cfc",
            "d6a09da0033a4fff88ce7ad041ea5151",
            "44164c48e4774fd28c8e7514e26dfec3",
            "7fba8d16f48b451ba2695e7d8d0c605b",
            "8f571f239ad54eb19d35da67e47ddea9",
            "fb07aa128c734c1396a8d2e8e46dfd7e"
          ]
        },
        "id": "ycWcn3Ra1YbG",
        "outputId": "8e38e24d-261d-4d77-b704-a8d3c6df9b73"
      },
      "outputs": [
        {
          "name": "stderr",
          "output_type": "stream",
          "text": [
            "/Users/marianaquirogalondono/miniconda3/envs/helical-package/lib/python3.11/site-packages/helical/models/geneformer/geneformer_tokenizer.py:366: DeprecationWarning: Calling nonzero on 0d arrays is deprecated, as it behaves surprisingly. Use `atleast_1d(cond).nonzero()` if the old behavior was intended. If the context of this warning is of the form `arr[nonzero(cond)]`, just use `arr[cond]`.\n",
            "  filter_pass_loc = np.where(adata.obs.get(\"filter_pass\", 0) == 1)[0]\n",
            "2024-07-11, 13:42:22.463 helical.models.geneformer.geneformer_tokenizer INFO Anndata has no column attribute 'filter_pass'. Passing all cells for tokenization.\n",
            "2024-07-11, 13:42:23.147 helical.models.geneformer.geneformer_tokenizer INFO Creating dataset.\n",
            "Map: 100%|██████████| 7844/7844 [00:00<00:00, 10906.64 examples/s]\n",
            "2024-07-11, 13:42:23.957 helical.models.geneformer.model INFO Inference started:\n",
            "100%|██████████| 157/157 [43:33<00:00, 16.64s/it]"
          ]
        },
        {
          "name": "stdout",
          "output_type": "stream",
          "text": [
            "246/246 [==============================] - 0s 279us/step\n"
          ]
        },
        {
          "name": "stderr",
          "output_type": "stream",
          "text": [
            "\n"
          ]
        }
      ],
      "source": [
        "adata_unseen = sc.read(\"ms_default.h5ad\")\n",
        "adata_unseen.var[\"ensembl_id\"] = adata_unseen.var[\"index_column\"]\n",
        "adata_unseen.obs['n_counts'] = adata_unseen.X.sum(axis=1)\n",
        "adata_unseen.obs['cell_type'] = adata_unseen.obs['celltype']\n",
        "data_unseen_geneformer = geneformer.process_data(adata_unseen, gene_names = \"ensembl_id\")\n",
        "x_unseen_geneformer = geneformer.get_embeddings(data_unseen_geneformer)\n",
        "predictions_nn_unseen_geneformer = head_model_geneformer.predict(x_unseen_geneformer)"
      ]
    },
    {
      "cell_type": "code",
      "execution_count": 24,
      "metadata": {
        "colab": {
          "base_uri": "https://localhost:8080/"
        },
        "id": "eR8jNVcrEMRR",
        "outputId": "5d4ff27a-3bbb-409d-db36-61f787dc1b0e"
      },
      "outputs": [
        {
          "name": "stdout",
          "output_type": "stream",
          "text": [
            "Evaluation set accuracy: 58.5%\n",
            "Evaluation set precision: 46.7%\n",
            "Evaluation set f1: 45.5%\n",
            "Evaluation set recall: 47.2%\n"
          ]
        },
        {
          "name": "stderr",
          "output_type": "stream",
          "text": [
            "/Users/marianaquirogalondono/miniconda3/envs/helical-package/lib/python3.11/site-packages/sklearn/metrics/_classification.py:1344: UndefinedMetricWarning: Precision is ill-defined and being set to 0.0 in labels with no predicted samples. Use `zero_division` parameter to control this behavior.\n",
            "  _warn_prf(average, modifier, msg_start, len(result))\n"
          ]
        }
      ],
      "source": [
        "y_true_unseen = np.array(adata_unseen.obs[\"celltype\"].tolist())\n",
        "y_pred_unseen = [id2type[prediction] for prediction in np.argmax(predictions_nn_unseen_geneformer, axis=1)]\n",
        "\n",
        "geneformer_results = get_evaluations(\"Evaluation set\", y_true_unseen, y_pred_unseen)"
      ]
    },
    {
      "cell_type": "markdown",
      "metadata": {},
      "source": [
        "# Compare scGPT and Geneformer Performance"
      ]
    },
    {
      "cell_type": "code",
      "execution_count": 25,
      "metadata": {
        "colab": {
          "base_uri": "https://localhost:8080/",
          "height": 990
        },
        "id": "sK4UqSqQFSaS",
        "outputId": "b1d94806-ed84-4061-d50b-d6b567df66f4"
      },
      "outputs": [
        {
          "data": {
            "image/png": "[encoded data removed]",
            "text/plain": [
              "<Figure size 1000x1000 with 4 Axes>"
            ]
          },
          "metadata": {},
          "output_type": "display_data"
        }
      ],
      "source": [
        "import matplotlib.pyplot as plt\n",
        "\n",
        "fig, axs = plt.subplots(2, 2, figsize=(10, 10))\n",
        "\n",
        "values_1 = [scgpt_results[\"accuracy\"], geneformer_results[\"accuracy\"]]\n",
        "x = [\"scGPT\", \"Geneformer\"]\n",
        "axs[0, 0].bar(x, values_1, width=0.4)\n",
        "axs[0, 0].set_title(\"Accuracy\")\n",
        "axs[0, 0].set_ylim([0, 1])\n",
        "\n",
        "values_2 = [scgpt_results[\"precision\"], geneformer_results[\"precision\"]]\n",
        "axs[0, 1].bar(x, values_2, width=0.4)\n",
        "axs[0, 1].set_title(\"Precision\")\n",
        "axs[0, 1].set_ylim([0, 1])\n",
        "\n",
        "values_3 = [scgpt_results[\"f1\"], geneformer_results[\"f1\"]]\n",
        "axs[1, 0].bar(x, values_3, width=0.4)\n",
        "axs[1, 0].set_title(\"F1\")\n",
        "axs[1, 0].set_ylim([0, 1])\n",
        "\n",
        "values_4 = [scgpt_results[\"recall\"], geneformer_results[\"recall\"]]\n",
        "axs[1, 1].bar(x, values_4, width=0.4)\n",
        "axs[1, 1].set_title(\"Recall\")\n",
        "axs[1, 1].set_ylim([0, 1])\n",
        "\n",
        "fig.suptitle(\"scGPT vs. Geneformer \\n Probing Comparison\")\n",
        "fig.tight_layout()\n",
        "plt.show()\n"
      ]
    },
    {
      "cell_type": "markdown",
      "metadata": {
        "id": "W4yqDgBPMNhX"
      },
      "source": [
        "We can see that the Geneformer clearly underperforms in all metrics. scGPT has similar results to what is reported in the [paper](https://www.biorxiv.org/content/10.1101/2023.10.24.563625v1.full.pdf). Keeping in mind, of course, that in that paper, the entire models were fine-tuned.\n",
        "\n",
        "## scGPT\n",
        "- Accuracy: 86.4%\n",
        "- Precision: 81.1%\n",
        "- Recall: 76.4%\n",
        "- Macro F1: 75.3%\n",
        "\n",
        "## Geneformer\n",
        "- Accuracy: 73.1%\n",
        "- Precision: 55.0%\n",
        "- Recall: 58.7%\n",
        "- Macro F1: 56.0%\n"
      ]
    }
  ],
  "metadata": {
    "accelerator": "GPU",
    "colab": {
      "gpuType": "T4",
      "provenance": []
    },
    "kernelspec": {
      "display_name": "Python 3",
      "name": "python3"
    },
    "language_info": {
      "codemirror_mode": {
        "name": "ipython",
        "version": 3
      },
      "file_extension": ".py",
      "mimetype": "text/x-python",
      "name": "python",
      "nbconvert_exporter": "python",
      "pygments_lexer": "ipython3",
      "version": "3.11.8"
    },
    "widgets": {
      "application/vnd.jupyter.widget-state+json": {
        "031f15e503284b6e989e599834bc0cfc": {
          "model_module": "@jupyter-widgets/base",
          "model_module_version": "1.2.0",
          "model_name": "LayoutModel",
          "state": {
            "_model_module": "@jupyter-widgets/base",
            "_model_module_version": "1.2.0",
            "_model_name": "LayoutModel",
            "_view_count": null,
            "_view_module": "@jupyter-widgets/base",
            "_view_module_version": "1.2.0",
            "_view_name": "LayoutView",
            "align_content": null,
            "align_items": null,
            "align_self": null,
            "border": null,
            "bottom": null,
            "display": null,
            "flex": null,
            "flex_flow": null,
            "grid_area": null,
            "grid_auto_columns": null,
            "grid_auto_flow": null,
            "grid_auto_rows": null,
            "grid_column": null,
            "grid_gap": null,
            "grid_row": null,
            "grid_template_areas": null,
            "grid_template_columns": null,
            "grid_template_rows": null,
            "height": null,
            "justify_content": null,
            "justify_items": null,
            "left": null,
            "margin": null,
            "max_height": null,
            "max_width": null,
            "min_height": null,
            "min_width": null,
            "object_fit": null,
            "object_position": null,
            "order": null,
            "overflow": null,
            "overflow_x": null,
            "overflow_y": null,
            "padding": null,
            "right": null,
            "top": null,
            "visibility": null,
            "width": null
          }
        },
        "042588def40e42848c464da311dfa395": {
          "model_module": "@jupyter-widgets/controls",
          "model_module_version": "1.5.0",
          "model_name": "HBoxModel",
          "state": {
            "_dom_classes": [],
            "_model_module": "@jupyter-widgets/controls",
            "_model_module_version": "1.5.0",
            "_model_name": "HBoxModel",
            "_view_count": null,
            "_view_module": "@jupyter-widgets/controls",
            "_view_module_version": "1.5.0",
            "_view_name": "HBoxView",
            "box_style": "",
            "children": [
              "IPY_MODEL_9f06f76e74ba4d4493a2b3810fa78501",
              "IPY_MODEL_afde76acb7cd4642967e74fc01cc5e60",
              "IPY_MODEL_bed90884638d44a1a0e8f2002485a49c"
            ],
            "layout": "IPY_MODEL_577aff58497a41afb68c49c4e4a3483c"
          }
        },
        "0536305995ae41b989c00348dec37a50": {
          "model_module": "@jupyter-widgets/controls",
          "model_module_version": "1.5.0",
          "model_name": "FloatProgressModel",
          "state": {
            "_dom_classes": [],
            "_model_module": "@jupyter-widgets/controls",
            "_model_module_version": "1.5.0",
            "_model_name": "FloatProgressModel",
            "_view_count": null,
            "_view_module": "@jupyter-widgets/controls",
            "_view_module_version": "1.5.0",
            "_view_name": "ProgressView",
            "bar_style": "success",
            "description": "",
            "description_tooltip": null,
            "layout": "IPY_MODEL_44164c48e4774fd28c8e7514e26dfec3",
            "max": 157,
            "min": 0,
            "orientation": "horizontal",
            "style": "IPY_MODEL_7fba8d16f48b451ba2695e7d8d0c605b",
            "value": 157
          }
        },
        "06b297ce68a54494925355922e6a3e60": {
          "model_module": "@jupyter-widgets/controls",
          "model_module_version": "1.5.0",
          "model_name": "DescriptionStyleModel",
          "state": {
            "_model_module": "@jupyter-widgets/controls",
            "_model_module_version": "1.5.0",
            "_model_name": "DescriptionStyleModel",
            "_view_count": null,
            "_view_module": "@jupyter-widgets/base",
            "_view_module_version": "1.2.0",
            "_view_name": "StyleView",
            "description_width": ""
          }
        },
        "08d07e9439494aa895b90bda386cd2d9": {
          "model_module": "@jupyter-widgets/base",
          "model_module_version": "1.2.0",
          "model_name": "LayoutModel",
          "state": {
            "_model_module": "@jupyter-widgets/base",
            "_model_module_version": "1.2.0",
            "_model_name": "LayoutModel",
            "_view_count": null,
            "_view_module": "@jupyter-widgets/base",
            "_view_module_version": "1.2.0",
            "_view_name": "LayoutView",
            "align_content": null,
            "align_items": null,
            "align_self": null,
            "border": null,
            "bottom": null,
            "display": null,
            "flex": null,
            "flex_flow": null,
            "grid_area": null,
            "grid_auto_columns": null,
            "grid_auto_flow": null,
            "grid_auto_rows": null,
            "grid_column": null,
            "grid_gap": null,
            "grid_row": null,
            "grid_template_areas": null,
            "grid_template_columns": null,
            "grid_template_rows": null,
            "height": null,
            "justify_content": null,
            "justify_items": null,
            "left": null,
            "margin": null,
            "max_height": null,
            "max_width": null,
            "min_height": null,
            "min_width": null,
            "object_fit": null,
            "object_position": null,
            "order": null,
            "overflow": null,
            "overflow_x": null,
            "overflow_y": null,
            "padding": null,
            "right": null,
            "top": null,
            "visibility": null,
            "width": null
          }
        },
        "0ae5dd4c69154c36ac6409002dbfdbe3": {
          "model_module": "@jupyter-widgets/controls",
          "model_module_version": "1.5.0",
          "model_name": "DescriptionStyleModel",
          "state": {
            "_model_module": "@jupyter-widgets/controls",
            "_model_module_version": "1.5.0",
            "_model_name": "DescriptionStyleModel",
            "_view_count": null,
            "_view_module": "@jupyter-widgets/base",
            "_view_module_version": "1.2.0",
            "_view_name": "StyleView",
            "description_width": ""
          }
        },
        "0ba9a6eb6f0c4d63ae804a09f5d3b7a5": {
          "model_module": "@jupyter-widgets/controls",
          "model_module_version": "1.5.0",
          "model_name": "DescriptionStyleModel",
          "state": {
            "_model_module": "@jupyter-widgets/controls",
            "_model_module_version": "1.5.0",
            "_model_name": "DescriptionStyleModel",
            "_view_count": null,
            "_view_module": "@jupyter-widgets/base",
            "_view_module_version": "1.2.0",
            "_view_name": "StyleView",
            "description_width": ""
          }
        },
        "0fcbdfa61d8c47499ea91c045e6bdb88": {
          "model_module": "@jupyter-widgets/controls",
          "model_module_version": "1.5.0",
          "model_name": "ProgressStyleModel",
          "state": {
            "_model_module": "@jupyter-widgets/controls",
            "_model_module_version": "1.5.0",
            "_model_name": "ProgressStyleModel",
            "_view_count": null,
            "_view_module": "@jupyter-widgets/base",
            "_view_module_version": "1.2.0",
            "_view_name": "StyleView",
            "bar_color": null,
            "description_width": ""
          }
        },
        "11d0b1de79104633bd46099d3fc9f845": {
          "model_module": "@jupyter-widgets/controls",
          "model_module_version": "1.5.0",
          "model_name": "DescriptionStyleModel",
          "state": {
            "_model_module": "@jupyter-widgets/controls",
            "_model_module_version": "1.5.0",
            "_model_name": "DescriptionStyleModel",
            "_view_count": null,
            "_view_module": "@jupyter-widgets/base",
            "_view_module_version": "1.2.0",
            "_view_name": "StyleView",
            "description_width": ""
          }
        },
        "129fbaa5b93146839d3e095e066689b2": {
          "model_module": "@jupyter-widgets/controls",
          "model_module_version": "1.5.0",
          "model_name": "HBoxModel",
          "state": {
            "_dom_classes": [],
            "_model_module": "@jupyter-widgets/controls",
            "_model_module_version": "1.5.0",
            "_model_name": "HBoxModel",
            "_view_count": null,
            "_view_module": "@jupyter-widgets/controls",
            "_view_module_version": "1.5.0",
            "_view_name": "HBoxView",
            "box_style": "",
            "children": [
              "IPY_MODEL_75250bb34c7a4816bb50bab813367823",
              "IPY_MODEL_18e7db16f29b4c5fb37b12b7ecabd994",
              "IPY_MODEL_811ae6f2713942459f44a8ad0b78f1c8"
            ],
            "layout": "IPY_MODEL_8333081f6e6844fb9872d9d14b9798f4"
          }
        },
        "18e7db16f29b4c5fb37b12b7ecabd994": {
          "model_module": "@jupyter-widgets/controls",
          "model_module_version": "1.5.0",
          "model_name": "FloatProgressModel",
          "state": {
            "_dom_classes": [],
            "_model_module": "@jupyter-widgets/controls",
            "_model_module_version": "1.5.0",
            "_model_name": "FloatProgressModel",
            "_view_count": null,
            "_view_module": "@jupyter-widgets/controls",
            "_view_module_version": "1.5.0",
            "_view_name": "ProgressView",
            "bar_style": "success",
            "description": "",
            "description_tooltip": null,
            "layout": "IPY_MODEL_ac8fd8833f8b434c98ebf9de7fd7c956",
            "max": 157,
            "min": 0,
            "orientation": "horizontal",
            "style": "IPY_MODEL_746baf43caea4ee2831817691b968573",
            "value": 157
          }
        },
        "1a9866fd593a4773a9336548d9fb4e7c": {
          "model_module": "@jupyter-widgets/base",
          "model_module_version": "1.2.0",
          "model_name": "LayoutModel",
          "state": {
            "_model_module": "@jupyter-widgets/base",
            "_model_module_version": "1.2.0",
            "_model_name": "LayoutModel",
            "_view_count": null,
            "_view_module": "@jupyter-widgets/base",
            "_view_module_version": "1.2.0",
            "_view_name": "LayoutView",
            "align_content": null,
            "align_items": null,
            "align_self": null,
            "border": null,
            "bottom": null,
            "display": null,
            "flex": null,
            "flex_flow": null,
            "grid_area": null,
            "grid_auto_columns": null,
            "grid_auto_flow": null,
            "grid_auto_rows": null,
            "grid_column": null,
            "grid_gap": null,
            "grid_row": null,
            "grid_template_areas": null,
            "grid_template_columns": null,
            "grid_template_rows": null,
            "height": null,
            "justify_content": null,
            "justify_items": null,
            "left": null,
            "margin": null,
            "max_height": null,
            "max_width": null,
            "min_height": null,
            "min_width": null,
            "object_fit": null,
            "object_position": null,
            "order": null,
            "overflow": null,
            "overflow_x": null,
            "overflow_y": null,
            "padding": null,
            "right": null,
            "top": null,
            "visibility": null,
            "width": null
          }
        },
        "21078359f8b64f1f9e5b70fbb559ac5e": {
          "model_module": "@jupyter-widgets/controls",
          "model_module_version": "1.5.0",
          "model_name": "HTMLModel",
          "state": {
            "_dom_classes": [],
            "_model_module": "@jupyter-widgets/controls",
            "_model_module_version": "1.5.0",
            "_model_name": "HTMLModel",
            "_view_count": null,
            "_view_module": "@jupyter-widgets/controls",
            "_view_module_version": "1.5.0",
            "_view_name": "HTMLView",
            "description": "",
            "description_tooltip": null,
            "layout": "IPY_MODEL_031f15e503284b6e989e599834bc0cfc",
            "placeholder": "​",
            "style": "IPY_MODEL_d6a09da0033a4fff88ce7ad041ea5151",
            "value": "100%"
          }
        },
        "44164c48e4774fd28c8e7514e26dfec3": {
          "model_module": "@jupyter-widgets/base",
          "model_module_version": "1.2.0",
          "model_name": "LayoutModel",
          "state": {
            "_model_module": "@jupyter-widgets/base",
            "_model_module_version": "1.2.0",
            "_model_name": "LayoutModel",
            "_view_count": null,
            "_view_module": "@jupyter-widgets/base",
            "_view_module_version": "1.2.0",
            "_view_name": "LayoutView",
            "align_content": null,
            "align_items": null,
            "align_self": null,
            "border": null,
            "bottom": null,
            "display": null,
            "flex": null,
            "flex_flow": null,
            "grid_area": null,
            "grid_auto_columns": null,
            "grid_auto_flow": null,
            "grid_auto_rows": null,
            "grid_column": null,
            "grid_gap": null,
            "grid_row": null,
            "grid_template_areas": null,
            "grid_template_columns": null,
            "grid_template_rows": null,
            "height": null,
            "justify_content": null,
            "justify_items": null,
            "left": null,
            "margin": null,
            "max_height": null,
            "max_width": null,
            "min_height": null,
            "min_width": null,
            "object_fit": null,
            "object_position": null,
            "order": null,
            "overflow": null,
            "overflow_x": null,
            "overflow_y": null,
            "padding": null,
            "right": null,
            "top": null,
            "visibility": null,
            "width": null
          }
        },
        "45e0ffdc378040c8b8fb62172c321be5": {
          "model_module": "@jupyter-widgets/base",
          "model_module_version": "1.2.0",
          "model_name": "LayoutModel",
          "state": {
            "_model_module": "@jupyter-widgets/base",
            "_model_module_version": "1.2.0",
            "_model_name": "LayoutModel",
            "_view_count": null,
            "_view_module": "@jupyter-widgets/base",
            "_view_module_version": "1.2.0",
            "_view_name": "LayoutView",
            "align_content": null,
            "align_items": null,
            "align_self": null,
            "border": null,
            "bottom": null,
            "display": null,
            "flex": null,
            "flex_flow": null,
            "grid_area": null,
            "grid_auto_columns": null,
            "grid_auto_flow": null,
            "grid_auto_rows": null,
            "grid_column": null,
            "grid_gap": null,
            "grid_row": null,
            "grid_template_areas": null,
            "grid_template_columns": null,
            "grid_template_rows": null,
            "height": null,
            "justify_content": null,
            "justify_items": null,
            "left": null,
            "margin": null,
            "max_height": null,
            "max_width": null,
            "min_height": null,
            "min_width": null,
            "object_fit": null,
            "object_position": null,
            "order": null,
            "overflow": null,
            "overflow_x": null,
            "overflow_y": null,
            "padding": null,
            "right": null,
            "top": null,
            "visibility": null,
            "width": null
          }
        },
        "475e8bc25e844eb7bda64024f6fd328b": {
          "model_module": "@jupyter-widgets/base",
          "model_module_version": "1.2.0",
          "model_name": "LayoutModel",
          "state": {
            "_model_module": "@jupyter-widgets/base",
            "_model_module_version": "1.2.0",
            "_model_name": "LayoutModel",
            "_view_count": null,
            "_view_module": "@jupyter-widgets/base",
            "_view_module_version": "1.2.0",
            "_view_name": "LayoutView",
            "align_content": null,
            "align_items": null,
            "align_self": null,
            "border": null,
            "bottom": null,
            "display": null,
            "flex": null,
            "flex_flow": null,
            "grid_area": null,
            "grid_auto_columns": null,
            "grid_auto_flow": null,
            "grid_auto_rows": null,
            "grid_column": null,
            "grid_gap": null,
            "grid_row": null,
            "grid_template_areas": null,
            "grid_template_columns": null,
            "grid_template_rows": null,
            "height": null,
            "justify_content": null,
            "justify_items": null,
            "left": null,
            "margin": null,
            "max_height": null,
            "max_width": null,
            "min_height": null,
            "min_width": null,
            "object_fit": null,
            "object_position": null,
            "order": null,
            "overflow": null,
            "overflow_x": null,
            "overflow_y": null,
            "padding": null,
            "right": null,
            "top": null,
            "visibility": null,
            "width": null
          }
        },
        "577aff58497a41afb68c49c4e4a3483c": {
          "model_module": "@jupyter-widgets/base",
          "model_module_version": "1.2.0",
          "model_name": "LayoutModel",
          "state": {
            "_model_module": "@jupyter-widgets/base",
            "_model_module_version": "1.2.0",
            "_model_name": "LayoutModel",
            "_view_count": null,
            "_view_module": "@jupyter-widgets/base",
            "_view_module_version": "1.2.0",
            "_view_name": "LayoutView",
            "align_content": null,
            "align_items": null,
            "align_self": null,
            "border": null,
            "bottom": null,
            "display": null,
            "flex": null,
            "flex_flow": null,
            "grid_area": null,
            "grid_auto_columns": null,
            "grid_auto_flow": null,
            "grid_auto_rows": null,
            "grid_column": null,
            "grid_gap": null,
            "grid_row": null,
            "grid_template_areas": null,
            "grid_template_columns": null,
            "grid_template_rows": null,
            "height": null,
            "justify_content": null,
            "justify_items": null,
            "left": null,
            "margin": null,
            "max_height": null,
            "max_width": null,
            "min_height": null,
            "min_width": null,
            "object_fit": null,
            "object_position": null,
            "order": null,
            "overflow": null,
            "overflow_x": null,
            "overflow_y": null,
            "padding": null,
            "right": null,
            "top": null,
            "visibility": null,
            "width": null
          }
        },
        "6105972c9a224bb2b83c39d498d82694": {
          "model_module": "@jupyter-widgets/controls",
          "model_module_version": "1.5.0",
          "model_name": "DescriptionStyleModel",
          "state": {
            "_model_module": "@jupyter-widgets/controls",
            "_model_module_version": "1.5.0",
            "_model_name": "DescriptionStyleModel",
            "_view_count": null,
            "_view_module": "@jupyter-widgets/base",
            "_view_module_version": "1.2.0",
            "_view_name": "StyleView",
            "description_width": ""
          }
        },
        "6793d6aa02fe4992b2a3079935804e68": {
          "model_module": "@jupyter-widgets/controls",
          "model_module_version": "1.5.0",
          "model_name": "FloatProgressModel",
          "state": {
            "_dom_classes": [],
            "_model_module": "@jupyter-widgets/controls",
            "_model_module_version": "1.5.0",
            "_model_name": "FloatProgressModel",
            "_view_count": null,
            "_view_module": "@jupyter-widgets/controls",
            "_view_module_version": "1.5.0",
            "_view_name": "ProgressView",
            "bar_style": "success",
            "description": "",
            "description_tooltip": null,
            "layout": "IPY_MODEL_b0387ec16b2346d6a690f8bd8ef7aae9",
            "max": 7844,
            "min": 0,
            "orientation": "horizontal",
            "style": "IPY_MODEL_0fcbdfa61d8c47499ea91c045e6bdb88",
            "value": 7844
          }
        },
        "6c0eae3868aa4ea98c7c1106aba4cb84": {
          "model_module": "@jupyter-widgets/controls",
          "model_module_version": "1.5.0",
          "model_name": "ProgressStyleModel",
          "state": {
            "_model_module": "@jupyter-widgets/controls",
            "_model_module_version": "1.5.0",
            "_model_name": "ProgressStyleModel",
            "_view_count": null,
            "_view_module": "@jupyter-widgets/base",
            "_view_module_version": "1.2.0",
            "_view_name": "StyleView",
            "bar_color": null,
            "description_width": ""
          }
        },
        "746baf43caea4ee2831817691b968573": {
          "model_module": "@jupyter-widgets/controls",
          "model_module_version": "1.5.0",
          "model_name": "ProgressStyleModel",
          "state": {
            "_model_module": "@jupyter-widgets/controls",
            "_model_module_version": "1.5.0",
            "_model_name": "ProgressStyleModel",
            "_view_count": null,
            "_view_module": "@jupyter-widgets/base",
            "_view_module_version": "1.2.0",
            "_view_name": "StyleView",
            "bar_color": null,
            "description_width": ""
          }
        },
        "75250bb34c7a4816bb50bab813367823": {
          "model_module": "@jupyter-widgets/controls",
          "model_module_version": "1.5.0",
          "model_name": "HTMLModel",
          "state": {
            "_dom_classes": [],
            "_model_module": "@jupyter-widgets/controls",
            "_model_module_version": "1.5.0",
            "_model_name": "HTMLModel",
            "_view_count": null,
            "_view_module": "@jupyter-widgets/controls",
            "_view_module_version": "1.5.0",
            "_view_name": "HTMLView",
            "description": "",
            "description_tooltip": null,
            "layout": "IPY_MODEL_1a9866fd593a4773a9336548d9fb4e7c",
            "placeholder": "​",
            "style": "IPY_MODEL_6105972c9a224bb2b83c39d498d82694",
            "value": "100%"
          }
        },
        "7fba8d16f48b451ba2695e7d8d0c605b": {
          "model_module": "@jupyter-widgets/controls",
          "model_module_version": "1.5.0",
          "model_name": "ProgressStyleModel",
          "state": {
            "_model_module": "@jupyter-widgets/controls",
            "_model_module_version": "1.5.0",
            "_model_name": "ProgressStyleModel",
            "_view_count": null,
            "_view_module": "@jupyter-widgets/base",
            "_view_module_version": "1.2.0",
            "_view_name": "StyleView",
            "bar_color": null,
            "description_width": ""
          }
        },
        "811ae6f2713942459f44a8ad0b78f1c8": {
          "model_module": "@jupyter-widgets/controls",
          "model_module_version": "1.5.0",
          "model_name": "HTMLModel",
          "state": {
            "_dom_classes": [],
            "_model_module": "@jupyter-widgets/controls",
            "_model_module_version": "1.5.0",
            "_model_name": "HTMLModel",
            "_view_count": null,
            "_view_module": "@jupyter-widgets/controls",
            "_view_module_version": "1.5.0",
            "_view_name": "HTMLView",
            "description": "",
            "description_tooltip": null,
            "layout": "IPY_MODEL_94072eee12234d52906f701dbaec4ea7",
            "placeholder": "​",
            "style": "IPY_MODEL_0ba9a6eb6f0c4d63ae804a09f5d3b7a5",
            "value": " 157/157 [03:35&lt;00:00,  1.17s/it]"
          }
        },
        "8333081f6e6844fb9872d9d14b9798f4": {
          "model_module": "@jupyter-widgets/base",
          "model_module_version": "1.2.0",
          "model_name": "LayoutModel",
          "state": {
            "_model_module": "@jupyter-widgets/base",
            "_model_module_version": "1.2.0",
            "_model_name": "LayoutModel",
            "_view_count": null,
            "_view_module": "@jupyter-widgets/base",
            "_view_module_version": "1.2.0",
            "_view_name": "LayoutView",
            "align_content": null,
            "align_items": null,
            "align_self": null,
            "border": null,
            "bottom": null,
            "display": null,
            "flex": null,
            "flex_flow": null,
            "grid_area": null,
            "grid_auto_columns": null,
            "grid_auto_flow": null,
            "grid_auto_rows": null,
            "grid_column": null,
            "grid_gap": null,
            "grid_row": null,
            "grid_template_areas": null,
            "grid_template_columns": null,
            "grid_template_rows": null,
            "height": null,
            "justify_content": null,
            "justify_items": null,
            "left": null,
            "margin": null,
            "max_height": null,
            "max_width": null,
            "min_height": null,
            "min_width": null,
            "object_fit": null,
            "object_position": null,
            "order": null,
            "overflow": null,
            "overflow_x": null,
            "overflow_y": null,
            "padding": null,
            "right": null,
            "top": null,
            "visibility": null,
            "width": null
          }
        },
        "8602ffeb4a5548f3b88e0011ff526b60": {
          "model_module": "@jupyter-widgets/base",
          "model_module_version": "1.2.0",
          "model_name": "LayoutModel",
          "state": {
            "_model_module": "@jupyter-widgets/base",
            "_model_module_version": "1.2.0",
            "_model_name": "LayoutModel",
            "_view_count": null,
            "_view_module": "@jupyter-widgets/base",
            "_view_module_version": "1.2.0",
            "_view_name": "LayoutView",
            "align_content": null,
            "align_items": null,
            "align_self": null,
            "border": null,
            "bottom": null,
            "display": null,
            "flex": null,
            "flex_flow": null,
            "grid_area": null,
            "grid_auto_columns": null,
            "grid_auto_flow": null,
            "grid_auto_rows": null,
            "grid_column": null,
            "grid_gap": null,
            "grid_row": null,
            "grid_template_areas": null,
            "grid_template_columns": null,
            "grid_template_rows": null,
            "height": null,
            "justify_content": null,
            "justify_items": null,
            "left": null,
            "margin": null,
            "max_height": null,
            "max_width": null,
            "min_height": null,
            "min_width": null,
            "object_fit": null,
            "object_position": null,
            "order": null,
            "overflow": null,
            "overflow_x": null,
            "overflow_y": null,
            "padding": null,
            "right": null,
            "top": null,
            "visibility": null,
            "width": null
          }
        },
        "8b87146682714f9394465afb70fb6296": {
          "model_module": "@jupyter-widgets/controls",
          "model_module_version": "1.5.0",
          "model_name": "HTMLModel",
          "state": {
            "_dom_classes": [],
            "_model_module": "@jupyter-widgets/controls",
            "_model_module_version": "1.5.0",
            "_model_name": "HTMLModel",
            "_view_count": null,
            "_view_module": "@jupyter-widgets/controls",
            "_view_module_version": "1.5.0",
            "_view_name": "HTMLView",
            "description": "",
            "description_tooltip": null,
            "layout": "IPY_MODEL_475e8bc25e844eb7bda64024f6fd328b",
            "placeholder": "​",
            "style": "IPY_MODEL_06b297ce68a54494925355922e6a3e60",
            "value": " 7844/7844 [00:02&lt;00:00, 3109.57 examples/s]"
          }
        },
        "8f571f239ad54eb19d35da67e47ddea9": {
          "model_module": "@jupyter-widgets/base",
          "model_module_version": "1.2.0",
          "model_name": "LayoutModel",
          "state": {
            "_model_module": "@jupyter-widgets/base",
            "_model_module_version": "1.2.0",
            "_model_name": "LayoutModel",
            "_view_count": null,
            "_view_module": "@jupyter-widgets/base",
            "_view_module_version": "1.2.0",
            "_view_name": "LayoutView",
            "align_content": null,
            "align_items": null,
            "align_self": null,
            "border": null,
            "bottom": null,
            "display": null,
            "flex": null,
            "flex_flow": null,
            "grid_area": null,
            "grid_auto_columns": null,
            "grid_auto_flow": null,
            "grid_auto_rows": null,
            "grid_column": null,
            "grid_gap": null,
            "grid_row": null,
            "grid_template_areas": null,
            "grid_template_columns": null,
            "grid_template_rows": null,
            "height": null,
            "justify_content": null,
            "justify_items": null,
            "left": null,
            "margin": null,
            "max_height": null,
            "max_width": null,
            "min_height": null,
            "min_width": null,
            "object_fit": null,
            "object_position": null,
            "order": null,
            "overflow": null,
            "overflow_x": null,
            "overflow_y": null,
            "padding": null,
            "right": null,
            "top": null,
            "visibility": null,
            "width": null
          }
        },
        "94072eee12234d52906f701dbaec4ea7": {
          "model_module": "@jupyter-widgets/base",
          "model_module_version": "1.2.0",
          "model_name": "LayoutModel",
          "state": {
            "_model_module": "@jupyter-widgets/base",
            "_model_module_version": "1.2.0",
            "_model_name": "LayoutModel",
            "_view_count": null,
            "_view_module": "@jupyter-widgets/base",
            "_view_module_version": "1.2.0",
            "_view_name": "LayoutView",
            "align_content": null,
            "align_items": null,
            "align_self": null,
            "border": null,
            "bottom": null,
            "display": null,
            "flex": null,
            "flex_flow": null,
            "grid_area": null,
            "grid_auto_columns": null,
            "grid_auto_flow": null,
            "grid_auto_rows": null,
            "grid_column": null,
            "grid_gap": null,
            "grid_row": null,
            "grid_template_areas": null,
            "grid_template_columns": null,
            "grid_template_rows": null,
            "height": null,
            "justify_content": null,
            "justify_items": null,
            "left": null,
            "margin": null,
            "max_height": null,
            "max_width": null,
            "min_height": null,
            "min_width": null,
            "object_fit": null,
            "object_position": null,
            "order": null,
            "overflow": null,
            "overflow_x": null,
            "overflow_y": null,
            "padding": null,
            "right": null,
            "top": null,
            "visibility": null,
            "width": null
          }
        },
        "96cf6bd80b23485a91309f97fceae386": {
          "model_module": "@jupyter-widgets/controls",
          "model_module_version": "1.5.0",
          "model_name": "HTMLModel",
          "state": {
            "_dom_classes": [],
            "_model_module": "@jupyter-widgets/controls",
            "_model_module_version": "1.5.0",
            "_model_name": "HTMLModel",
            "_view_count": null,
            "_view_module": "@jupyter-widgets/controls",
            "_view_module_version": "1.5.0",
            "_view_name": "HTMLView",
            "description": "",
            "description_tooltip": null,
            "layout": "IPY_MODEL_dd28b99c3789438ba123044f9d8bd481",
            "placeholder": "​",
            "style": "IPY_MODEL_11d0b1de79104633bd46099d3fc9f845",
            "value": "Map: 100%"
          }
        },
        "98077a70b5aa4738b2f9ce21fc8a76f8": {
          "model_module": "@jupyter-widgets/base",
          "model_module_version": "1.2.0",
          "model_name": "LayoutModel",
          "state": {
            "_model_module": "@jupyter-widgets/base",
            "_model_module_version": "1.2.0",
            "_model_name": "LayoutModel",
            "_view_count": null,
            "_view_module": "@jupyter-widgets/base",
            "_view_module_version": "1.2.0",
            "_view_name": "LayoutView",
            "align_content": null,
            "align_items": null,
            "align_self": null,
            "border": null,
            "bottom": null,
            "display": null,
            "flex": null,
            "flex_flow": null,
            "grid_area": null,
            "grid_auto_columns": null,
            "grid_auto_flow": null,
            "grid_auto_rows": null,
            "grid_column": null,
            "grid_gap": null,
            "grid_row": null,
            "grid_template_areas": null,
            "grid_template_columns": null,
            "grid_template_rows": null,
            "height": null,
            "justify_content": null,
            "justify_items": null,
            "left": null,
            "margin": null,
            "max_height": null,
            "max_width": null,
            "min_height": null,
            "min_width": null,
            "object_fit": null,
            "object_position": null,
            "order": null,
            "overflow": null,
            "overflow_x": null,
            "overflow_y": null,
            "padding": null,
            "right": null,
            "top": null,
            "visibility": null,
            "width": null
          }
        },
        "9be7ad77cfbb4aebbf850bce0d703286": {
          "model_module": "@jupyter-widgets/controls",
          "model_module_version": "1.5.0",
          "model_name": "HBoxModel",
          "state": {
            "_dom_classes": [],
            "_model_module": "@jupyter-widgets/controls",
            "_model_module_version": "1.5.0",
            "_model_name": "HBoxModel",
            "_view_count": null,
            "_view_module": "@jupyter-widgets/controls",
            "_view_module_version": "1.5.0",
            "_view_name": "HBoxView",
            "box_style": "",
            "children": [
              "IPY_MODEL_96cf6bd80b23485a91309f97fceae386",
              "IPY_MODEL_6793d6aa02fe4992b2a3079935804e68",
              "IPY_MODEL_8b87146682714f9394465afb70fb6296"
            ],
            "layout": "IPY_MODEL_8602ffeb4a5548f3b88e0011ff526b60"
          }
        },
        "9e58f857ee8a43ac94614686ba82cf82": {
          "model_module": "@jupyter-widgets/controls",
          "model_module_version": "1.5.0",
          "model_name": "HBoxModel",
          "state": {
            "_dom_classes": [],
            "_model_module": "@jupyter-widgets/controls",
            "_model_module_version": "1.5.0",
            "_model_name": "HBoxModel",
            "_view_count": null,
            "_view_module": "@jupyter-widgets/controls",
            "_view_module_version": "1.5.0",
            "_view_name": "HBoxView",
            "box_style": "",
            "children": [
              "IPY_MODEL_21078359f8b64f1f9e5b70fbb559ac5e",
              "IPY_MODEL_0536305995ae41b989c00348dec37a50",
              "IPY_MODEL_da40c55164824b2e81fef416cea0bdf3"
            ],
            "layout": "IPY_MODEL_45e0ffdc378040c8b8fb62172c321be5"
          }
        },
        "9f06f76e74ba4d4493a2b3810fa78501": {
          "model_module": "@jupyter-widgets/controls",
          "model_module_version": "1.5.0",
          "model_name": "HTMLModel",
          "state": {
            "_dom_classes": [],
            "_model_module": "@jupyter-widgets/controls",
            "_model_module_version": "1.5.0",
            "_model_name": "HTMLModel",
            "_view_count": null,
            "_view_module": "@jupyter-widgets/controls",
            "_view_module_version": "1.5.0",
            "_view_name": "HTMLView",
            "description": "",
            "description_tooltip": null,
            "layout": "IPY_MODEL_e6639753498c44abbb25f2dd39f224a6",
            "placeholder": "​",
            "style": "IPY_MODEL_0ae5dd4c69154c36ac6409002dbfdbe3",
            "value": "Map: 100%"
          }
        },
        "ac8fd8833f8b434c98ebf9de7fd7c956": {
          "model_module": "@jupyter-widgets/base",
          "model_module_version": "1.2.0",
          "model_name": "LayoutModel",
          "state": {
            "_model_module": "@jupyter-widgets/base",
            "_model_module_version": "1.2.0",
            "_model_name": "LayoutModel",
            "_view_count": null,
            "_view_module": "@jupyter-widgets/base",
            "_view_module_version": "1.2.0",
            "_view_name": "LayoutView",
            "align_content": null,
            "align_items": null,
            "align_self": null,
            "border": null,
            "bottom": null,
            "display": null,
            "flex": null,
            "flex_flow": null,
            "grid_area": null,
            "grid_auto_columns": null,
            "grid_auto_flow": null,
            "grid_auto_rows": null,
            "grid_column": null,
            "grid_gap": null,
            "grid_row": null,
            "grid_template_areas": null,
            "grid_template_columns": null,
            "grid_template_rows": null,
            "height": null,
            "justify_content": null,
            "justify_items": null,
            "left": null,
            "margin": null,
            "max_height": null,
            "max_width": null,
            "min_height": null,
            "min_width": null,
            "object_fit": null,
            "object_position": null,
            "order": null,
            "overflow": null,
            "overflow_x": null,
            "overflow_y": null,
            "padding": null,
            "right": null,
            "top": null,
            "visibility": null,
            "width": null
          }
        },
        "afde76acb7cd4642967e74fc01cc5e60": {
          "model_module": "@jupyter-widgets/controls",
          "model_module_version": "1.5.0",
          "model_name": "FloatProgressModel",
          "state": {
            "_dom_classes": [],
            "_model_module": "@jupyter-widgets/controls",
            "_model_module_version": "1.5.0",
            "_model_name": "FloatProgressModel",
            "_view_count": null,
            "_view_module": "@jupyter-widgets/controls",
            "_view_module_version": "1.5.0",
            "_view_name": "ProgressView",
            "bar_style": "success",
            "description": "",
            "description_tooltip": null,
            "layout": "IPY_MODEL_98077a70b5aa4738b2f9ce21fc8a76f8",
            "max": 7844,
            "min": 0,
            "orientation": "horizontal",
            "style": "IPY_MODEL_6c0eae3868aa4ea98c7c1106aba4cb84",
            "value": 7844
          }
        },
        "b0387ec16b2346d6a690f8bd8ef7aae9": {
          "model_module": "@jupyter-widgets/base",
          "model_module_version": "1.2.0",
          "model_name": "LayoutModel",
          "state": {
            "_model_module": "@jupyter-widgets/base",
            "_model_module_version": "1.2.0",
            "_model_name": "LayoutModel",
            "_view_count": null,
            "_view_module": "@jupyter-widgets/base",
            "_view_module_version": "1.2.0",
            "_view_name": "LayoutView",
            "align_content": null,
            "align_items": null,
            "align_self": null,
            "border": null,
            "bottom": null,
            "display": null,
            "flex": null,
            "flex_flow": null,
            "grid_area": null,
            "grid_auto_columns": null,
            "grid_auto_flow": null,
            "grid_auto_rows": null,
            "grid_column": null,
            "grid_gap": null,
            "grid_row": null,
            "grid_template_areas": null,
            "grid_template_columns": null,
            "grid_template_rows": null,
            "height": null,
            "justify_content": null,
            "justify_items": null,
            "left": null,
            "margin": null,
            "max_height": null,
            "max_width": null,
            "min_height": null,
            "min_width": null,
            "object_fit": null,
            "object_position": null,
            "order": null,
            "overflow": null,
            "overflow_x": null,
            "overflow_y": null,
            "padding": null,
            "right": null,
            "top": null,
            "visibility": null,
            "width": null
          }
        },
        "bed90884638d44a1a0e8f2002485a49c": {
          "model_module": "@jupyter-widgets/controls",
          "model_module_version": "1.5.0",
          "model_name": "HTMLModel",
          "state": {
            "_dom_classes": [],
            "_model_module": "@jupyter-widgets/controls",
            "_model_module_version": "1.5.0",
            "_model_name": "HTMLModel",
            "_view_count": null,
            "_view_module": "@jupyter-widgets/controls",
            "_view_module_version": "1.5.0",
            "_view_name": "HTMLView",
            "description": "",
            "description_tooltip": null,
            "layout": "IPY_MODEL_08d07e9439494aa895b90bda386cd2d9",
            "placeholder": "​",
            "style": "IPY_MODEL_c284a26712fc46a49f40081765203b11",
            "value": " 7844/7844 [00:02&lt;00:00, 4942.70 examples/s]"
          }
        },
        "c284a26712fc46a49f40081765203b11": {
          "model_module": "@jupyter-widgets/controls",
          "model_module_version": "1.5.0",
          "model_name": "DescriptionStyleModel",
          "state": {
            "_model_module": "@jupyter-widgets/controls",
            "_model_module_version": "1.5.0",
            "_model_name": "DescriptionStyleModel",
            "_view_count": null,
            "_view_module": "@jupyter-widgets/base",
            "_view_module_version": "1.2.0",
            "_view_name": "StyleView",
            "description_width": ""
          }
        },
        "d6a09da0033a4fff88ce7ad041ea5151": {
          "model_module": "@jupyter-widgets/controls",
          "model_module_version": "1.5.0",
          "model_name": "DescriptionStyleModel",
          "state": {
            "_model_module": "@jupyter-widgets/controls",
            "_model_module_version": "1.5.0",
            "_model_name": "DescriptionStyleModel",
            "_view_count": null,
            "_view_module": "@jupyter-widgets/base",
            "_view_module_version": "1.2.0",
            "_view_name": "StyleView",
            "description_width": ""
          }
        },
        "da40c55164824b2e81fef416cea0bdf3": {
          "model_module": "@jupyter-widgets/controls",
          "model_module_version": "1.5.0",
          "model_name": "HTMLModel",
          "state": {
            "_dom_classes": [],
            "_model_module": "@jupyter-widgets/controls",
            "_model_module_version": "1.5.0",
            "_model_name": "HTMLModel",
            "_view_count": null,
            "_view_module": "@jupyter-widgets/controls",
            "_view_module_version": "1.5.0",
            "_view_name": "HTMLView",
            "description": "",
            "description_tooltip": null,
            "layout": "IPY_MODEL_8f571f239ad54eb19d35da67e47ddea9",
            "placeholder": "​",
            "style": "IPY_MODEL_fb07aa128c734c1396a8d2e8e46dfd7e",
            "value": " 157/157 [03:34&lt;00:00,  1.17s/it]"
          }
        },
        "dd28b99c3789438ba123044f9d8bd481": {
          "model_module": "@jupyter-widgets/base",
          "model_module_version": "1.2.0",
          "model_name": "LayoutModel",
          "state": {
            "_model_module": "@jupyter-widgets/base",
            "_model_module_version": "1.2.0",
            "_model_name": "LayoutModel",
            "_view_count": null,
            "_view_module": "@jupyter-widgets/base",
            "_view_module_version": "1.2.0",
            "_view_name": "LayoutView",
            "align_content": null,
            "align_items": null,
            "align_self": null,
            "border": null,
            "bottom": null,
            "display": null,
            "flex": null,
            "flex_flow": null,
            "grid_area": null,
            "grid_auto_columns": null,
            "grid_auto_flow": null,
            "grid_auto_rows": null,
            "grid_column": null,
            "grid_gap": null,
            "grid_row": null,
            "grid_template_areas": null,
            "grid_template_columns": null,
            "grid_template_rows": null,
            "height": null,
            "justify_content": null,
            "justify_items": null,
            "left": null,
            "margin": null,
            "max_height": null,
            "max_width": null,
            "min_height": null,
            "min_width": null,
            "object_fit": null,
            "object_position": null,
            "order": null,
            "overflow": null,
            "overflow_x": null,
            "overflow_y": null,
            "padding": null,
            "right": null,
            "top": null,
            "visibility": null,
            "width": null
          }
        },
        "e6639753498c44abbb25f2dd39f224a6": {
          "model_module": "@jupyter-widgets/base",
          "model_module_version": "1.2.0",
          "model_name": "LayoutModel",
          "state": {
            "_model_module": "@jupyter-widgets/base",
            "_model_module_version": "1.2.0",
            "_model_name": "LayoutModel",
            "_view_count": null,
            "_view_module": "@jupyter-widgets/base",
            "_view_module_version": "1.2.0",
            "_view_name": "LayoutView",
            "align_content": null,
            "align_items": null,
            "align_self": null,
            "border": null,
            "bottom": null,
            "display": null,
            "flex": null,
            "flex_flow": null,
            "grid_area": null,
            "grid_auto_columns": null,
            "grid_auto_flow": null,
            "grid_auto_rows": null,
            "grid_column": null,
            "grid_gap": null,
            "grid_row": null,
            "grid_template_areas": null,
            "grid_template_columns": null,
            "grid_template_rows": null,
            "height": null,
            "justify_content": null,
            "justify_items": null,
            "left": null,
            "margin": null,
            "max_height": null,
            "max_width": null,
            "min_height": null,
            "min_width": null,
            "object_fit": null,
            "object_position": null,
            "order": null,
            "overflow": null,
            "overflow_x": null,
            "overflow_y": null,
            "padding": null,
            "right": null,
            "top": null,
            "visibility": null,
            "width": null
          }
        },
        "fb07aa128c734c1396a8d2e8e46dfd7e": {
          "model_module": "@jupyter-widgets/controls",
          "model_module_version": "1.5.0",
          "model_name": "DescriptionStyleModel",
          "state": {
            "_model_module": "@jupyter-widgets/controls",
            "_model_module_version": "1.5.0",
            "_model_name": "DescriptionStyleModel",
            "_view_count": null,
            "_view_module": "@jupyter-widgets/base",
            "_view_module_version": "1.2.0",
            "_view_name": "StyleView",
            "description_width": ""
          }
        }
      }
    }
  },
  "nbformat": 4,
  "nbformat_minor": 0
}
